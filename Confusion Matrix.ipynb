{
 "cells": [
  {
   "cell_type": "code",
   "execution_count": 1,
   "metadata": {},
   "outputs": [],
   "source": [
    "from sklearn.metrics import confusion_matrix\n",
    "import itertools"
   ]
  },
  {
   "cell_type": "code",
   "execution_count": 2,
   "metadata": {},
   "outputs": [
    {
     "name": "stderr",
     "output_type": "stream",
     "text": [
      "C:\\Users\\user\\anaconda3\\lib\\site-packages\\tensorflow\\python\\framework\\dtypes.py:516: FutureWarning: Passing (type, 1) or '1type' as a synonym of type is deprecated; in a future version of numpy, it will be understood as (type, (1,)) / '(1,)type'.\n",
      "  _np_qint8 = np.dtype([(\"qint8\", np.int8, 1)])\n",
      "C:\\Users\\user\\anaconda3\\lib\\site-packages\\tensorflow\\python\\framework\\dtypes.py:517: FutureWarning: Passing (type, 1) or '1type' as a synonym of type is deprecated; in a future version of numpy, it will be understood as (type, (1,)) / '(1,)type'.\n",
      "  _np_quint8 = np.dtype([(\"quint8\", np.uint8, 1)])\n",
      "C:\\Users\\user\\anaconda3\\lib\\site-packages\\tensorflow\\python\\framework\\dtypes.py:518: FutureWarning: Passing (type, 1) or '1type' as a synonym of type is deprecated; in a future version of numpy, it will be understood as (type, (1,)) / '(1,)type'.\n",
      "  _np_qint16 = np.dtype([(\"qint16\", np.int16, 1)])\n",
      "C:\\Users\\user\\anaconda3\\lib\\site-packages\\tensorflow\\python\\framework\\dtypes.py:519: FutureWarning: Passing (type, 1) or '1type' as a synonym of type is deprecated; in a future version of numpy, it will be understood as (type, (1,)) / '(1,)type'.\n",
      "  _np_quint16 = np.dtype([(\"quint16\", np.uint16, 1)])\n",
      "C:\\Users\\user\\anaconda3\\lib\\site-packages\\tensorflow\\python\\framework\\dtypes.py:520: FutureWarning: Passing (type, 1) or '1type' as a synonym of type is deprecated; in a future version of numpy, it will be understood as (type, (1,)) / '(1,)type'.\n",
      "  _np_qint32 = np.dtype([(\"qint32\", np.int32, 1)])\n",
      "C:\\Users\\user\\anaconda3\\lib\\site-packages\\tensorflow\\python\\framework\\dtypes.py:525: FutureWarning: Passing (type, 1) or '1type' as a synonym of type is deprecated; in a future version of numpy, it will be understood as (type, (1,)) / '(1,)type'.\n",
      "  np_resource = np.dtype([(\"resource\", np.ubyte, 1)])\n",
      "C:\\Users\\user\\anaconda3\\lib\\site-packages\\tensorboard\\compat\\tensorflow_stub\\dtypes.py:541: FutureWarning: Passing (type, 1) or '1type' as a synonym of type is deprecated; in a future version of numpy, it will be understood as (type, (1,)) / '(1,)type'.\n",
      "  _np_qint8 = np.dtype([(\"qint8\", np.int8, 1)])\n",
      "C:\\Users\\user\\anaconda3\\lib\\site-packages\\tensorboard\\compat\\tensorflow_stub\\dtypes.py:542: FutureWarning: Passing (type, 1) or '1type' as a synonym of type is deprecated; in a future version of numpy, it will be understood as (type, (1,)) / '(1,)type'.\n",
      "  _np_quint8 = np.dtype([(\"quint8\", np.uint8, 1)])\n",
      "C:\\Users\\user\\anaconda3\\lib\\site-packages\\tensorboard\\compat\\tensorflow_stub\\dtypes.py:543: FutureWarning: Passing (type, 1) or '1type' as a synonym of type is deprecated; in a future version of numpy, it will be understood as (type, (1,)) / '(1,)type'.\n",
      "  _np_qint16 = np.dtype([(\"qint16\", np.int16, 1)])\n",
      "C:\\Users\\user\\anaconda3\\lib\\site-packages\\tensorboard\\compat\\tensorflow_stub\\dtypes.py:544: FutureWarning: Passing (type, 1) or '1type' as a synonym of type is deprecated; in a future version of numpy, it will be understood as (type, (1,)) / '(1,)type'.\n",
      "  _np_quint16 = np.dtype([(\"quint16\", np.uint16, 1)])\n",
      "C:\\Users\\user\\anaconda3\\lib\\site-packages\\tensorboard\\compat\\tensorflow_stub\\dtypes.py:545: FutureWarning: Passing (type, 1) or '1type' as a synonym of type is deprecated; in a future version of numpy, it will be understood as (type, (1,)) / '(1,)type'.\n",
      "  _np_qint32 = np.dtype([(\"qint32\", np.int32, 1)])\n",
      "C:\\Users\\user\\anaconda3\\lib\\site-packages\\tensorboard\\compat\\tensorflow_stub\\dtypes.py:550: FutureWarning: Passing (type, 1) or '1type' as a synonym of type is deprecated; in a future version of numpy, it will be understood as (type, (1,)) / '(1,)type'.\n",
      "  np_resource = np.dtype([(\"resource\", np.ubyte, 1)])\n"
     ]
    }
   ],
   "source": [
    "import numpy as np\n",
    "import cv2\n",
    "import glob\n",
    "import matplotlib.pyplot as plt\n",
    "import tensorflow as tf\n",
    "import pickle\n",
    "import os\n",
    "import pandas as pd\n",
    "from tensorflow.keras.layers import Dense, Dropout, Activation, Flatten, Conv2D, MaxPooling2D, BatchNormalization\n",
    "from tensorflow.keras import Sequential\n",
    "from tensorflow.keras.callbacks import ModelCheckpoint\n",
    "from sklearn.preprocessing import OneHotEncoder\n",
    "import future \n",
    "from tensorflow.keras.callbacks import TensorBoard\n",
    "from sklearn.model_selection import train_test_split\n",
    "seed = 100\n",
    "np.random.seed(seed)\n",
    "import matplotlib.pyplot as plt\n",
    "from tensorflow.keras.models import load_model\n",
    "from tensorflow.keras.applications.inception_v3 import InceptionV3\n",
    "from tensorflow.keras.layers import Input\n",
    "import sklearn.metrics as metrics"
   ]
  },
  {
   "cell_type": "markdown",
   "metadata": {},
   "source": [
    "# picture1"
   ]
  },
  {
   "cell_type": "code",
   "execution_count": 209,
   "metadata": {
    "scrolled": true
   },
   "outputs": [
    {
     "name": "stdout",
     "output_type": "stream",
     "text": [
      "Images are all in read_images\n",
      "(40000, 100, 100)\n",
      "Shape of x_train is (32000,100,100,1)\n",
      "Shape of x_test is (8000,100,100,1)\n",
      "Shape of y_train is (32000,1)\n",
      "Shape of y_test is (8000,1)\n",
      "Shape of y_train is (32000,8)\n"
     ]
    }
   ],
   "source": [
    "path='C:\\\\Users\\\\user\\\\Desktop\\\\project\\\\picture'\n",
    "folder_list =[]\n",
    "folder = glob.glob(path)\n",
    "for folder in folder :\n",
    "    for name in glob.glob(folder+'/*'):\n",
    "        folder_list.append(name)\n",
    "\n",
    "image_name =[]\n",
    "for folder in folder_list:\n",
    "    for name in glob.glob(folder+'/*.jpg') :\n",
    "        image_name.append(name)\n",
    "        \n",
    "read_images = []\n",
    "for image in image_name:\n",
    "    img = cv2.imread(image)\n",
    "    img = cv2.cvtColor(img, cv2.COLOR_BGR2GRAY)\n",
    "    read_images.append(img)\n",
    "read_images = np.array(read_images)\n",
    "print ('Images are all in read_images')\n",
    "print(read_images.shape)  \n",
    "\n",
    "\n",
    "x = read_images\n",
    "#split = np.random.choice(40000,8000,replace=False)\n",
    "\n",
    "y = np.array(np.repeat(range(1,9),5000).reshape(-1,1))\n",
    "x_train, x_test, y_train, y_test = train_test_split(x, y, test_size=0.20, random_state=seed,shuffle=True) \n",
    "x_test = x_test.reshape(x_test.shape[0],100,100,1)\n",
    "x_train = x_train.reshape(x_train.shape[0],100,100,1)\n",
    "\n",
    "print('Shape of x_train is (%d,%d,%d,%d)'%(x_train.shape))\n",
    "print('Shape of x_test is (%d,%d,%d,%d)'%(x_test.shape))\n",
    "print('Shape of y_train is (%d,%d)'%(y_train.shape))\n",
    "print('Shape of y_test is (%d,%d)'%(y_test.shape))\n",
    "onehot = OneHotEncoder()\n",
    "\n",
    "y_train = onehot.fit_transform(y_train).toarray()\n",
    "y_test_ori = y_test\n",
    "y_test = onehot.fit_transform(y_test).toarray()\n",
    "print('Shape of y_train is (%d,%d)'%(y_train.shape))"
   ]
  },
  {
   "cell_type": "markdown",
   "metadata": {},
   "source": [
    "### vgg16--60--p1"
   ]
  },
  {
   "cell_type": "code",
   "execution_count": 211,
   "metadata": {},
   "outputs": [],
   "source": [
    "#vgg16-60\n",
    "\n",
    "def plot_confusion_matrix(cm, classes,acc,\n",
    "                          title='Confusion matrix',\n",
    "                          cmap=plt.cm.jet):\n",
    "    cm = cm.astype('float') / cm.sum(axis=1)[:, np.newaxis]\n",
    "    plt.imshow(cm, interpolation='nearest', cmap=cmap)\n",
    "    \n",
    "    plt.suptitle('VGG16(Picture 01)',y=1.01,fontsize=14)\n",
    "    plt.title(title+'(accuracy='+str(acc)+')')\n",
    "    plt.colorbar()\n",
    "    tick_marks = np.arange(len(classes))\n",
    "    plt.xticks(tick_marks,np.arange(1,8+1) , rotation=45)\n",
    "    plt.yticks(tick_marks,np.arange(1,8+1)  )\n",
    "    thresh = cm.max() / 2.\n",
    "    for i, j in itertools.product(range(cm.shape[0]), range(cm.shape[1])):\n",
    "        plt.text(j, i, '{:.2f}'.format(cm[i, j]), horizontalalignment=\"center\",\n",
    "                 color=\"white\" if cm[i, j] > thresh else \"black\")\n",
    "    plt.tight_layout()\n",
    "    plt.ylabel('True label')\n",
    "    plt.xlabel('Predicted label')\n",
    "    \n",
    "    plt.tight_layout()\n",
    "    plt.savefig(r'C:\\Users\\user\\Desktop\\project\\final_model\\vgg_picture\\confusion_matrix_vgg16_picture01.jpg', bbox_inches='tight') \n",
    "    plt.show()\n",
    "\n",
    "    \n",
    "    \n",
    "    \n",
    "# 显示混淆矩阵\n",
    "def plot_confuse(model, x_val, y_val,acc):\n",
    "    predictions = model.predict_classes(x_val)\n",
    "    truelabel = y_val.argmax(axis=-1)   # 将one-hot转化为label\n",
    "    conf_mat = confusion_matrix(y_true=truelabel, y_pred=predictions)\n",
    "    plt.figure()\n",
    "    plot_confusion_matrix(conf_mat, range(np.max(truelabel)+1),acc)\n",
    "   "
   ]
  },
  {
   "cell_type": "code",
   "execution_count": 212,
   "metadata": {
    "scrolled": true
   },
   "outputs": [
    {
     "data": {
      "image/png": "[encoded data removed]",
      "text/plain": [
       "<Figure size 432x288 with 2 Axes>"
      ]
     },
     "metadata": {
      "needs_background": "light"
     },
     "output_type": "display_data"
    }
   ],
   "source": [
    "# vgg-60\n",
    "\n",
    "#model01=load_model(r'C:\\Users\\user\\Desktop\\project\\final_model\\vgg_picture\\model_iter60_6.hdf5') \n",
    "#a=model01.evaluate(x_test,y_test)\n",
    "plot_confuse(model01, x_test, y_test,round(a[1],4))"
   ]
  },
  {
   "cell_type": "code",
   "execution_count": null,
   "metadata": {},
   "outputs": [],
   "source": [
    "### kappa"
   ]
  },
  {
   "cell_type": "code",
   "execution_count": 245,
   "metadata": {
    "scrolled": false
   },
   "outputs": [
    {
     "data": {
      "text/plain": [
       "array([8, 7, 3, ..., 5, 7, 7])"
      ]
     },
     "execution_count": 245,
     "metadata": {},
     "output_type": "execute_result"
    }
   ],
   "source": [
    "y_test_ori=y_test_ori.flatten()\n",
    "y_test_ori"
   ]
  },
  {
   "cell_type": "code",
   "execution_count": 246,
   "metadata": {},
   "outputs": [
    {
     "data": {
      "text/plain": [
       "array([3, 6, 2, ..., 7, 6, 6], dtype=int64)"
      ]
     },
     "execution_count": 246,
     "metadata": {},
     "output_type": "execute_result"
    }
   ],
   "source": [
    "#prediction = np.argmax(model01.predict(x_test),axis= 1)\n",
    "prediction"
   ]
  },
  {
   "cell_type": "code",
   "execution_count": 248,
   "metadata": {
    "scrolled": true
   },
   "outputs": [
    {
     "data": {
      "text/plain": [
       "-0.07455988775226396"
      ]
     },
     "execution_count": 248,
     "metadata": {},
     "output_type": "execute_result"
    }
   ],
   "source": [
    "metrics.cohen_kappa_score(y_test_ori, prediction) "
   ]
  },
  {
   "cell_type": "code",
   "execution_count": null,
   "metadata": {},
   "outputs": [],
   "source": []
  },
  {
   "cell_type": "code",
   "execution_count": null,
   "metadata": {},
   "outputs": [],
   "source": []
  },
  {
   "cell_type": "code",
   "execution_count": null,
   "metadata": {},
   "outputs": [],
   "source": []
  },
  {
   "cell_type": "markdown",
   "metadata": {},
   "source": [
    "### incv3--60-p1"
   ]
  },
  {
   "cell_type": "code",
   "execution_count": 249,
   "metadata": {},
   "outputs": [],
   "source": [
    "def plot_confusion_matrix(cm, classes,acc,\n",
    "                          title='Confusion matrix',\n",
    "                          cmap=plt.cm.jet):\n",
    "    cm = cm.astype('float') / cm.sum(axis=1)[:, np.newaxis]\n",
    "    plt.imshow(cm, interpolation='nearest', cmap=cmap)\n",
    "    \n",
    "    plt.suptitle('Inception v3(Picture 01)',y=1.01,fontsize=14)\n",
    "    plt.title(title+'(accuracy='+str(acc)+')')\n",
    "    plt.colorbar()\n",
    "    tick_marks = np.arange(len(classes))\n",
    "    plt.xticks(tick_marks,np.arange(1,8+1) , rotation=45)\n",
    "    plt.yticks(tick_marks,np.arange(1,8+1)  )\n",
    "    thresh = cm.max() / 2.\n",
    "    for i, j in itertools.product(range(cm.shape[0]), range(cm.shape[1])):\n",
    "        plt.text(j, i, '{:.2f}'.format(cm[i, j]), horizontalalignment=\"center\",\n",
    "                 color=\"white\" if cm[i, j] > thresh else \"black\")\n",
    "    plt.tight_layout()\n",
    "    plt.ylabel('True label')\n",
    "    plt.xlabel('Predicted label')\n",
    "    plt.tight_layout()\n",
    "    plt.savefig(r'C:\\Users\\user\\Desktop\\project\\final_model\\inceptionv3_picture\\confusion_matrix_inceptionv3_picture01.jpg', bbox_inches='tight') \n",
    "    plt.show()\n",
    "\n",
    "    \n",
    "    \n",
    "    \n",
    "# 显示混淆矩阵\n",
    "def plot_confuse(model, x_val, y_val,acc):\n",
    "    predictions = model.predict_classes(x_val)\n",
    "    truelabel = y_val.argmax(axis=-1)   # 将one-hot转化为label\n",
    "    conf_mat = confusion_matrix(y_true=truelabel, y_pred=predictions)\n",
    "    plt.figure()\n",
    "    plot_confusion_matrix(conf_mat, range(np.max(truelabel)+1),acc)\n",
    "   "
   ]
  },
  {
   "cell_type": "code",
   "execution_count": 250,
   "metadata": {
    "scrolled": true
   },
   "outputs": [
    {
     "name": "stdout",
     "output_type": "stream",
     "text": [
      "8000/8000 [==============================] - 16s 2ms/sample - loss: 1.3100 - acc: 0.7411\n"
     ]
    },
    {
     "data": {
      "image/png": "[encoded data removed]",
      "text/plain": [
       "<Figure size 432x288 with 2 Axes>"
      ]
     },
     "metadata": {
      "needs_background": "light"
     },
     "output_type": "display_data"
    }
   ],
   "source": [
    "model02=load_model(r'C:\\Users\\user\\Desktop\\project\\final_model\\inceptionv3_picture\\model_iter60_4.hdf5') \n",
    "a=model02.evaluate(x_test,y_test)\n",
    "plot_confuse(model02, x_test, y_test,round(a[1],4))"
   ]
  },
  {
   "cell_type": "code",
   "execution_count": null,
   "metadata": {},
   "outputs": [],
   "source": [
    "# KAPPA"
   ]
  },
  {
   "cell_type": "code",
   "execution_count": 252,
   "metadata": {},
   "outputs": [
    {
     "data": {
      "text/plain": [
       "array([7, 6, 2, ..., 7, 6, 6], dtype=int64)"
      ]
     },
     "execution_count": 252,
     "metadata": {},
     "output_type": "execute_result"
    }
   ],
   "source": [
    "y_test_ori=y_test_ori.flatten()\n",
    "y_test_ori\n",
    "prediction = np.argmax(model02.predict(x_test),axis= 1)\n",
    "prediction\n",
    "metrics.cohen_kappa_score(y_test_ori, prediction) "
   ]
  },
  {
   "cell_type": "code",
   "execution_count": 253,
   "metadata": {},
   "outputs": [
    {
     "data": {
      "text/plain": [
       "-0.07386764798791123"
      ]
     },
     "execution_count": 253,
     "metadata": {},
     "output_type": "execute_result"
    }
   ],
   "source": []
  },
  {
   "cell_type": "markdown",
   "metadata": {},
   "source": [
    "# picture02 進入 model_vgg16_picture01、model_inceptionv3_picture01測試"
   ]
  },
  {
   "cell_type": "code",
   "execution_count": 255,
   "metadata": {},
   "outputs": [
    {
     "name": "stdout",
     "output_type": "stream",
     "text": [
      "Images are all in read_images\n",
      "(40000, 100, 100)\n",
      "Shape of x_train is (32000,100,100,1)\n",
      "Shape of x_test is (8000,100,100,1)\n",
      "Shape of y_train is (32000,1)\n",
      "Shape of y_test is (8000,1)\n",
      "Shape of y_train is (32000,8)\n"
     ]
    }
   ],
   "source": [
    "path='C:\\\\Users\\\\user\\\\Desktop\\\\project\\\\picture_2'\n",
    "folder_list =[]\n",
    "folder = glob.glob(path)\n",
    "for folder in folder :\n",
    "    for name in glob.glob(folder+'/*'):\n",
    "        folder_list.append(name)\n",
    "\n",
    "image_name =[]\n",
    "for folder in folder_list:\n",
    "    for name in glob.glob(folder+'/*.jpg') :\n",
    "        image_name.append(name)\n",
    "        \n",
    "read_images = []\n",
    "for image in image_name:\n",
    "    img = cv2.imread(image)\n",
    "    img = cv2.cvtColor(img, cv2.COLOR_BGR2GRAY)\n",
    "    read_images.append(img)\n",
    "read_images = np.array(read_images)\n",
    "print ('Images are all in read_images')\n",
    "print(read_images.shape)  \n",
    "\n",
    "\n",
    "x = read_images\n",
    "#split = np.random.choice(40000,8000,replace=False)\n",
    "\n",
    "y = np.array(np.repeat(range(1,9),5000).reshape(-1,1))\n",
    "x_train, x_test, y_train, y_test = train_test_split(x, y, test_size=0.20, random_state=seed,shuffle=True) \n",
    "x_test = x_test.reshape(x_test.shape[0],100,100,1)\n",
    "x_train = x_train.reshape(x_train.shape[0],100,100,1)\n",
    "\n",
    "print('Shape of x_train is (%d,%d,%d,%d)'%(x_train.shape))\n",
    "print('Shape of x_test is (%d,%d,%d,%d)'%(x_test.shape))\n",
    "print('Shape of y_train is (%d,%d)'%(y_train.shape))\n",
    "print('Shape of y_test is (%d,%d)'%(y_test.shape))\n",
    "onehot = OneHotEncoder()\n",
    "\n",
    "y_train = onehot.fit_transform(y_train).toarray()\n",
    "y_test_ori = y_test\n",
    "y_test = onehot.fit_transform(y_test).toarray()\n",
    "print('Shape of y_train is (%d,%d)'%(y_train.shape))\n",
    "\n"
   ]
  },
  {
   "cell_type": "code",
   "execution_count": null,
   "metadata": {},
   "outputs": [],
   "source": []
  },
  {
   "cell_type": "code",
   "execution_count": null,
   "metadata": {},
   "outputs": [],
   "source": []
  },
  {
   "cell_type": "code",
   "execution_count": null,
   "metadata": {},
   "outputs": [],
   "source": []
  },
  {
   "cell_type": "markdown",
   "metadata": {},
   "source": [
    "# 各細類 ------------------------------------------------------------------------------"
   ]
  },
  {
   "cell_type": "code",
   "execution_count": 98,
   "metadata": {
    "scrolled": false
   },
   "outputs": [],
   "source": [
    "def file_extension(path):\n",
    "    return os.path.split(path)[1]\n",
    "\n",
    "label=[]\n",
    "\n",
    "for i in range(0,len(image_name)):\n",
    "    path=image_name[i]\n",
    "    str(path)\n",
    "    if file_extension(path).split('_')[0]=='8':\n",
    "        la=['8','0']\n",
    "        label.append(la)\n",
    "    else:    \n",
    "        first=file_extension(path).split('_')[0]\n",
    "        two=file_extension(path).split('_')[1]\n",
    "        la=[file_extension(path).split('_')[0],file_extension(path).split('_')[1]]\n",
    "        label.append(la)\n",
    "    \n",
    "x = read_images\n",
    "#split = np.random.choice(40000,8000,replace=False)\n",
    "y=label\n",
    "#y = np.array(np.repeat(range(1,9),5000).reshape(-1,1))\n",
    "x_train, x_test, y_train, y_test = train_test_split(x, y, test_size=0.20, random_state=seed,shuffle=True) \n",
    "x_test = x_test.reshape(x_test.shape[0],100,100,1)\n",
    "x_train = x_train.reshape(x_train.shape[0],100,100,1)\n",
    "\n",
    "print('Shape of x_train is (%d,%d,%d,%d)'%(x_train.shape))\n",
    "print('Shape of x_test is (%d,%d,%d,%d)'%(x_test.shape))\n",
    "#print('Shape of y_train is (%d,%d)'%(y_train.shape))\n",
    "#print('Shape of y_test is (%d,%d)'%(y_test.shape))\n",
    "onehot = OneHotEncoder()\n",
    "\n",
    "y_train = onehot.fit_transform(y_train).toarray()\n",
    "y_test_ori = y_test\n",
    "#y_test = onehot.fit_transform(y_test).toarray()\n",
    "#print('Shape of y_train is (%d,%d)'%(y_train.shape))      "
   ]
  },
  {
   "cell_type": "markdown",
   "metadata": {},
   "source": [
    "### test02 --model_vgg16_picture01"
   ]
  },
  {
   "cell_type": "code",
   "execution_count": 91,
   "metadata": {
    "scrolled": false
   },
   "outputs": [
    {
     "name": "stdout",
     "output_type": "stream",
     "text": [
      "WARNING:tensorflow:From C:\\Users\\user\\anaconda3\\lib\\site-packages\\tensorflow\\python\\ops\\init_ops.py:97: calling GlorotUniform.__init__ (from tensorflow.python.ops.init_ops) with dtype is deprecated and will be removed in a future version.\n",
      "Instructions for updating:\n",
      "Call initializer instance with the dtype argument instead of passing it to the constructor\n",
      "WARNING:tensorflow:From C:\\Users\\user\\anaconda3\\lib\\site-packages\\tensorflow\\python\\ops\\init_ops.py:1251: calling VarianceScaling.__init__ (from tensorflow.python.ops.init_ops) with dtype is deprecated and will be removed in a future version.\n",
      "Instructions for updating:\n",
      "Call initializer instance with the dtype argument instead of passing it to the constructor\n",
      "WARNING:tensorflow:From C:\\Users\\user\\anaconda3\\lib\\site-packages\\tensorflow\\python\\ops\\init_ops.py:97: calling Zeros.__init__ (from tensorflow.python.ops.init_ops) with dtype is deprecated and will be removed in a future version.\n",
      "Instructions for updating:\n",
      "Call initializer instance with the dtype argument instead of passing it to the constructor\n",
      "WARNING:tensorflow:From C:\\Users\\user\\anaconda3\\lib\\site-packages\\tensorflow\\python\\ops\\init_ops.py:97: calling Ones.__init__ (from tensorflow.python.ops.init_ops) with dtype is deprecated and will be removed in a future version.\n",
      "Instructions for updating:\n",
      "Call initializer instance with the dtype argument instead of passing it to the constructor\n"
     ]
    }
   ],
   "source": [
    "model01=load_model(r'C:\\Users\\user\\Desktop\\project\\final_model\\vgg_picture\\model_iter60_6.hdf5') "
   ]
  },
  {
   "cell_type": "code",
   "execution_count": 157,
   "metadata": {
    "scrolled": true
   },
   "outputs": [
    {
     "data": {
      "text/html": [
       "<div>\n",
       "<style scoped>\n",
       "    .dataframe tbody tr th:only-of-type {\n",
       "        vertical-align: middle;\n",
       "    }\n",
       "\n",
       "    .dataframe tbody tr th {\n",
       "        vertical-align: top;\n",
       "    }\n",
       "\n",
       "    .dataframe thead th {\n",
       "        text-align: right;\n",
       "    }\n",
       "</style>\n",
       "<table border=\"1\" class=\"dataframe\">\n",
       "  <thead>\n",
       "    <tr style=\"text-align: right;\">\n",
       "      <th></th>\n",
       "      <th>key_0</th>\n",
       "      <th>first</th>\n",
       "      <th>two</th>\n",
       "      <th>true</th>\n",
       "      <th>acc</th>\n",
       "    </tr>\n",
       "  </thead>\n",
       "  <tbody>\n",
       "    <tr>\n",
       "      <th>79</th>\n",
       "      <td>79</td>\n",
       "      <td>1</td>\n",
       "      <td>1</td>\n",
       "      <td>1</td>\n",
       "      <td>1</td>\n",
       "    </tr>\n",
       "    <tr>\n",
       "      <th>178</th>\n",
       "      <td>178</td>\n",
       "      <td>1</td>\n",
       "      <td>1</td>\n",
       "      <td>1</td>\n",
       "      <td>1</td>\n",
       "    </tr>\n",
       "    <tr>\n",
       "      <th>180</th>\n",
       "      <td>180</td>\n",
       "      <td>1</td>\n",
       "      <td>1</td>\n",
       "      <td>1</td>\n",
       "      <td>1</td>\n",
       "    </tr>\n",
       "    <tr>\n",
       "      <th>192</th>\n",
       "      <td>192</td>\n",
       "      <td>1</td>\n",
       "      <td>1</td>\n",
       "      <td>1</td>\n",
       "      <td>1</td>\n",
       "    </tr>\n",
       "    <tr>\n",
       "      <th>207</th>\n",
       "      <td>207</td>\n",
       "      <td>1</td>\n",
       "      <td>1</td>\n",
       "      <td>1</td>\n",
       "      <td>1</td>\n",
       "    </tr>\n",
       "    <tr>\n",
       "      <th>...</th>\n",
       "      <td>...</td>\n",
       "      <td>...</td>\n",
       "      <td>...</td>\n",
       "      <td>...</td>\n",
       "      <td>...</td>\n",
       "    </tr>\n",
       "    <tr>\n",
       "      <th>7932</th>\n",
       "      <td>7932</td>\n",
       "      <td>8</td>\n",
       "      <td>0</td>\n",
       "      <td>5</td>\n",
       "      <td>0</td>\n",
       "    </tr>\n",
       "    <tr>\n",
       "      <th>7945</th>\n",
       "      <td>7945</td>\n",
       "      <td>8</td>\n",
       "      <td>0</td>\n",
       "      <td>8</td>\n",
       "      <td>1</td>\n",
       "    </tr>\n",
       "    <tr>\n",
       "      <th>7951</th>\n",
       "      <td>7951</td>\n",
       "      <td>8</td>\n",
       "      <td>0</td>\n",
       "      <td>8</td>\n",
       "      <td>1</td>\n",
       "    </tr>\n",
       "    <tr>\n",
       "      <th>7970</th>\n",
       "      <td>7970</td>\n",
       "      <td>8</td>\n",
       "      <td>0</td>\n",
       "      <td>5</td>\n",
       "      <td>0</td>\n",
       "    </tr>\n",
       "    <tr>\n",
       "      <th>7990</th>\n",
       "      <td>7990</td>\n",
       "      <td>8</td>\n",
       "      <td>0</td>\n",
       "      <td>5</td>\n",
       "      <td>0</td>\n",
       "    </tr>\n",
       "  </tbody>\n",
       "</table>\n",
       "<p>8000 rows × 5 columns</p>\n",
       "</div>"
      ],
      "text/plain": [
       "      key_0 first two  true  acc\n",
       "79       79     1   1     1    1\n",
       "178     178     1   1     1    1\n",
       "180     180     1   1     1    1\n",
       "192     192     1   1     1    1\n",
       "207     207     1   1     1    1\n",
       "...     ...   ...  ..   ...  ...\n",
       "7932   7932     8   0     5    0\n",
       "7945   7945     8   0     8    1\n",
       "7951   7951     8   0     8    1\n",
       "7970   7970     8   0     5    0\n",
       "7990   7990     8   0     5    0\n",
       "\n",
       "[8000 rows x 5 columns]"
      ]
     },
     "execution_count": 157,
     "metadata": {},
     "output_type": "execute_result"
    }
   ],
   "source": [
    "value=model01.predict(x_test)\n",
    "predict=np.argmax(value,axis=1)+1\n",
    "predict[1:20]\n",
    "\n",
    "a=pd.DataFrame(predict)\n",
    "a=a.rename(columns={0:'true'})\n",
    "b=pd.DataFrame(y_test_ori)\n",
    "b=b.rename(columns={0:'first', 1:'two'})\n",
    "c= pd.merge(b, a, how='left',on=b.index)\n",
    "c[1:50]\n",
    "\n",
    "c['acc']=0\n",
    "for i in range(0,len(predict)):\n",
    "     c['acc'].iloc[i]=np.where(c['first'][i]==str(c['true'][i]),1,0)\n",
    "\n",
    "\n",
    "\n",
    "\n",
    "c_sort=c.sort_values(by=['first','two'])\n",
    "c_sort"
   ]
  },
  {
   "cell_type": "code",
   "execution_count": 175,
   "metadata": {},
   "outputs": [
    {
     "name": "stdout",
     "output_type": "stream",
     "text": [
      "\n",
      "two\n",
      "1    0.921466\n",
      "2    0.009302\n",
      "3    0.897561\n",
      "4    0.000000\n",
      "5    0.057803\n",
      "dtype: float64\n"
     ]
    }
   ],
   "source": [
    "# 馬賽克\n",
    "fliter = (c_sort[\"first\"] == \"1\")\n",
    "group1=c_sort[fliter]\n",
    "print(group1.groupby('two')['acc'].sum()/group1.groupby('two').size())"
   ]
  },
  {
   "cell_type": "code",
   "execution_count": 174,
   "metadata": {},
   "outputs": [
    {
     "name": "stdout",
     "output_type": "stream",
     "text": [
      "two\n",
      "1    204\n",
      "2    197\n",
      "3    215\n",
      "4    226\n",
      "5    192\n",
      "dtype: int64\n",
      "two\n",
      "1    0.475490\n",
      "2    0.979695\n",
      "3    0.953488\n",
      "4    0.876106\n",
      "5    0.796875\n",
      "dtype: float64\n"
     ]
    }
   ],
   "source": [
    "# 內縮\n",
    "fliter = (c_sort[\"first\"] == \"2\")\n",
    "group2=c_sort[fliter]\n",
    "print(group2.groupby('two')['acc'].sum()/group2.groupby('two').size())"
   ]
  },
  {
   "cell_type": "code",
   "execution_count": 176,
   "metadata": {},
   "outputs": [
    {
     "name": "stdout",
     "output_type": "stream",
     "text": [
      "two\n",
      "1    0.343590\n",
      "2    1.000000\n",
      "3    0.838889\n",
      "4    0.587065\n",
      "5    0.455959\n",
      "dtype: float64\n"
     ]
    }
   ],
   "source": [
    "# 外擴\n",
    "\n",
    "fliter = (c_sort[\"first\"] == \"3\")\n",
    "group3=c_sort[fliter]\n",
    "print(group3.groupby('two')['acc'].sum()/group3.groupby('two').size())"
   ]
  },
  {
   "cell_type": "code",
   "execution_count": 179,
   "metadata": {},
   "outputs": [
    {
     "name": "stdout",
     "output_type": "stream",
     "text": [
      "two\n",
      "1    0.030769\n",
      "2    0.090164\n",
      "3    0.029412\n",
      "4    0.017544\n",
      "5    0.070312\n",
      "6    0.033058\n",
      "7    0.040984\n",
      "8    0.053030\n",
      "dtype: float64\n"
     ]
    }
   ],
   "source": [
    "# 亮度\n",
    "\n",
    "fliter = (c_sort[\"first\"] == \"4\")\n",
    "group4=c_sort[fliter]\n",
    "print(group4.groupby('two')['acc'].sum()/group4.groupby('two').size())"
   ]
  },
  {
   "cell_type": "code",
   "execution_count": 180,
   "metadata": {},
   "outputs": [
    {
     "name": "stdout",
     "output_type": "stream",
     "text": [
      "two\n",
      "1    0.073171\n",
      "2    0.093220\n",
      "3    0.131783\n",
      "4    0.085470\n",
      "5    0.146341\n",
      "6    0.068966\n",
      "7    0.061069\n",
      "8    0.100000\n",
      "dtype: float64\n"
     ]
    }
   ],
   "source": [
    "# 對比\n",
    "\n",
    "fliter = (c_sort[\"first\"] == \"5\")\n",
    "group5=c_sort[fliter]\n",
    "print(group5.groupby('two')['acc'].sum()/group5.groupby('two').size())"
   ]
  },
  {
   "cell_type": "code",
   "execution_count": 181,
   "metadata": {},
   "outputs": [
    {
     "name": "stdout",
     "output_type": "stream",
     "text": [
      "two\n",
      "1    0.486641\n",
      "2    0.464213\n",
      "dtype: float64\n"
     ]
    }
   ],
   "source": [
    "# 銳化\n",
    "\n",
    "fliter = (c_sort[\"first\"] == \"6\")\n",
    "group6=c_sort[fliter]\n",
    "print(group6.groupby('two')['acc'].sum()/group6.groupby('two').size())"
   ]
  },
  {
   "cell_type": "code",
   "execution_count": 182,
   "metadata": {
    "scrolled": true
   },
   "outputs": [
    {
     "name": "stdout",
     "output_type": "stream",
     "text": [
      "two\n",
      "1    0.029963\n",
      "2    0.000000\n",
      "3    0.008403\n",
      "4    0.765690\n",
      "dtype: float64\n"
     ]
    }
   ],
   "source": [
    "# 黏貼\n",
    "\n",
    "fliter = (c_sort[\"first\"] == \"7\")\n",
    "group7=c_sort[fliter]\n",
    "print(group7.groupby('two')['acc'].sum()/group7.groupby('two').size())"
   ]
  },
  {
   "cell_type": "code",
   "execution_count": null,
   "metadata": {},
   "outputs": [],
   "source": []
  },
  {
   "cell_type": "code",
   "execution_count": 256,
   "metadata": {},
   "outputs": [],
   "source": [
    "model01=load_model(r'C:\\Users\\user\\Desktop\\project\\final_model\\vgg_picture\\model_iter60_6.hdf5') "
   ]
  },
  {
   "cell_type": "code",
   "execution_count": 259,
   "metadata": {},
   "outputs": [],
   "source": [
    "def plot_confusion_matrix(cm, classes,acc,title='Confusion matrix',cmap=plt.cm.jet):\n",
    "    \n",
    "    cm = cm.astype('float') / cm.sum(axis=1)[:, np.newaxis]\n",
    "    plt.imshow(cm, interpolation='nearest', cmap=cmap)\n",
    "    \n",
    "    plt.suptitle('model_vgg16_picture01 vs test02',y=1.01,fontsize=14)\n",
    "    plt.title(title+'(accuracy='+str(acc)+')')\n",
    "    plt.colorbar()\n",
    "    tick_marks = np.arange(len(classes))\n",
    "    plt.xticks(tick_marks,np.arange(1,8+1) , rotation=45)\n",
    "    plt.yticks(tick_marks,np.arange(1,8+1)  )\n",
    "    thresh = cm.max() / 2.\n",
    "    for i, j in itertools.product(range(cm.shape[0]), range(cm.shape[1])):\n",
    "        plt.text(j, i, '{:.2f}'.format(cm[i, j]), horizontalalignment=\"center\",\n",
    "                 color=\"white\" if cm[i, j] > thresh else \"black\")\n",
    "    plt.tight_layout()\n",
    "    plt.ylabel('True label')\n",
    "    plt.xlabel('Predicted label')\n",
    "    plt.tight_layout()\n",
    "    plt.savefig(r'C:\\Users\\user\\Desktop\\project\\final_model\\confusion_matrix_test02_model_vgg16_picture01.jpg',bbox_inches='tight') \n",
    "    plt.show()\n",
    "\n",
    "    \n",
    "    \n",
    "    \n",
    "# 显示混淆矩阵\n",
    "def plot_confuse(model, x_val, y_val,acc):\n",
    "    predictions = model.predict_classes(x_val)\n",
    "    truelabel = y_val.argmax(axis=-1)   # 将one-hot转化为label\n",
    "    conf_mat = confusion_matrix(y_true=truelabel, y_pred=predictions)\n",
    "    plt.figure()\n",
    "    plot_confusion_matrix(conf_mat, range(np.max(truelabel)+1),acc)\n",
    "   "
   ]
  },
  {
   "cell_type": "code",
   "execution_count": 260,
   "metadata": {
    "scrolled": true
   },
   "outputs": [
    {
     "data": {
      "image/png": "[encoded data removed]",
      "text/plain": [
       "<Figure size 432x288 with 2 Axes>"
      ]
     },
     "metadata": {
      "needs_background": "light"
     },
     "output_type": "display_data"
    }
   ],
   "source": [
    "#a=model01.evaluate(x_test,y_test)\n",
    "plot_confuse(model01, x_test, y_test,round(a[1],4))"
   ]
  },
  {
   "cell_type": "markdown",
   "metadata": {},
   "source": [
    "### test02 --model_inception v3_picture01"
   ]
  },
  {
   "cell_type": "code",
   "execution_count": 261,
   "metadata": {},
   "outputs": [],
   "source": [
    "model02=load_model(r'C:\\Users\\user\\Desktop\\project\\final_model\\inceptionv3_picture\\model_iter60_4.hdf5')"
   ]
  },
  {
   "cell_type": "code",
   "execution_count": 22,
   "metadata": {},
   "outputs": [],
   "source": [
    "def plot_confusion_matrix(cm, classes,acc,\n",
    "                          title='Confusion matrix',\n",
    "                          cmap=plt.cm.jet):\n",
    "    cm = cm.astype('float') / cm.sum(axis=1)[:, np.newaxis]\n",
    "    plt.imshow(cm, interpolation='nearest', cmap=cmap)\n",
    "    \n",
    "    plt.suptitle('model_incv3_picture01 vs test02',y=1.01,fontsize=14)\n",
    "    plt.title(title+'(accuracy='+str(acc)+')')\n",
    "    plt.colorbar()\n",
    "    tick_marks = np.arange(len(classes))\n",
    "    plt.xticks(tick_marks,np.arange(1,8+1) , rotation=45)\n",
    "    plt.yticks(tick_marks,np.arange(1,8+1)  )\n",
    "    thresh = cm.max() / 2.\n",
    "    for i, j in itertools.product(range(cm.shape[0]), range(cm.shape[1])):\n",
    "        plt.text(j, i, '{:.2f}'.format(cm[i, j]), horizontalalignment=\"center\",\n",
    "                 color=\"white\" if cm[i, j] > thresh else \"black\")\n",
    "    plt.tight_layout()\n",
    "    plt.ylabel('True label')\n",
    "    plt.xlabel('Predicted label')\n",
    "    plt.tight_layout()\n",
    "    plt.savefig(r'C:\\Users\\user\\Desktop\\project\\final_model\\confusion_matrix_test02_model_incv3_picture01.jpg',bbox_inches='tight') \n",
    "    plt.show()\n",
    "\n",
    "    \n",
    "    \n",
    "    \n",
    "# 显示混淆矩阵\n",
    "def plot_confuse(model, x_val, y_val,acc):\n",
    "    predictions = model.predict_classes(x_val)\n",
    "    truelabel = y_val.argmax(axis=-1)   # 将one-hot转化为label\n",
    "    conf_mat = confusion_matrix(y_true=truelabel, y_pred=predictions)\n",
    "    plt.figure()\n",
    "    plot_confusion_matrix(conf_mat, range(np.max(truelabel)+1),acc)\n",
    "   "
   ]
  },
  {
   "cell_type": "code",
   "execution_count": 263,
   "metadata": {
    "scrolled": true
   },
   "outputs": [
    {
     "name": "stdout",
     "output_type": "stream",
     "text": [
      "8000/8000 [==============================] - 15s 2ms/sample - loss: 4.6691 - acc: 0.4137\n"
     ]
    },
    {
     "data": {
      "image/png": "[encoded data removed]",
      "text/plain": [
       "<Figure size 432x288 with 2 Axes>"
      ]
     },
     "metadata": {
      "needs_background": "light"
     },
     "output_type": "display_data"
    }
   ],
   "source": [
    "a=model02.evaluate(x_test,y_test)\n",
    "plot_confuse(model02, x_test, y_test,round(a[1],4))"
   ]
  },
  {
   "cell_type": "code",
   "execution_count": 33,
   "metadata": {},
   "outputs": [
    {
     "name": "stdout",
     "output_type": "stream",
     "text": [
      "Images are all in read_images\n",
      "(40000, 100, 100)\n",
      "Shape of x_train is (32000,100,100,1)\n",
      "Shape of x_test is (8000,100,100,1)\n"
     ]
    }
   ],
   "source": [
    "path='C:\\\\Users\\\\user\\\\Desktop\\\\project\\\\picture_2'\n",
    "folder_list =[]\n",
    "folder = glob.glob(path)\n",
    "for folder in folder :\n",
    "    for name in glob.glob(folder+'/*'):\n",
    "        folder_list.append(name)\n",
    "\n",
    "image_name =[]\n",
    "for folder in folder_list:\n",
    "    for name in glob.glob(folder+'/*.jpg') :\n",
    "        image_name.append(name)\n",
    "        \n",
    "read_images = []\n",
    "for image in image_name:\n",
    "    img = cv2.imread(image)\n",
    "    img = cv2.cvtColor(img, cv2.COLOR_BGR2GRAY)\n",
    "    read_images.append(img)\n",
    "read_images = np.array(read_images)\n",
    "print ('Images are all in read_images')\n",
    "print(read_images.shape)  \n",
    "\n",
    "############################################################################################################\n",
    "\n",
    "def file_extension(path):\n",
    "    return os.path.split(path)[1]\n",
    "\n",
    "label=[]\n",
    "\n",
    "for i in range(0,len(image_name)):\n",
    "    path=image_name[i]\n",
    "    str(path)\n",
    "    if file_extension(path).split('_')[0]=='8':\n",
    "        la=['8','0']\n",
    "        label.append(la)\n",
    "    else:    \n",
    "        first=file_extension(path).split('_')[0]\n",
    "        two=file_extension(path).split('_')[1]\n",
    "        la=[file_extension(path).split('_')[0],file_extension(path).split('_')[1]]\n",
    "        label.append(la)\n",
    "    \n",
    "x = read_images\n",
    "#split = np.random.choice(40000,8000,replace=False)\n",
    "y=label\n",
    "#y = np.array(np.repeat(range(1,9),5000).reshape(-1,1))\n",
    "x_train, x_test, y_train, y_test = train_test_split(x, y, test_size=0.20, random_state=seed,shuffle=True) \n",
    "x_test = x_test.reshape(x_test.shape[0],100,100,1)\n",
    "x_train = x_train.reshape(x_train.shape[0],100,100,1)\n",
    "\n",
    "print('Shape of x_train is (%d,%d,%d,%d)'%(x_train.shape))\n",
    "print('Shape of x_test is (%d,%d,%d,%d)'%(x_test.shape))\n",
    "#print('Shape of y_train is (%d,%d)'%(y_train.shape))\n",
    "#print('Shape of y_test is (%d,%d)'%(y_test.shape))\n",
    "onehot = OneHotEncoder()\n",
    "\n",
    "y_train = onehot.fit_transform(y_train).toarray()\n",
    "y_test_ori = y_test\n",
    "#y_test = onehot.fit_transform(y_test).toarray()\n",
    "#print('Shape of y_train is (%d,%d)'%(y_train.shape))    "
   ]
  },
  {
   "cell_type": "code",
   "execution_count": 13,
   "metadata": {},
   "outputs": [],
   "source": [
    "model02=load_model(r'C:\\Users\\user\\Desktop\\project\\final_model\\inceptionv3_picture\\model_iter60_4.hdf5')"
   ]
  },
  {
   "cell_type": "code",
   "execution_count": 34,
   "metadata": {},
   "outputs": [
    {
     "name": "stderr",
     "output_type": "stream",
     "text": [
      "C:\\Users\\user\\anaconda3\\lib\\site-packages\\pandas\\core\\indexing.py:670: SettingWithCopyWarning: \n",
      "A value is trying to be set on a copy of a slice from a DataFrame\n",
      "\n",
      "See the caveats in the documentation: https://pandas.pydata.org/pandas-docs/stable/user_guide/indexing.html#returning-a-view-versus-a-copy\n",
      "  self._setitem_with_indexer(indexer, value)\n"
     ]
    },
    {
     "data": {
      "text/html": [
       "<div>\n",
       "<style scoped>\n",
       "    .dataframe tbody tr th:only-of-type {\n",
       "        vertical-align: middle;\n",
       "    }\n",
       "\n",
       "    .dataframe tbody tr th {\n",
       "        vertical-align: top;\n",
       "    }\n",
       "\n",
       "    .dataframe thead th {\n",
       "        text-align: right;\n",
       "    }\n",
       "</style>\n",
       "<table border=\"1\" class=\"dataframe\">\n",
       "  <thead>\n",
       "    <tr style=\"text-align: right;\">\n",
       "      <th></th>\n",
       "      <th>key_0</th>\n",
       "      <th>first</th>\n",
       "      <th>two</th>\n",
       "      <th>true</th>\n",
       "      <th>acc</th>\n",
       "    </tr>\n",
       "  </thead>\n",
       "  <tbody>\n",
       "    <tr>\n",
       "      <th>79</th>\n",
       "      <td>79</td>\n",
       "      <td>1</td>\n",
       "      <td>1</td>\n",
       "      <td>1</td>\n",
       "      <td>1</td>\n",
       "    </tr>\n",
       "    <tr>\n",
       "      <th>178</th>\n",
       "      <td>178</td>\n",
       "      <td>1</td>\n",
       "      <td>1</td>\n",
       "      <td>1</td>\n",
       "      <td>1</td>\n",
       "    </tr>\n",
       "    <tr>\n",
       "      <th>180</th>\n",
       "      <td>180</td>\n",
       "      <td>1</td>\n",
       "      <td>1</td>\n",
       "      <td>1</td>\n",
       "      <td>1</td>\n",
       "    </tr>\n",
       "    <tr>\n",
       "      <th>192</th>\n",
       "      <td>192</td>\n",
       "      <td>1</td>\n",
       "      <td>1</td>\n",
       "      <td>1</td>\n",
       "      <td>1</td>\n",
       "    </tr>\n",
       "    <tr>\n",
       "      <th>207</th>\n",
       "      <td>207</td>\n",
       "      <td>1</td>\n",
       "      <td>1</td>\n",
       "      <td>1</td>\n",
       "      <td>1</td>\n",
       "    </tr>\n",
       "    <tr>\n",
       "      <th>...</th>\n",
       "      <td>...</td>\n",
       "      <td>...</td>\n",
       "      <td>...</td>\n",
       "      <td>...</td>\n",
       "      <td>...</td>\n",
       "    </tr>\n",
       "    <tr>\n",
       "      <th>7932</th>\n",
       "      <td>7932</td>\n",
       "      <td>8</td>\n",
       "      <td>0</td>\n",
       "      <td>4</td>\n",
       "      <td>0</td>\n",
       "    </tr>\n",
       "    <tr>\n",
       "      <th>7945</th>\n",
       "      <td>7945</td>\n",
       "      <td>8</td>\n",
       "      <td>0</td>\n",
       "      <td>4</td>\n",
       "      <td>0</td>\n",
       "    </tr>\n",
       "    <tr>\n",
       "      <th>7951</th>\n",
       "      <td>7951</td>\n",
       "      <td>8</td>\n",
       "      <td>0</td>\n",
       "      <td>5</td>\n",
       "      <td>0</td>\n",
       "    </tr>\n",
       "    <tr>\n",
       "      <th>7970</th>\n",
       "      <td>7970</td>\n",
       "      <td>8</td>\n",
       "      <td>0</td>\n",
       "      <td>8</td>\n",
       "      <td>1</td>\n",
       "    </tr>\n",
       "    <tr>\n",
       "      <th>7990</th>\n",
       "      <td>7990</td>\n",
       "      <td>8</td>\n",
       "      <td>0</td>\n",
       "      <td>5</td>\n",
       "      <td>0</td>\n",
       "    </tr>\n",
       "  </tbody>\n",
       "</table>\n",
       "<p>8000 rows × 5 columns</p>\n",
       "</div>"
      ],
      "text/plain": [
       "      key_0 first two  true  acc\n",
       "79       79     1   1     1    1\n",
       "178     178     1   1     1    1\n",
       "180     180     1   1     1    1\n",
       "192     192     1   1     1    1\n",
       "207     207     1   1     1    1\n",
       "...     ...   ...  ..   ...  ...\n",
       "7932   7932     8   0     4    0\n",
       "7945   7945     8   0     4    0\n",
       "7951   7951     8   0     5    0\n",
       "7970   7970     8   0     8    1\n",
       "7990   7990     8   0     5    0\n",
       "\n",
       "[8000 rows x 5 columns]"
      ]
     },
     "execution_count": 34,
     "metadata": {},
     "output_type": "execute_result"
    }
   ],
   "source": [
    "value=model02.predict(x_test)\n",
    "predict=np.argmax(value,axis=1)+1\n",
    "predict[1:20]\n",
    "\n",
    "a=pd.DataFrame(predict)\n",
    "a=a.rename(columns={0:'true'})\n",
    "b=pd.DataFrame(y_test_ori)\n",
    "b=b.rename(columns={0:'first', 1:'two'})\n",
    "c= pd.merge(b, a, how='left',on=b.index)\n",
    "c[1:50]\n",
    "\n",
    "c['acc']=0\n",
    "for i in range(0,len(predict)):\n",
    "     c['acc'].iloc[i]=np.where(c['first'][i]==str(c['true'][i]),1,0)\n",
    "\n",
    "\n",
    "\n",
    "\n",
    "c_sort=c.sort_values(by=['first','two'])\n",
    "c_sort"
   ]
  },
  {
   "cell_type": "code",
   "execution_count": 35,
   "metadata": {},
   "outputs": [
    {
     "name": "stdout",
     "output_type": "stream",
     "text": [
      "two\n",
      "1    0.984293\n",
      "2    0.004651\n",
      "3    0.956098\n",
      "4    0.005208\n",
      "5    0.976879\n",
      "dtype: float64\n"
     ]
    }
   ],
   "source": [
    "# 馬賽克\n",
    "fliter = (c_sort[\"first\"] == \"1\")\n",
    "group1=c_sort[fliter]\n",
    "print(group1.groupby('two')['acc'].sum()/group1.groupby('two').size())"
   ]
  },
  {
   "cell_type": "code",
   "execution_count": 36,
   "metadata": {
    "scrolled": false
   },
   "outputs": [
    {
     "name": "stdout",
     "output_type": "stream",
     "text": [
      "two\n",
      "1    0.750000\n",
      "2    0.928934\n",
      "3    0.930233\n",
      "4    0.942478\n",
      "5    0.911458\n",
      "dtype: float64\n"
     ]
    }
   ],
   "source": [
    "#內縮\n",
    "fliter = (c_sort[\"first\"] == \"2\")\n",
    "group2=c_sort[fliter]\n",
    "print(group2.groupby('two')['acc'].sum()/group2.groupby('two').size())"
   ]
  },
  {
   "cell_type": "code",
   "execution_count": 37,
   "metadata": {},
   "outputs": [
    {
     "name": "stdout",
     "output_type": "stream",
     "text": [
      "two\n",
      "1    0.656410\n",
      "2    0.970149\n",
      "3    0.905556\n",
      "4    0.890547\n",
      "5    0.839378\n",
      "dtype: float64\n"
     ]
    }
   ],
   "source": [
    "# 外\n",
    "fliter = (c_sort[\"first\"] == \"3\")\n",
    "group3=c_sort[fliter]\n",
    "print(group3.groupby('two')['acc'].sum()/group3.groupby('two').size())"
   ]
  },
  {
   "cell_type": "code",
   "execution_count": 38,
   "metadata": {},
   "outputs": [
    {
     "name": "stdout",
     "output_type": "stream",
     "text": [
      "two\n",
      "1    0.107692\n",
      "2    0.122951\n",
      "3    0.110294\n",
      "4    0.096491\n",
      "5    0.070312\n",
      "6    0.024793\n",
      "7    0.057377\n",
      "8    0.075758\n",
      "dtype: float64\n"
     ]
    }
   ],
   "source": [
    "# 亮度\n",
    "fliter = (c_sort[\"first\"] == \"4\")\n",
    "group4=c_sort[fliter]\n",
    "print(group4.groupby('two')['acc'].sum()/group4.groupby('two').size())"
   ]
  },
  {
   "cell_type": "code",
   "execution_count": 39,
   "metadata": {},
   "outputs": [
    {
     "name": "stdout",
     "output_type": "stream",
     "text": [
      "two\n",
      "1    0.130081\n",
      "2    0.220339\n",
      "3    0.147287\n",
      "4    0.128205\n",
      "5    0.146341\n",
      "6    0.137931\n",
      "7    0.152672\n",
      "8    0.153846\n",
      "dtype: float64\n"
     ]
    }
   ],
   "source": [
    "# 對比\n",
    "fliter = (c_sort[\"first\"] == \"5\")\n",
    "group5=c_sort[fliter]\n",
    "print(group5.groupby('two')['acc'].sum()/group5.groupby('two').size())"
   ]
  },
  {
   "cell_type": "code",
   "execution_count": 40,
   "metadata": {},
   "outputs": [
    {
     "name": "stdout",
     "output_type": "stream",
     "text": [
      "two\n",
      "1    0.377863\n",
      "2    0.333333\n",
      "dtype: float64\n"
     ]
    }
   ],
   "source": [
    "# 銳\n",
    "fliter = (c_sort[\"first\"] == \"6\")\n",
    "group6=c_sort[fliter]\n",
    "print(group6.groupby('two')['acc'].sum()/group6.groupby('two').size())"
   ]
  },
  {
   "cell_type": "code",
   "execution_count": 41,
   "metadata": {},
   "outputs": [
    {
     "name": "stdout",
     "output_type": "stream",
     "text": [
      "two\n",
      "1    0.041199\n",
      "2    0.047059\n",
      "3    0.000000\n",
      "4    0.276151\n",
      "dtype: float64\n"
     ]
    }
   ],
   "source": [
    "# 黏貼\n",
    "fliter = (c_sort[\"first\"] == \"7\")\n",
    "group7=c_sort[fliter]\n",
    "print(group7.groupby('two')['acc'].sum()/group7.groupby('two').size())"
   ]
  },
  {
   "cell_type": "code",
   "execution_count": null,
   "metadata": {},
   "outputs": [],
   "source": []
  },
  {
   "cell_type": "markdown",
   "metadata": {},
   "source": [
    "#  test02 進入 model_vgg16_picture02"
   ]
  },
  {
   "cell_type": "code",
   "execution_count": 264,
   "metadata": {},
   "outputs": [
    {
     "name": "stdout",
     "output_type": "stream",
     "text": [
      "Images are all in read_images\n",
      "(40000, 100, 100)\n",
      "Shape of x_train is (32000,100,100,1)\n",
      "Shape of x_test is (8000,100,100,1)\n",
      "Shape of y_train is (32000,1)\n",
      "Shape of y_test is (8000,1)\n",
      "Shape of y_train is (32000,8)\n"
     ]
    }
   ],
   "source": [
    "path='C:\\\\Users\\\\user\\\\Desktop\\\\project\\\\picture_2'\n",
    "folder_list =[]\n",
    "folder = glob.glob(path)\n",
    "for folder in folder :\n",
    "    for name in glob.glob(folder+'/*'):\n",
    "        folder_list.append(name)\n",
    "\n",
    "image_name =[]\n",
    "for folder in folder_list:\n",
    "    for name in glob.glob(folder+'/*.jpg') :\n",
    "        image_name.append(name)\n",
    "        \n",
    "read_images = []\n",
    "for image in image_name:\n",
    "    img = cv2.imread(image)\n",
    "    img = cv2.cvtColor(img, cv2.COLOR_BGR2GRAY)\n",
    "    read_images.append(img)\n",
    "read_images = np.array(read_images)\n",
    "print ('Images are all in read_images')\n",
    "print(read_images.shape)  \n",
    "\n",
    "\n",
    "x = read_images\n",
    "#split = np.random.choice(40000,8000,replace=False)\n",
    "\n",
    "y = np.array(np.repeat(range(1,9),5000).reshape(-1,1))\n",
    "x_train, x_test, y_train, y_test = train_test_split(x, y, test_size=0.20, random_state=seed,shuffle=True) \n",
    "x_test = x_test.reshape(x_test.shape[0],100,100,1)\n",
    "x_train = x_train.reshape(x_train.shape[0],100,100,1)\n",
    "\n",
    "print('Shape of x_train is (%d,%d,%d,%d)'%(x_train.shape))\n",
    "print('Shape of x_test is (%d,%d,%d,%d)'%(x_test.shape))\n",
    "print('Shape of y_train is (%d,%d)'%(y_train.shape))\n",
    "print('Shape of y_test is (%d,%d)'%(y_test.shape))\n",
    "onehot = OneHotEncoder()\n",
    "\n",
    "y_train = onehot.fit_transform(y_train).toarray()\n",
    "y_test_ori = y_test\n",
    "y_test = onehot.fit_transform(y_test).toarray()\n",
    "print('Shape of y_train is (%d,%d)'%(y_train.shape))"
   ]
  },
  {
   "cell_type": "code",
   "execution_count": 265,
   "metadata": {},
   "outputs": [],
   "source": [
    "model03=load_model(r'C:\\Users\\user\\Desktop\\project\\final_model\\vgg_picture2\\model_iter60_9.hdf5')"
   ]
  },
  {
   "cell_type": "code",
   "execution_count": 266,
   "metadata": {},
   "outputs": [],
   "source": [
    "def plot_confusion_matrix(cm, classes,acc,\n",
    "                          title='Confusion matrix',\n",
    "                          cmap=plt.cm.jet):\n",
    "    cm = cm.astype('float') / cm.sum(axis=1)[:, np.newaxis]\n",
    "    plt.imshow(cm, interpolation='nearest', cmap=cmap)\n",
    "    \n",
    "    plt.suptitle('VGG16(Picture 02)',y=1.01,fontsize=14)\n",
    "    plt.title(title+'(accuracy='+str(acc)+')')\n",
    "    plt.colorbar()\n",
    "    tick_marks = np.arange(len(classes))\n",
    "    plt.xticks(tick_marks,np.arange(1,8+1) , rotation=45)\n",
    "    plt.yticks(tick_marks,np.arange(1,8+1)  )\n",
    "    thresh = cm.max() / 2.\n",
    "    for i, j in itertools.product(range(cm.shape[0]), range(cm.shape[1])):\n",
    "        plt.text(j, i, '{:.2f}'.format(cm[i, j]), horizontalalignment=\"center\",\n",
    "                 color=\"white\" if cm[i, j] > thresh else \"black\")\n",
    "    plt.tight_layout()\n",
    "    plt.ylabel('True label')\n",
    "    plt.xlabel('Predicted label')\n",
    "    plt.tight_layout()\n",
    "    plt.savefig(r'C:\\Users\\user\\Desktop\\project\\final_model\\vgg_picture2\\confusion_matrix_vgg16_picture02.jpg',bbox_inches='tight') \n",
    "    plt.show()\n",
    "\n",
    "    \n",
    "    \n",
    "    \n",
    "# 显示混淆矩阵\n",
    "def plot_confuse(model, x_val, y_val,acc):\n",
    "    predictions = model.predict_classes(x_val)\n",
    "    truelabel = y_val.argmax(axis=-1)   # 将one-hot转化为label\n",
    "    conf_mat = confusion_matrix(y_true=truelabel, y_pred=predictions)\n",
    "    plt.figure()\n",
    "    plot_confusion_matrix(conf_mat, range(np.max(truelabel)+1),acc)\n",
    "   "
   ]
  },
  {
   "cell_type": "code",
   "execution_count": 267,
   "metadata": {},
   "outputs": [
    {
     "name": "stdout",
     "output_type": "stream",
     "text": [
      "8000/8000 [==============================] - 43s 5ms/sample - loss: 0.8941 - acc: 0.8355\n"
     ]
    },
    {
     "data": {
      "image/png": "[encoded data removed]",
      "text/plain": [
       "<Figure size 432x288 with 2 Axes>"
      ]
     },
     "metadata": {
      "needs_background": "light"
     },
     "output_type": "display_data"
    }
   ],
   "source": [
    "a=model03.evaluate(x_test,y_test)\n",
    "plot_confuse(model03, x_test, y_test,round(a[1],4))"
   ]
  },
  {
   "cell_type": "code",
   "execution_count": null,
   "metadata": {},
   "outputs": [],
   "source": [
    "# kappa"
   ]
  },
  {
   "cell_type": "code",
   "execution_count": 268,
   "metadata": {},
   "outputs": [
    {
     "data": {
      "text/plain": [
       "-0.05694321949782344"
      ]
     },
     "execution_count": 268,
     "metadata": {},
     "output_type": "execute_result"
    }
   ],
   "source": [
    "y_test_ori=y_test_ori.flatten()\n",
    "y_test_ori\n",
    "prediction = np.argmax(model03.predict(x_test),axis= 1)\n",
    "prediction\n",
    "metrics.cohen_kappa_score(y_test_ori, prediction) "
   ]
  },
  {
   "cell_type": "code",
   "execution_count": null,
   "metadata": {},
   "outputs": [],
   "source": []
  },
  {
   "cell_type": "code",
   "execution_count": null,
   "metadata": {},
   "outputs": [],
   "source": []
  },
  {
   "cell_type": "markdown",
   "metadata": {},
   "source": [
    "# test02 進入 model_incv3_picture02"
   ]
  },
  {
   "cell_type": "code",
   "execution_count": 269,
   "metadata": {
    "scrolled": true
   },
   "outputs": [],
   "source": [
    "model04=load_model(r'C:\\Users\\user\\Desktop\\project\\final_model\\inceptionv3_picture2\\model_iter100_10.hdf5')"
   ]
  },
  {
   "cell_type": "code",
   "execution_count": 270,
   "metadata": {},
   "outputs": [],
   "source": [
    "def plot_confusion_matrix(cm, classes,acc,\n",
    "                          title='Confusion matrix',\n",
    "                          cmap=plt.cm.jet):\n",
    "    cm = cm.astype('float') / cm.sum(axis=1)[:, np.newaxis]\n",
    "    plt.imshow(cm, interpolation='nearest', cmap=cmap)\n",
    "    \n",
    "    plt.suptitle('Inception v3(Picture 02)',y=1.01,fontsize=14)\n",
    "    plt.title(title+'(accuracy='+str(acc)+')')\n",
    "    plt.colorbar()\n",
    "    tick_marks = np.arange(len(classes))\n",
    "    plt.xticks(tick_marks,np.arange(1,8+1) , rotation=45)\n",
    "    plt.yticks(tick_marks,np.arange(1,8+1)  )\n",
    "    thresh = cm.max() / 2.\n",
    "    for i, j in itertools.product(range(cm.shape[0]), range(cm.shape[1])):\n",
    "        plt.text(j, i, '{:.2f}'.format(cm[i, j]), horizontalalignment=\"center\",\n",
    "                 color=\"white\" if cm[i, j] > thresh else \"black\")\n",
    "    plt.tight_layout()\n",
    "    plt.ylabel('True label')\n",
    "    plt.xlabel('Predicted label')\n",
    "    plt.tight_layout()\n",
    "    plt.savefig(r'C:\\Users\\user\\Desktop\\project\\final_model\\inceptionv3_picture2\\confusion_matrix_incv3_picture02.jpg',bbox_inches='tight') \n",
    "    plt.show()\n",
    "\n",
    "    \n",
    "    \n",
    "    \n",
    "# 显示混淆矩阵\n",
    "def plot_confuse(model, x_val, y_val,acc):\n",
    "    predictions = model.predict_classes(x_val)\n",
    "    truelabel = y_val.argmax(axis=-1)   # 将one-hot转化为label\n",
    "    conf_mat = confusion_matrix(y_true=truelabel, y_pred=predictions)\n",
    "    plt.figure()\n",
    "    plot_confusion_matrix(conf_mat, range(np.max(truelabel)+1),acc)\n",
    "   "
   ]
  },
  {
   "cell_type": "code",
   "execution_count": 271,
   "metadata": {
    "scrolled": true
   },
   "outputs": [
    {
     "name": "stdout",
     "output_type": "stream",
     "text": [
      "8000/8000 [==============================] - 17s 2ms/sample - loss: 1.0013 - acc: 0.7996\n"
     ]
    },
    {
     "data": {
      "image/png": "[encoded data removed]",
      "text/plain": [
       "<Figure size 432x288 with 2 Axes>"
      ]
     },
     "metadata": {
      "needs_background": "light"
     },
     "output_type": "display_data"
    }
   ],
   "source": [
    "a=model04.evaluate(x_test,y_test)\n",
    "plot_confuse(model04, x_test, y_test,round(a[1],4))"
   ]
  },
  {
   "cell_type": "code",
   "execution_count": null,
   "metadata": {},
   "outputs": [],
   "source": [
    "# kappa"
   ]
  },
  {
   "cell_type": "code",
   "execution_count": 272,
   "metadata": {},
   "outputs": [
    {
     "data": {
      "text/plain": [
       "-0.05243175036784997"
      ]
     },
     "execution_count": 272,
     "metadata": {},
     "output_type": "execute_result"
    }
   ],
   "source": [
    "y_test_ori=y_test_ori.flatten()\n",
    "y_test_ori\n",
    "prediction = np.argmax(model04.predict(x_test),axis= 1)\n",
    "prediction\n",
    "metrics.cohen_kappa_score(y_test_ori, prediction) "
   ]
  },
  {
   "cell_type": "code",
   "execution_count": null,
   "metadata": {},
   "outputs": [],
   "source": []
  },
  {
   "cell_type": "code",
   "execution_count": null,
   "metadata": {},
   "outputs": [],
   "source": []
  },
  {
   "cell_type": "markdown",
   "metadata": {},
   "source": [
    "# mix_train"
   ]
  },
  {
   "cell_type": "markdown",
   "metadata": {},
   "source": [
    "### vgg"
   ]
  },
  {
   "cell_type": "code",
   "execution_count": 3,
   "metadata": {},
   "outputs": [
    {
     "name": "stdout",
     "output_type": "stream",
     "text": [
      "Images are all in read_images\n",
      "(30000, 100, 100)\n",
      "Shape of x_train is (24000,100,100,1)\n",
      "Shape of x_test is (6000,100,100,1)\n",
      "Shape of y_train is (24000,1)\n",
      "Shape of y_test is (6000,1)\n",
      "Shape of y_train is (24000,6)\n"
     ]
    }
   ],
   "source": [
    "path='C:\\\\Users\\\\user\\\\Desktop\\\\project\\\\picture_mix_train'\n",
    "folder_list =[]\n",
    "folder = glob.glob(path)\n",
    "for folder in folder :\n",
    "    for name in glob.glob(folder+'/*'):\n",
    "        folder_list.append(name)\n",
    "\n",
    "image_name =[]\n",
    "for folder in folder_list:\n",
    "    for name in glob.glob(folder+'/*.jpg') :\n",
    "        image_name.append(name)\n",
    "        \n",
    "read_images = []\n",
    "for image in image_name:\n",
    "    img = cv2.imread(image)\n",
    "    img = cv2.cvtColor(img, cv2.COLOR_BGR2GRAY)\n",
    "    read_images.append(img)\n",
    "read_images = np.array(read_images)\n",
    "print ('Images are all in read_images')     \n",
    "print(read_images.shape) \n",
    "########################################################################\n",
    "x = read_images\n",
    "#split = np.random.choice(40000,8000,replace=False)\n",
    "\n",
    "y = np.array(np.repeat(range(1,7),5000).reshape(-1,1))\n",
    "x_train, x_test, y_train, y_test = train_test_split(x, y, test_size=0.20, random_state=seed,shuffle=True) \n",
    "x_test = x_test.reshape(x_test.shape[0],100,100,1)\n",
    "x_train = x_train.reshape(x_train.shape[0],100,100,1)\n",
    "\n",
    "print('Shape of x_train is (%d,%d,%d,%d)'%(x_train.shape))\n",
    "print('Shape of x_test is (%d,%d,%d,%d)'%(x_test.shape))\n",
    "print('Shape of y_train is (%d,%d)'%(y_train.shape))\n",
    "print('Shape of y_test is (%d,%d)'%(y_test.shape))\n",
    "onehot = OneHotEncoder()\n",
    "\n",
    "y_train = onehot.fit_transform(y_train).toarray()\n",
    "y_test_ori = y_test\n",
    "y_test = onehot.fit_transform(y_test).toarray()\n",
    "print('Shape of y_train is (%d,%d)'%(y_train.shape))"
   ]
  },
  {
   "cell_type": "code",
   "execution_count": 4,
   "metadata": {
    "scrolled": true
   },
   "outputs": [
    {
     "name": "stdout",
     "output_type": "stream",
     "text": [
      "WARNING:tensorflow:From C:\\Users\\user\\anaconda3\\lib\\site-packages\\tensorflow\\python\\ops\\init_ops.py:97: calling GlorotUniform.__init__ (from tensorflow.python.ops.init_ops) with dtype is deprecated and will be removed in a future version.\n",
      "Instructions for updating:\n",
      "Call initializer instance with the dtype argument instead of passing it to the constructor\n",
      "WARNING:tensorflow:From C:\\Users\\user\\anaconda3\\lib\\site-packages\\tensorflow\\python\\ops\\init_ops.py:1251: calling VarianceScaling.__init__ (from tensorflow.python.ops.init_ops) with dtype is deprecated and will be removed in a future version.\n",
      "Instructions for updating:\n",
      "Call initializer instance with the dtype argument instead of passing it to the constructor\n",
      "WARNING:tensorflow:From C:\\Users\\user\\anaconda3\\lib\\site-packages\\tensorflow\\python\\ops\\init_ops.py:97: calling Zeros.__init__ (from tensorflow.python.ops.init_ops) with dtype is deprecated and will be removed in a future version.\n",
      "Instructions for updating:\n",
      "Call initializer instance with the dtype argument instead of passing it to the constructor\n",
      "WARNING:tensorflow:From C:\\Users\\user\\anaconda3\\lib\\site-packages\\tensorflow\\python\\ops\\init_ops.py:97: calling Ones.__init__ (from tensorflow.python.ops.init_ops) with dtype is deprecated and will be removed in a future version.\n",
      "Instructions for updating:\n",
      "Call initializer instance with the dtype argument instead of passing it to the constructor\n"
     ]
    }
   ],
   "source": [
    "model05=load_model(r'C:\\Users\\user\\Desktop\\project\\final_model\\vgg_picture_mix\\model_iter60_10.hdf5') "
   ]
  },
  {
   "cell_type": "code",
   "execution_count": 28,
   "metadata": {},
   "outputs": [],
   "source": [
    "from sklearn.metrics import confusion_matrix\n",
    "import itertools"
   ]
  },
  {
   "cell_type": "code",
   "execution_count": 5,
   "metadata": {},
   "outputs": [],
   "source": [
    "def plot_confusion_matrix(cm, classes,acc,\n",
    "                          title='Confusion matrix',\n",
    "                          cmap=plt.cm.jet):\n",
    "    cm = cm.astype('float') / cm.sum(axis=1)[:, np.newaxis]\n",
    "    plt.imshow(cm, interpolation='nearest', cmap=cmap)\n",
    "    \n",
    "    plt.suptitle('VGG 16(Picture 03)',y=1.01,fontsize=14)\n",
    "    plt.title(title+'(accuracy='+str(acc)+')')\n",
    "    plt.colorbar()\n",
    "    tick_marks = np.arange(len(classes))\n",
    "    plt.xticks(tick_marks,np.arange(1,8+1) , rotation=45)\n",
    "    plt.yticks(tick_marks,np.arange(1,8+1)  )\n",
    "    thresh = cm.max() / 2.\n",
    "    for i, j in itertools.product(range(cm.shape[0]), range(cm.shape[1])):\n",
    "        plt.text(j, i, '{:.2f}'.format(cm[i, j]), horizontalalignment=\"center\",\n",
    "                 color=\"white\" if cm[i, j] > thresh else \"black\")\n",
    "    plt.tight_layout()\n",
    "    plt.ylabel('True label')\n",
    "    plt.xlabel('Predicted label')\n",
    "    plt.tight_layout()\n",
    "    plt.savefig(r'C:\\Users\\user\\Desktop\\project\\final_model\\vgg_picture_mix\\confusion_matrix_vgg_picture03.jpg',bbox_inches='tight') \n",
    "    plt.show()\n",
    "\n",
    "    \n",
    "    \n",
    "    \n",
    "# 显示混淆矩阵\n",
    "def plot_confuse(model, x_val, y_val,acc):\n",
    "    predictions = model.predict_classes(x_val)\n",
    "    truelabel = y_val.argmax(axis=-1)   # 将one-hot转化为label\n",
    "    conf_mat = confusion_matrix(y_true=truelabel, y_pred=predictions)\n",
    "    plt.figure()\n",
    "    plot_confusion_matrix(conf_mat, range(np.max(truelabel)+1),acc)"
   ]
  },
  {
   "cell_type": "code",
   "execution_count": 6,
   "metadata": {
    "scrolled": false
   },
   "outputs": [
    {
     "name": "stdout",
     "output_type": "stream",
     "text": [
      "6000/6000 [==============================] - 38s 6ms/sample - loss: 0.1818 - acc: 0.9515\n"
     ]
    },
    {
     "data": {
      "image/png": "[encoded data removed]",
      "text/plain": [
       "<Figure size 432x288 with 2 Axes>"
      ]
     },
     "metadata": {
      "needs_background": "light"
     },
     "output_type": "display_data"
    }
   ],
   "source": [
    "a=model05.evaluate(x_test,y_test)\n",
    "plot_confuse(model05, x_test, y_test,round(a[1],4))"
   ]
  },
  {
   "cell_type": "code",
   "execution_count": null,
   "metadata": {},
   "outputs": [],
   "source": [
    "# kappa"
   ]
  },
  {
   "cell_type": "code",
   "execution_count": 7,
   "metadata": {},
   "outputs": [
    {
     "data": {
      "text/plain": [
       "-0.15590145770401254"
      ]
     },
     "execution_count": 7,
     "metadata": {},
     "output_type": "execute_result"
    }
   ],
   "source": [
    "y_test_ori=y_test_ori.flatten()\n",
    "y_test_ori\n",
    "prediction = np.argmax(model05.predict(x_test),axis= 1)\n",
    "prediction\n",
    "metrics.cohen_kappa_score(y_test_ori, prediction) "
   ]
  },
  {
   "cell_type": "code",
   "execution_count": null,
   "metadata": {},
   "outputs": [],
   "source": [
    "# inception v3"
   ]
  },
  {
   "cell_type": "code",
   "execution_count": 8,
   "metadata": {},
   "outputs": [],
   "source": [
    "model06=load_model(r'C:\\Users\\user\\Desktop\\project\\final_model\\inceptionv3_picture_mix\\model_iter60_8.hdf5') "
   ]
  },
  {
   "cell_type": "code",
   "execution_count": 9,
   "metadata": {},
   "outputs": [],
   "source": [
    "def plot_confusion_matrix(cm, classes,acc,\n",
    "                          title='Confusion matrix',\n",
    "                          cmap=plt.cm.jet):\n",
    "    cm = cm.astype('float') / cm.sum(axis=1)[:, np.newaxis]\n",
    "    plt.imshow(cm, interpolation='nearest', cmap=cmap)\n",
    "    \n",
    "    plt.suptitle('Inception v3(Picture 03)',y=1.01,fontsize=14)\n",
    "    plt.title(title+'(accuracy='+str(acc)+')')\n",
    "    plt.colorbar()\n",
    "    tick_marks = np.arange(len(classes))\n",
    "    plt.xticks(tick_marks,np.arange(1,8+1) , rotation=45)\n",
    "    plt.yticks(tick_marks,np.arange(1,8+1)  )\n",
    "    thresh = cm.max() / 2.\n",
    "    for i, j in itertools.product(range(cm.shape[0]), range(cm.shape[1])):\n",
    "        plt.text(j, i, '{:.2f}'.format(cm[i, j]), horizontalalignment=\"center\",\n",
    "                 color=\"white\" if cm[i, j] > thresh else \"black\")\n",
    "    plt.tight_layout()\n",
    "    plt.ylabel('True label')\n",
    "    plt.xlabel('Predicted label')\n",
    "    plt.tight_layout()\n",
    "    plt.savefig(r'C:\\Users\\user\\Desktop\\project\\final_model\\inceptionv3_picture_mix\\confusion_matrix_incv3_picture03.jpg',bbox_inches='tight') \n",
    "    plt.show()\n",
    "\n",
    "    \n",
    "    \n",
    "    \n",
    "# 显示混淆矩阵\n",
    "def plot_confuse(model, x_val, y_val,acc):\n",
    "    predictions = model.predict_classes(x_val)\n",
    "    truelabel = y_val.argmax(axis=-1)   # 将one-hot转化为label\n",
    "    conf_mat = confusion_matrix(y_true=truelabel, y_pred=predictions)\n",
    "    plt.figure()\n",
    "    plot_confusion_matrix(conf_mat, range(np.max(truelabel)+1),acc)"
   ]
  },
  {
   "cell_type": "code",
   "execution_count": 10,
   "metadata": {},
   "outputs": [
    {
     "name": "stdout",
     "output_type": "stream",
     "text": [
      "6000/6000 [==============================] - 15s 2ms/sample - loss: 0.2486 - acc: 0.9377\n"
     ]
    },
    {
     "data": {
      "image/png": "[encoded data removed]",
      "text/plain": [
       "<Figure size 432x288 with 2 Axes>"
      ]
     },
     "metadata": {
      "needs_background": "light"
     },
     "output_type": "display_data"
    }
   ],
   "source": [
    "a=model06.evaluate(x_test,y_test)\n",
    "plot_confuse(model06, x_test, y_test,round(a[1],4))"
   ]
  },
  {
   "cell_type": "code",
   "execution_count": 11,
   "metadata": {},
   "outputs": [
    {
     "data": {
      "text/plain": [
       "-0.15588541879523699"
      ]
     },
     "execution_count": 11,
     "metadata": {},
     "output_type": "execute_result"
    }
   ],
   "source": [
    "y_test_ori=y_test_ori.flatten()\n",
    "y_test_ori\n",
    "prediction = np.argmax(model06.predict(x_test),axis= 1)\n",
    "prediction\n",
    "metrics.cohen_kappa_score(y_test_ori, prediction) "
   ]
  },
  {
   "cell_type": "code",
   "execution_count": null,
   "metadata": {},
   "outputs": [],
   "source": []
  },
  {
   "cell_type": "code",
   "execution_count": null,
   "metadata": {},
   "outputs": [],
   "source": []
  },
  {
   "cell_type": "code",
   "execution_count": null,
   "metadata": {},
   "outputs": [],
   "source": []
  },
  {
   "cell_type": "code",
   "execution_count": null,
   "metadata": {},
   "outputs": [],
   "source": []
  },
  {
   "cell_type": "code",
   "execution_count": null,
   "metadata": {},
   "outputs": [],
   "source": []
  },
  {
   "cell_type": "code",
   "execution_count": null,
   "metadata": {},
   "outputs": [],
   "source": []
  },
  {
   "cell_type": "code",
   "execution_count": null,
   "metadata": {},
   "outputs": [],
   "source": []
  },
  {
   "cell_type": "code",
   "execution_count": null,
   "metadata": {},
   "outputs": [],
   "source": []
  },
  {
   "cell_type": "code",
   "execution_count": null,
   "metadata": {},
   "outputs": [],
   "source": []
  },
  {
   "cell_type": "code",
   "execution_count": null,
   "metadata": {},
   "outputs": [],
   "source": []
  },
  {
   "cell_type": "code",
   "execution_count": null,
   "metadata": {},
   "outputs": [],
   "source": []
  },
  {
   "cell_type": "code",
   "execution_count": null,
   "metadata": {},
   "outputs": [],
   "source": []
  },
  {
   "cell_type": "code",
   "execution_count": null,
   "metadata": {},
   "outputs": [],
   "source": []
  },
  {
   "cell_type": "code",
   "execution_count": null,
   "metadata": {},
   "outputs": [],
   "source": []
  },
  {
   "cell_type": "code",
   "execution_count": null,
   "metadata": {},
   "outputs": [],
   "source": []
  },
  {
   "cell_type": "code",
   "execution_count": 7,
   "metadata": {},
   "outputs": [],
   "source": [
    "def plot_confusion_matrix(cm, classes,acc,\n",
    "                          title='Confusion matrix',\n",
    "                          cmap=plt.cm.jet):\n",
    "    cm = cm.astype('float') / cm.sum(axis=1)[:, np.newaxis]\n",
    "    plt.imshow(cm, interpolation='nearest', cmap=cmap)\n",
    "   \n",
    "    plt.title('(incv3_60_1)'+title+'(accuracy='+str(acc)+')')\n",
    "    plt.colorbar()\n",
    "    tick_marks = np.arange(len(classes))\n",
    "    plt.xticks(tick_marks,np.arange(1,8+1) , rotation=45)\n",
    "    plt.yticks(tick_marks,np.arange(1,8+1)  )\n",
    "    thresh = cm.max() / 2.\n",
    "    for i, j in itertools.product(range(cm.shape[0]), range(cm.shape[1])):\n",
    "        plt.text(j, i, '{:.2f}'.format(cm[i, j]), horizontalalignment=\"center\",\n",
    "                 color=\"white\" if cm[i, j] > thresh else \"black\")\n",
    "    plt.tight_layout()\n",
    "    plt.ylabel('True label')\n",
    "    plt.xlabel('Predicted label')\n",
    "    plt.savefig(r'C:\\Users\\user\\Desktop\\project\\compare\\model_picture1_incv3_gray_60.jpg') \n",
    "    plt.show()\n",
    "\n",
    "    \n",
    "    \n",
    "    \n",
    "# 显示混淆矩阵\n",
    "def plot_confuse(model, x_val, y_val,acc):\n",
    "    predictions = model.predict_classes(x_val)\n",
    "    truelabel = y_val.argmax(axis=-1)   # 将one-hot转化为label\n",
    "    conf_mat = confusion_matrix(y_true=truelabel, y_pred=predictions)\n",
    "    plt.figure()\n",
    "    plot_confusion_matrix(conf_mat, range(np.max(truelabel)+1),acc)\n",
    "   "
   ]
  },
  {
   "cell_type": "code",
   "execution_count": 8,
   "metadata": {},
   "outputs": [
    {
     "name": "stdout",
     "output_type": "stream",
     "text": [
      "8000/8000 [==============================] - 6s 714us/sample - loss: 1.4933 - acc: 0.7111\n"
     ]
    },
    {
     "data": {
      "image/png": "[encoded data removed]",
      "text/plain": [
       "<Figure size 432x288 with 2 Axes>"
      ]
     },
     "metadata": {
      "needs_background": "light"
     },
     "output_type": "display_data"
    }
   ],
   "source": [
    "# inceptionv3-60\n",
    "model02=load_model(r'C:\\Users\\user\\Desktop\\project\\inceptionv3_picture\\checkpoint60_record\\model_iter60_1.hdf5') \n",
    "a=model02.evaluate(x_test,y_test)\n",
    "plot_confuse(model02, x_test, y_test,round(a[1],4))"
   ]
  },
  {
   "cell_type": "markdown",
   "metadata": {},
   "source": [
    "# picture2"
   ]
  },
  {
   "cell_type": "code",
   "execution_count": 9,
   "metadata": {},
   "outputs": [
    {
     "name": "stdout",
     "output_type": "stream",
     "text": [
      "Images are all in read_images\n",
      "(40000, 100, 100)\n",
      "Shape of x_train is (32000,100,100,1)\n",
      "Shape of x_test is (8000,100,100,1)\n",
      "Shape of y_train is (32000,1)\n",
      "Shape of y_test is (8000,1)\n",
      "Shape of y_train is (32000,8)\n"
     ]
    }
   ],
   "source": [
    "path='C:\\\\Users\\\\user\\\\Desktop\\\\project\\\\picture_2'\n",
    "folder_list =[]\n",
    "folder = glob.glob(path)\n",
    "for folder in folder :\n",
    "    for name in glob.glob(folder+'/*'):\n",
    "        folder_list.append(name)\n",
    "\n",
    "image_name =[]\n",
    "for folder in folder_list:\n",
    "    for name in glob.glob(folder+'/*.jpg') :\n",
    "        image_name.append(name)\n",
    "        \n",
    "read_images = []\n",
    "for image in image_name:\n",
    "    img = cv2.imread(image)\n",
    "    img = cv2.cvtColor(img, cv2.COLOR_BGR2GRAY)\n",
    "    read_images.append(img)\n",
    "read_images = np.array(read_images)\n",
    "print ('Images are all in read_images')\n",
    "print(read_images.shape)  \n",
    "\n",
    "\n",
    "x = read_images\n",
    "#split = np.random.choice(40000,8000,replace=False)\n",
    "\n",
    "y = np.array(np.repeat(range(1,9),5000).reshape(-1,1))\n",
    "x_train, x_test, y_train, y_test = train_test_split(x, y, test_size=0.20, random_state=seed,shuffle=True) \n",
    "x_test = x_test.reshape(x_test.shape[0],100,100,1)\n",
    "x_train = x_train.reshape(x_train.shape[0],100,100,1)\n",
    "\n",
    "print('Shape of x_train is (%d,%d,%d,%d)'%(x_train.shape))\n",
    "print('Shape of x_test is (%d,%d,%d,%d)'%(x_test.shape))\n",
    "print('Shape of y_train is (%d,%d)'%(y_train.shape))\n",
    "print('Shape of y_test is (%d,%d)'%(y_test.shape))\n",
    "onehot = OneHotEncoder()\n",
    "\n",
    "y_train = onehot.fit_transform(y_train).toarray()\n",
    "y_test_ori = y_test\n",
    "y_test = onehot.fit_transform(y_test).toarray()\n",
    "print('Shape of y_train is (%d,%d)'%(y_train.shape))"
   ]
  },
  {
   "cell_type": "code",
   "execution_count": null,
   "metadata": {},
   "outputs": [],
   "source": []
  },
  {
   "cell_type": "code",
   "execution_count": 10,
   "metadata": {},
   "outputs": [],
   "source": [
    "def plot_confusion_matrix(cm, classes,acc,\n",
    "                          title='Confusion matrix',\n",
    "                          cmap=plt.cm.jet):\n",
    "    cm = cm.astype('float') / cm.sum(axis=1)[:, np.newaxis]\n",
    "    plt.imshow(cm, interpolation='nearest', cmap=cmap)\n",
    "   \n",
    "    plt.title('(vgg60_2)'+title+'(accuracy='+str(acc)+')')\n",
    "    plt.colorbar()\n",
    "    tick_marks = np.arange(len(classes))\n",
    "    plt.xticks(tick_marks,np.arange(1,8+1) , rotation=45)\n",
    "    plt.yticks(tick_marks,np.arange(1,8+1)  )\n",
    "    thresh = cm.max() / 2.\n",
    "    for i, j in itertools.product(range(cm.shape[0]), range(cm.shape[1])):\n",
    "        plt.text(j, i, '{:.2f}'.format(cm[i, j]), horizontalalignment=\"center\",\n",
    "                 color=\"white\" if cm[i, j] > thresh else \"black\")\n",
    "    plt.tight_layout()\n",
    "    plt.ylabel('True label')\n",
    "    plt.xlabel('Predicted label')\n",
    "    plt.savefig(r'C:\\Users\\user\\Desktop\\project\\compare\\model_picture2_vgg_gray_60.jpg') \n",
    "    plt.show()\n",
    "\n",
    "    \n",
    "    \n",
    "    \n",
    "# 显示混淆矩阵\n",
    "def plot_confuse(model, x_val, y_val,acc):\n",
    "    predictions = model.predict_classes(x_val)\n",
    "    truelabel = y_val.argmax(axis=-1)   # 将one-hot转化为label\n",
    "    conf_mat = confusion_matrix(y_true=truelabel, y_pred=predictions)\n",
    "    plt.figure()\n",
    "    plot_confusion_matrix(conf_mat, range(np.max(truelabel)+1),acc)\n",
    "   "
   ]
  },
  {
   "cell_type": "code",
   "execution_count": 11,
   "metadata": {
    "scrolled": false
   },
   "outputs": [
    {
     "name": "stdout",
     "output_type": "stream",
     "text": [
      "8000/8000 [==============================] - 10s 1ms/sample - loss: 0.7265 - acc: 0.8361\n"
     ]
    },
    {
     "data": {
      "image/png": "[encoded data removed]",
      "text/plain": [
       "<Figure size 432x288 with 2 Axes>"
      ]
     },
     "metadata": {
      "needs_background": "light"
     },
     "output_type": "display_data"
    }
   ],
   "source": [
    "# vgg-60\n",
    "\n",
    "model03=load_model(r'C:\\Users\\user\\Desktop\\project\\VGG16_picture2\\checkpoint60_record\\model_iter60_10.hdf5') \n",
    "a=model03.evaluate(x_test,y_test)\n",
    "plot_confuse(model03, x_test, y_test,round(a[1],4))"
   ]
  },
  {
   "cell_type": "code",
   "execution_count": null,
   "metadata": {},
   "outputs": [],
   "source": []
  },
  {
   "cell_type": "code",
   "execution_count": 12,
   "metadata": {},
   "outputs": [],
   "source": [
    "def plot_confusion_matrix(cm, classes,acc,\n",
    "                          title='Confusion matrix',\n",
    "                          cmap=plt.cm.jet):\n",
    "    cm = cm.astype('float') / cm.sum(axis=1)[:, np.newaxis]\n",
    "    plt.imshow(cm, interpolation='nearest', cmap=cmap)\n",
    "   \n",
    "    plt.title('(incv3_100_2)'+title+'(accuracy='+str(acc)+')')\n",
    "    plt.colorbar()\n",
    "    tick_marks = np.arange(len(classes))\n",
    "    plt.xticks(tick_marks,np.arange(1,8+1) , rotation=45)\n",
    "    plt.yticks(tick_marks,np.arange(1,8+1)  )\n",
    "    thresh = cm.max() / 2.\n",
    "    for i, j in itertools.product(range(cm.shape[0]), range(cm.shape[1])):\n",
    "        plt.text(j, i, '{:.2f}'.format(cm[i, j]), horizontalalignment=\"center\",\n",
    "                 color=\"white\" if cm[i, j] > thresh else \"black\")\n",
    "    plt.tight_layout()\n",
    "    plt.ylabel('True label')\n",
    "    plt.xlabel('Predicted label')\n",
    "    plt.savefig(r'C:\\Users\\user\\Desktop\\project\\compare\\model_picture2_incv3_gray_100.jpg') \n",
    "    plt.show()\n",
    "\n",
    "    \n",
    "    \n",
    "    \n",
    "# 显示混淆矩阵\n",
    "def plot_confuse(model, x_val, y_val,acc):\n",
    "    predictions = model.predict_classes(x_val)\n",
    "    truelabel = y_val.argmax(axis=-1)   # 将one-hot转化为label\n",
    "    conf_mat = confusion_matrix(y_true=truelabel, y_pred=predictions)\n",
    "    plt.figure()\n",
    "    plot_confusion_matrix(conf_mat, range(np.max(truelabel)+1),acc)\n",
    "   "
   ]
  },
  {
   "cell_type": "code",
   "execution_count": 13,
   "metadata": {},
   "outputs": [
    {
     "name": "stdout",
     "output_type": "stream",
     "text": [
      "8000/8000 [==============================] - 6s 731us/sample - loss: 1.0013 - acc: 0.7996\n"
     ]
    },
    {
     "data": {
      "image/png": "[encoded data removed]",
      "text/plain": [
       "<Figure size 432x288 with 2 Axes>"
      ]
     },
     "metadata": {
      "needs_background": "light"
     },
     "output_type": "display_data"
    }
   ],
   "source": [
    "# inceptionv3-100\n",
    "\n",
    "model04=load_model(r'C:\\Users\\user\\Desktop\\project\\inceptionv3_picture2\\model_iter100_10.hdf5') \n",
    "\n",
    "a=model04.evaluate(x_test,y_test)\n",
    "plot_confuse(model04, x_test, y_test,round(a[1],4))"
   ]
  },
  {
   "cell_type": "code",
   "execution_count": null,
   "metadata": {},
   "outputs": [],
   "source": []
  }
 ],
 "metadata": {
  "kernelspec": {
   "display_name": "Python (tensorflow-gpu)",
   "language": "python",
   "name": "tensorflow-gpu"
  },
  "language_info": {
   "codemirror_mode": {
    "name": "ipython",
    "version": 3
   },
   "file_extension": ".py",
   "mimetype": "text/x-python",
   "name": "python",
   "nbconvert_exporter": "python",
   "pygments_lexer": "ipython3",
   "version": "3.7.6"
  }
 },
 "nbformat": 4,
 "nbformat_minor": 4
}
