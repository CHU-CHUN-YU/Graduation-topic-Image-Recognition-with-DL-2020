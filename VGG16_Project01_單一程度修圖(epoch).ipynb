{
 "cells": [
  {
   "cell_type": "code",
   "execution_count": 1,
   "metadata": {
    "scrolled": true
   },
   "outputs": [
    {
     "name": "stdout",
     "output_type": "stream",
     "text": [
      "Requirement already satisfied: keras in c:\\users\\user\\anaconda3\\lib\\site-packages (2.3.1)\n",
      "Requirement already satisfied: keras-preprocessing>=1.0.5 in c:\\users\\user\\anaconda3\\lib\\site-packages (from keras) (1.1.0)\n",
      "Requirement already satisfied: pyyaml in c:\\users\\user\\anaconda3\\lib\\site-packages (from keras) (5.3)\n",
      "Requirement already satisfied: six>=1.9.0 in c:\\users\\user\\anaconda3\\lib\\site-packages (from keras) (1.14.0)\n",
      "Requirement already satisfied: h5py in c:\\users\\user\\anaconda3\\lib\\site-packages (from keras) (2.10.0)\n",
      "Requirement already satisfied: scipy>=0.14 in c:\\users\\user\\anaconda3\\lib\\site-packages (from keras) (1.4.1)\n",
      "Requirement already satisfied: numpy>=1.9.1 in c:\\users\\user\\anaconda3\\lib\\site-packages (from keras) (1.18.2)\n",
      "Requirement already satisfied: keras-applications>=1.0.6 in c:\\users\\user\\anaconda3\\lib\\site-packages (from keras) (1.0.8)\n",
      "Note: you may need to restart the kernel to use updated packages.\n"
     ]
    }
   ],
   "source": [
    "#pip install keras"
   ]
  },
  {
   "cell_type": "code",
   "execution_count": 3,
   "metadata": {
    "scrolled": true
   },
   "outputs": [
    {
     "name": "stderr",
     "output_type": "stream",
     "text": [
      "C:\\Users\\user\\anaconda3\\lib\\site-packages\\tensorflow\\python\\framework\\dtypes.py:516: FutureWarning: Passing (type, 1) or '1type' as a synonym of type is deprecated; in a future version of numpy, it will be understood as (type, (1,)) / '(1,)type'.\n",
      "  _np_qint8 = np.dtype([(\"qint8\", np.int8, 1)])\n",
      "C:\\Users\\user\\anaconda3\\lib\\site-packages\\tensorflow\\python\\framework\\dtypes.py:517: FutureWarning: Passing (type, 1) or '1type' as a synonym of type is deprecated; in a future version of numpy, it will be understood as (type, (1,)) / '(1,)type'.\n",
      "  _np_quint8 = np.dtype([(\"quint8\", np.uint8, 1)])\n",
      "C:\\Users\\user\\anaconda3\\lib\\site-packages\\tensorflow\\python\\framework\\dtypes.py:518: FutureWarning: Passing (type, 1) or '1type' as a synonym of type is deprecated; in a future version of numpy, it will be understood as (type, (1,)) / '(1,)type'.\n",
      "  _np_qint16 = np.dtype([(\"qint16\", np.int16, 1)])\n",
      "C:\\Users\\user\\anaconda3\\lib\\site-packages\\tensorflow\\python\\framework\\dtypes.py:519: FutureWarning: Passing (type, 1) or '1type' as a synonym of type is deprecated; in a future version of numpy, it will be understood as (type, (1,)) / '(1,)type'.\n",
      "  _np_quint16 = np.dtype([(\"quint16\", np.uint16, 1)])\n",
      "C:\\Users\\user\\anaconda3\\lib\\site-packages\\tensorflow\\python\\framework\\dtypes.py:520: FutureWarning: Passing (type, 1) or '1type' as a synonym of type is deprecated; in a future version of numpy, it will be understood as (type, (1,)) / '(1,)type'.\n",
      "  _np_qint32 = np.dtype([(\"qint32\", np.int32, 1)])\n",
      "C:\\Users\\user\\anaconda3\\lib\\site-packages\\tensorflow\\python\\framework\\dtypes.py:525: FutureWarning: Passing (type, 1) or '1type' as a synonym of type is deprecated; in a future version of numpy, it will be understood as (type, (1,)) / '(1,)type'.\n",
      "  np_resource = np.dtype([(\"resource\", np.ubyte, 1)])\n",
      "C:\\Users\\user\\anaconda3\\lib\\site-packages\\tensorboard\\compat\\tensorflow_stub\\dtypes.py:541: FutureWarning: Passing (type, 1) or '1type' as a synonym of type is deprecated; in a future version of numpy, it will be understood as (type, (1,)) / '(1,)type'.\n",
      "  _np_qint8 = np.dtype([(\"qint8\", np.int8, 1)])\n",
      "C:\\Users\\user\\anaconda3\\lib\\site-packages\\tensorboard\\compat\\tensorflow_stub\\dtypes.py:542: FutureWarning: Passing (type, 1) or '1type' as a synonym of type is deprecated; in a future version of numpy, it will be understood as (type, (1,)) / '(1,)type'.\n",
      "  _np_quint8 = np.dtype([(\"quint8\", np.uint8, 1)])\n",
      "C:\\Users\\user\\anaconda3\\lib\\site-packages\\tensorboard\\compat\\tensorflow_stub\\dtypes.py:543: FutureWarning: Passing (type, 1) or '1type' as a synonym of type is deprecated; in a future version of numpy, it will be understood as (type, (1,)) / '(1,)type'.\n",
      "  _np_qint16 = np.dtype([(\"qint16\", np.int16, 1)])\n",
      "C:\\Users\\user\\anaconda3\\lib\\site-packages\\tensorboard\\compat\\tensorflow_stub\\dtypes.py:544: FutureWarning: Passing (type, 1) or '1type' as a synonym of type is deprecated; in a future version of numpy, it will be understood as (type, (1,)) / '(1,)type'.\n",
      "  _np_quint16 = np.dtype([(\"quint16\", np.uint16, 1)])\n",
      "C:\\Users\\user\\anaconda3\\lib\\site-packages\\tensorboard\\compat\\tensorflow_stub\\dtypes.py:545: FutureWarning: Passing (type, 1) or '1type' as a synonym of type is deprecated; in a future version of numpy, it will be understood as (type, (1,)) / '(1,)type'.\n",
      "  _np_qint32 = np.dtype([(\"qint32\", np.int32, 1)])\n",
      "C:\\Users\\user\\anaconda3\\lib\\site-packages\\tensorboard\\compat\\tensorflow_stub\\dtypes.py:550: FutureWarning: Passing (type, 1) or '1type' as a synonym of type is deprecated; in a future version of numpy, it will be understood as (type, (1,)) / '(1,)type'.\n",
      "  np_resource = np.dtype([(\"resource\", np.ubyte, 1)])\n"
     ]
    }
   ],
   "source": [
    "import numpy as np\n",
    "import cv2\n",
    "import glob\n",
    "import matplotlib.pyplot as plt\n",
    "import tensorflow as tf\n",
    "import pickle\n",
    "import os\n",
    "from tensorflow.keras.layers import Dense, Dropout, Activation, Flatten, Conv2D, MaxPooling2D, BatchNormalization\n",
    "from tensorflow.keras import Sequential\n",
    "from tensorflow.keras.callbacks import ModelCheckpoint\n",
    "from sklearn.preprocessing import OneHotEncoder\n",
    "import future \n",
    "from tensorflow.keras.callbacks import TensorBoard\n",
    "from sklearn.model_selection import train_test_split\n",
    "seed = 100\n",
    "np.random.seed(seed)\n",
    "import matplotlib.pyplot as plt\n",
    "from tensorflow.keras.models import load_model\n",
    "import os"
   ]
  },
  {
   "cell_type": "code",
   "execution_count": 4,
   "metadata": {
    "scrolled": true
   },
   "outputs": [
    {
     "data": {
      "text/plain": [
       "True"
      ]
     },
     "execution_count": 4,
     "metadata": {},
     "output_type": "execute_result"
    }
   ],
   "source": [
    "tf.test.is_gpu_available()"
   ]
  },
  {
   "cell_type": "code",
   "execution_count": 3,
   "metadata": {},
   "outputs": [],
   "source": [
    "def accuracy(x,y):\n",
    "    acc = 0\n",
    "    for i in range(len(x)):\n",
    "        if x[i,]==y[i,]:\n",
    "            acc+=1\n",
    "        else:\n",
    "            acc+=0\n",
    "    rate = acc/len(x)\n",
    "    print('Accuracy rate is: ',rate)\n",
    "    \n",
    "    \n",
    "def plot(image,ans):\n",
    "    if len(image) > 10 | len(ans) > 10:\n",
    "        print('TOO MANY PHOTOS IN ONE TIME!!')\n",
    "        print('The maximum is 10 photos')\n",
    "    for i in range(len(image)):\n",
    "        plt.subplot(2,5,i+1)\n",
    "        plt.imshow(image[i,...])\n",
    "        plt.title(ans[i])"
   ]
  },
  {
   "cell_type": "code",
   "execution_count": 11,
   "metadata": {},
   "outputs": [],
   "source": [
    "path=os.getcwd()+'\\\\DATA\\\\picture01'"
   ]
  },
  {
   "cell_type": "code",
   "execution_count": 12,
   "metadata": {},
   "outputs": [
    {
     "name": "stdout",
     "output_type": "stream",
     "text": [
      "Images are all in read_images\n"
     ]
    }
   ],
   "source": [
    "folder_list =[]\n",
    "folder = glob.glob(path)\n",
    "for folder in folder :\n",
    "    for name in glob.glob(folder+'/*'):\n",
    "        folder_list.append(name)\n",
    "\n",
    "image_name =[]\n",
    "for folder in folder_list:\n",
    "    for name in glob.glob(folder+'/*.jpg') :\n",
    "        image_name.append(name)\n",
    "        \n",
    "read_images = []\n",
    "for image in image_name:\n",
    "    img = cv2.imread(image)\n",
    "    img = cv2.cvtColor(img, cv2.COLOR_BGR2GRAY)\n",
    "    read_images.append(img)\n",
    "read_images = np.array(read_images)\n",
    "print ('Images are all in read_images')\n",
    "            "
   ]
  },
  {
   "cell_type": "code",
   "execution_count": 13,
   "metadata": {
    "scrolled": true
   },
   "outputs": [
    {
     "name": "stdout",
     "output_type": "stream",
     "text": [
      "(40000, 100, 100)\n"
     ]
    }
   ],
   "source": [
    "print(read_images.shape)"
   ]
  },
  {
   "cell_type": "code",
   "execution_count": 6,
   "metadata": {},
   "outputs": [
    {
     "name": "stdout",
     "output_type": "stream",
     "text": [
      "Shape of x_train is (32000,100,100,1)\n",
      "Shape of x_test is (8000,100,100,1)\n",
      "Shape of y_train is (32000,1)\n",
      "Shape of y_test is (8000,1)\n",
      "Shape of y_train is (32000,8)\n"
     ]
    }
   ],
   "source": [
    "x = read_images\n",
    "#split = np.random.choice(40000,8000,replace=False)\n",
    "\n",
    "y = np.array(np.repeat(range(1,9),5000).reshape(-1,1))\n",
    "x_train, x_test, y_train, y_test = train_test_split(x, y, test_size=0.20, random_state=seed,shuffle=True) \n",
    "x_test = x_test.reshape(x_test.shape[0],100,100,1)\n",
    "x_train = x_train.reshape(x_train.shape[0],100,100,1)\n",
    "\n",
    "print('Shape of x_train is (%d,%d,%d,%d)'%(x_train.shape))\n",
    "print('Shape of x_test is (%d,%d,%d,%d)'%(x_test.shape))\n",
    "print('Shape of y_train is (%d,%d)'%(y_train.shape))\n",
    "print('Shape of y_test is (%d,%d)'%(y_test.shape))\n",
    "onehot = OneHotEncoder()\n",
    "y_train = onehot.fit_transform(y_train).toarray()\n",
    "\n",
    "\n",
    "y_test = onehot.fit_transform(y_test).toarray()\n",
    "print('Shape of y_train is (%d,%d)'%(y_train.shape))"
   ]
  },
  {
   "cell_type": "code",
   "execution_count": null,
   "metadata": {},
   "outputs": [],
   "source": [
    "#### 先在現在的位置新增一個名字叫 \"checkpoint30_record\"的資料夾 , 30 是epoch次數(自行修改)"
   ]
  },
  {
   "cell_type": "code",
   "execution_count": null,
   "metadata": {},
   "outputs": [],
   "source": [
    "#### 先在現在的位置新增一個名字叫 \"train_history\"的資料夾"
   ]
  },
  {
   "cell_type": "code",
   "execution_count": null,
   "metadata": {},
   "outputs": [],
   "source": [
    "#### 先在現在的位置新增一個名字叫 \"image_save\"的資料夾"
   ]
  },
  {
   "cell_type": "markdown",
   "metadata": {},
   "source": [
    "## 第一次開始 (epoch=50)"
   ]
  },
  {
   "cell_type": "code",
   "execution_count": 9,
   "metadata": {},
   "outputs": [
    {
     "name": "stdout",
     "output_type": "stream",
     "text": [
      "WARNING:tensorflow:From C:\\Users\\user\\anaconda3\\lib\\site-packages\\tensorflow\\python\\ops\\init_ops.py:1251: calling VarianceScaling.__init__ (from tensorflow.python.ops.init_ops) with dtype is deprecated and will be removed in a future version.\n",
      "Instructions for updating:\n",
      "Call initializer instance with the dtype argument instead of passing it to the constructor\n"
     ]
    }
   ],
   "source": [
    "# model(01)\n",
    "def VGG16(include_top=True,input_tensor=None, input_shape=(100,100,1),\n",
    "          pooling='max',classes=1000):\n",
    "    global model\n",
    "    model = Sequential([\n",
    "        Conv2D(64, (3, 3), input_shape=input_shape, padding='same',\n",
    "               activation='relu'),\n",
    "        Conv2D(64, (3, 3), activation='relu', padding='same'),\n",
    "        BatchNormalization(momentum=0.99, epsilon=0.001),\n",
    "        MaxPooling2D(pool_size=(2, 2), strides=(2, 2)),\n",
    "        Conv2D(128, (3, 3), activation='relu', padding='same'),\n",
    "        Conv2D(128, (3, 3), activation='relu', padding='same',),\n",
    "        BatchNormalization(momentum=0.99, epsilon=0.001),\n",
    "        MaxPooling2D(pool_size=(2, 2), strides=(2, 2)),\n",
    "        Conv2D(256, (3, 3), activation='relu', padding='same',),\n",
    "        Conv2D(256, (3, 3), activation='relu', padding='same',),\n",
    "        Conv2D(256, (3, 3), activation='relu', padding='same',),\n",
    "        BatchNormalization(momentum=0.99, epsilon=0.001), \n",
    "        MaxPooling2D(pool_size=(2, 2), strides=(2, 2)),\n",
    "        Conv2D(512, (3, 3), activation='relu', padding='same',),\n",
    "        Conv2D(512, (3, 3), activation='relu', padding='same',),\n",
    "        Conv2D(512, (3, 3), activation='relu', padding='same',),\n",
    "        BatchNormalization(momentum=0.99, epsilon=0.001),\n",
    "        MaxPooling2D(pool_size=(2, 2), strides=(2, 2)),\n",
    "        Conv2D(512, (3, 3), activation='relu', padding='same',),\n",
    "        Conv2D(512, (3, 3), activation='relu', padding='same',),\n",
    "        Conv2D(512, (3, 3), activation='relu', padding='same',),\n",
    "        BatchNormalization(momentum=0.99, epsilon=0.001),\n",
    "        MaxPooling2D(pool_size=(2, 2), strides=(2, 2)),\n",
    "        Flatten(),\n",
    "        Dense(4096, activation='relu'),\n",
    "        Dense(4096, activation='relu'),\n",
    "        Dense(1000, activation='relu'),\n",
    "        Dense(8,activation = 'softmax')\n",
    "        ])\n",
    "VGG16()"
   ]
  },
  {
   "cell_type": "code",
   "execution_count": 10,
   "metadata": {},
   "outputs": [
    {
     "name": "stdout",
     "output_type": "stream",
     "text": [
      "Train on 22400 samples, validate on 9600 samples\n",
      "Epoch 1/50\n",
      "\n",
      "Epoch 00001: acc improved from -inf to 0.31473, saving model to C:\\Users\\user\\Desktop\\project\\checkpoint50_record\\model_iter50_1.hdf5\n",
      "22400/22400 - 92s - loss: 2.0656 - acc: 0.3147 - val_loss: 2.3330 - val_acc: 0.1911\n",
      "Epoch 2/50\n",
      "\n",
      "Epoch 00002: acc improved from 0.31473 to 0.44634, saving model to C:\\Users\\user\\Desktop\\project\\checkpoint50_record\\model_iter50_1.hdf5\n",
      "22400/22400 - 87s - loss: 1.3214 - acc: 0.4463 - val_loss: 49.4563 - val_acc: 0.1568\n",
      "Epoch 3/50\n",
      "\n",
      "Epoch 00003: acc improved from 0.44634 to 0.48674, saving model to C:\\Users\\user\\Desktop\\project\\checkpoint50_record\\model_iter50_1.hdf5\n",
      "22400/22400 - 87s - loss: 1.1783 - acc: 0.4867 - val_loss: 1.3974 - val_acc: 0.4470\n",
      "Epoch 4/50\n",
      "\n",
      "Epoch 00004: acc improved from 0.48674 to 0.54879, saving model to C:\\Users\\user\\Desktop\\project\\checkpoint50_record\\model_iter50_1.hdf5\n",
      "22400/22400 - 87s - loss: 1.0562 - acc: 0.5488 - val_loss: 1.3857 - val_acc: 0.5138\n",
      "Epoch 5/50\n",
      "\n",
      "Epoch 00005: acc improved from 0.54879 to 0.58263, saving model to C:\\Users\\user\\Desktop\\project\\checkpoint50_record\\model_iter50_1.hdf5\n",
      "22400/22400 - 87s - loss: 0.9693 - acc: 0.5826 - val_loss: 2.9241 - val_acc: 0.3348\n",
      "Epoch 6/50\n",
      "\n",
      "Epoch 00006: acc improved from 0.58263 to 0.61013, saving model to C:\\Users\\user\\Desktop\\project\\checkpoint50_record\\model_iter50_1.hdf5\n",
      "22400/22400 - 87s - loss: 0.8767 - acc: 0.6101 - val_loss: 0.9537 - val_acc: 0.5857\n",
      "Epoch 7/50\n",
      "\n",
      "Epoch 00007: acc improved from 0.61013 to 0.63692, saving model to C:\\Users\\user\\Desktop\\project\\checkpoint50_record\\model_iter50_1.hdf5\n",
      "22400/22400 - 87s - loss: 0.8082 - acc: 0.6369 - val_loss: 1.7862 - val_acc: 0.5131\n",
      "Epoch 8/50\n",
      "\n",
      "Epoch 00008: acc improved from 0.63692 to 0.63759, saving model to C:\\Users\\user\\Desktop\\project\\checkpoint50_record\\model_iter50_1.hdf5\n",
      "22400/22400 - 87s - loss: 0.8230 - acc: 0.6376 - val_loss: 0.9974 - val_acc: 0.6039\n",
      "Epoch 9/50\n",
      "\n",
      "Epoch 00009: acc improved from 0.63759 to 0.64942, saving model to C:\\Users\\user\\Desktop\\project\\checkpoint50_record\\model_iter50_1.hdf5\n",
      "22400/22400 - 87s - loss: 0.7762 - acc: 0.6494 - val_loss: 2.5278 - val_acc: 0.4635\n",
      "Epoch 10/50\n",
      "\n",
      "Epoch 00010: acc did not improve from 0.64942\n",
      "22400/22400 - 87s - loss: 0.8689 - acc: 0.6192 - val_loss: 1.1193 - val_acc: 0.5412\n",
      "Epoch 11/50\n",
      "\n",
      "Epoch 00011: acc improved from 0.64942 to 0.65165, saving model to C:\\Users\\user\\Desktop\\project\\checkpoint50_record\\model_iter50_1.hdf5\n",
      "22400/22400 - 87s - loss: 0.7596 - acc: 0.6517 - val_loss: 0.8190 - val_acc: 0.6315\n",
      "Epoch 12/50\n",
      "\n",
      "Epoch 00012: acc improved from 0.65165 to 0.67232, saving model to C:\\Users\\user\\Desktop\\project\\checkpoint50_record\\model_iter50_1.hdf5\n",
      "22400/22400 - 87s - loss: 0.7000 - acc: 0.6723 - val_loss: 1.4567 - val_acc: 0.5799\n",
      "Epoch 13/50\n",
      "\n",
      "Epoch 00013: acc improved from 0.67232 to 0.68464, saving model to C:\\Users\\user\\Desktop\\project\\checkpoint50_record\\model_iter50_1.hdf5\n",
      "22400/22400 - 87s - loss: 0.6704 - acc: 0.6846 - val_loss: 1.1413 - val_acc: 0.5808\n",
      "Epoch 14/50\n",
      "\n",
      "Epoch 00014: acc improved from 0.68464 to 0.69960, saving model to C:\\Users\\user\\Desktop\\project\\checkpoint50_record\\model_iter50_1.hdf5\n",
      "22400/22400 - 87s - loss: 0.6230 - acc: 0.6996 - val_loss: 0.6538 - val_acc: 0.6858\n",
      "Epoch 15/50\n",
      "\n",
      "Epoch 00015: acc improved from 0.69960 to 0.70263, saving model to C:\\Users\\user\\Desktop\\project\\checkpoint50_record\\model_iter50_1.hdf5\n",
      "22400/22400 - 87s - loss: 0.6050 - acc: 0.7026 - val_loss: 0.6293 - val_acc: 0.6986\n",
      "Epoch 16/50\n",
      "\n",
      "Epoch 00016: acc improved from 0.70263 to 0.70728, saving model to C:\\Users\\user\\Desktop\\project\\checkpoint50_record\\model_iter50_1.hdf5\n",
      "22400/22400 - 87s - loss: 0.5999 - acc: 0.7073 - val_loss: 1.7209 - val_acc: 0.5738\n",
      "Epoch 17/50\n",
      "\n",
      "Epoch 00017: acc improved from 0.70728 to 0.71558, saving model to C:\\Users\\user\\Desktop\\project\\checkpoint50_record\\model_iter50_1.hdf5\n",
      "22400/22400 - 87s - loss: 0.5729 - acc: 0.7156 - val_loss: 0.6671 - val_acc: 0.6873\n",
      "Epoch 18/50\n",
      "\n",
      "Epoch 00018: acc improved from 0.71558 to 0.71915, saving model to C:\\Users\\user\\Desktop\\project\\checkpoint50_record\\model_iter50_1.hdf5\n",
      "22400/22400 - 88s - loss: 0.5490 - acc: 0.7192 - val_loss: 0.9824 - val_acc: 0.6236\n",
      "Epoch 19/50\n",
      "\n",
      "Epoch 00019: acc improved from 0.71915 to 0.72969, saving model to C:\\Users\\user\\Desktop\\project\\checkpoint50_record\\model_iter50_1.hdf5\n",
      "22400/22400 - 87s - loss: 0.5044 - acc: 0.7297 - val_loss: 0.5381 - val_acc: 0.7138\n",
      "Epoch 20/50\n",
      "\n",
      "Epoch 00020: acc improved from 0.72969 to 0.74000, saving model to C:\\Users\\user\\Desktop\\project\\checkpoint50_record\\model_iter50_1.hdf5\n",
      "22400/22400 - 87s - loss: 0.4836 - acc: 0.7400 - val_loss: 1.3786 - val_acc: 0.6480\n",
      "Epoch 21/50\n",
      "\n",
      "Epoch 00021: acc improved from 0.74000 to 0.74455, saving model to C:\\Users\\user\\Desktop\\project\\checkpoint50_record\\model_iter50_1.hdf5\n",
      "22400/22400 - 87s - loss: 0.4791 - acc: 0.7446 - val_loss: 0.5382 - val_acc: 0.7312\n",
      "Epoch 22/50\n",
      "\n",
      "Epoch 00022: acc improved from 0.74455 to 0.74692, saving model to C:\\Users\\user\\Desktop\\project\\checkpoint50_record\\model_iter50_1.hdf5\n",
      "22400/22400 - 87s - loss: 0.4657 - acc: 0.7469 - val_loss: 0.7285 - val_acc: 0.6823\n",
      "Epoch 23/50\n",
      "\n",
      "Epoch 00023: acc improved from 0.74692 to 0.75174, saving model to C:\\Users\\user\\Desktop\\project\\checkpoint50_record\\model_iter50_1.hdf5\n",
      "22400/22400 - 87s - loss: 0.4654 - acc: 0.7517 - val_loss: 0.5310 - val_acc: 0.7307\n",
      "Epoch 24/50\n",
      "\n",
      "Epoch 00024: acc did not improve from 0.75174\n",
      "22400/22400 - 87s - loss: 0.4814 - acc: 0.7478 - val_loss: 0.5077 - val_acc: 0.7350\n",
      "Epoch 25/50\n",
      "\n",
      "Epoch 00025: acc improved from 0.75174 to 0.75607, saving model to C:\\Users\\user\\Desktop\\project\\checkpoint50_record\\model_iter50_1.hdf5\n",
      "22400/22400 - 87s - loss: 0.4528 - acc: 0.7561 - val_loss: 0.4832 - val_acc: 0.7462\n",
      "Epoch 26/50\n",
      "\n",
      "Epoch 00026: acc did not improve from 0.75607\n",
      "22400/22400 - 87s - loss: 0.4852 - acc: 0.7558 - val_loss: 0.5142 - val_acc: 0.7311\n",
      "Epoch 27/50\n",
      "\n",
      "Epoch 00027: acc did not improve from 0.75607\n",
      "22400/22400 - 87s - loss: 0.4602 - acc: 0.7532 - val_loss: 0.6019 - val_acc: 0.7084\n",
      "Epoch 28/50\n",
      "\n",
      "Epoch 00028: acc improved from 0.75607 to 0.76768, saving model to C:\\Users\\user\\Desktop\\project\\checkpoint50_record\\model_iter50_1.hdf5\n",
      "22400/22400 - 87s - loss: 0.4376 - acc: 0.7677 - val_loss: 0.4818 - val_acc: 0.7418\n",
      "Epoch 29/50\n",
      "\n",
      "Epoch 00029: acc improved from 0.76768 to 0.77272, saving model to C:\\Users\\user\\Desktop\\project\\checkpoint50_record\\model_iter50_1.hdf5\n",
      "22400/22400 - 87s - loss: 0.4423 - acc: 0.7727 - val_loss: 45.9729 - val_acc: 0.5923\n",
      "Epoch 30/50\n",
      "\n",
      "Epoch 00030: acc improved from 0.77272 to 0.77397, saving model to C:\\Users\\user\\Desktop\\project\\checkpoint50_record\\model_iter50_1.hdf5\n",
      "22400/22400 - 87s - loss: 0.4326 - acc: 0.7740 - val_loss: 0.5026 - val_acc: 0.7421\n",
      "Epoch 31/50\n",
      "\n",
      "Epoch 00031: acc improved from 0.77397 to 0.78647, saving model to C:\\Users\\user\\Desktop\\project\\checkpoint50_record\\model_iter50_1.hdf5\n",
      "22400/22400 - 87s - loss: 0.4187 - acc: 0.7865 - val_loss: 0.5119 - val_acc: 0.7448\n",
      "Epoch 32/50\n",
      "\n",
      "Epoch 00032: acc improved from 0.78647 to 0.79196, saving model to C:\\Users\\user\\Desktop\\project\\checkpoint50_record\\model_iter50_1.hdf5\n",
      "22400/22400 - 87s - loss: 0.4061 - acc: 0.7920 - val_loss: 0.5603 - val_acc: 0.7289\n",
      "Epoch 33/50\n",
      "\n",
      "Epoch 00033: acc improved from 0.79196 to 0.79714, saving model to C:\\Users\\user\\Desktop\\project\\checkpoint50_record\\model_iter50_1.hdf5\n",
      "22400/22400 - 87s - loss: 0.4154 - acc: 0.7971 - val_loss: 1.2243 - val_acc: 0.6119\n",
      "Epoch 34/50\n",
      "\n",
      "Epoch 00034: acc did not improve from 0.79714\n",
      "22400/22400 - 87s - loss: 0.4947 - acc: 0.7681 - val_loss: 0.6964 - val_acc: 0.6949\n",
      "Epoch 35/50\n",
      "\n",
      "Epoch 00035: acc did not improve from 0.79714\n",
      "22400/22400 - 87s - loss: 0.4330 - acc: 0.7815 - val_loss: 0.7159 - val_acc: 0.7328\n",
      "Epoch 36/50\n",
      "\n",
      "Epoch 00036: acc improved from 0.79714 to 0.80629, saving model to C:\\Users\\user\\Desktop\\project\\checkpoint50_record\\model_iter50_1.hdf5\n",
      "22400/22400 - 88s - loss: 0.3991 - acc: 0.8063 - val_loss: 0.5211 - val_acc: 0.7383\n",
      "Epoch 37/50\n",
      "\n",
      "Epoch 00037: acc improved from 0.80629 to 0.83094, saving model to C:\\Users\\user\\Desktop\\project\\checkpoint50_record\\model_iter50_1.hdf5\n",
      "22400/22400 - 87s - loss: 0.3589 - acc: 0.8309 - val_loss: 0.5208 - val_acc: 0.7472\n",
      "Epoch 38/50\n",
      "\n",
      "Epoch 00038: acc improved from 0.83094 to 0.84054, saving model to C:\\Users\\user\\Desktop\\project\\checkpoint50_record\\model_iter50_1.hdf5\n"
     ]
    },
    {
     "name": "stdout",
     "output_type": "stream",
     "text": [
      "22400/22400 - 87s - loss: 0.3546 - acc: 0.8405 - val_loss: 0.6191 - val_acc: 0.7451\n",
      "Epoch 39/50\n",
      "\n",
      "Epoch 00039: acc improved from 0.84054 to 0.86103, saving model to C:\\Users\\user\\Desktop\\project\\checkpoint50_record\\model_iter50_1.hdf5\n",
      "22400/22400 - 87s - loss: 0.3130 - acc: 0.8610 - val_loss: 0.8291 - val_acc: 0.7029\n",
      "Epoch 40/50\n",
      "\n",
      "Epoch 00040: acc did not improve from 0.86103\n",
      "22400/22400 - 87s - loss: 0.3691 - acc: 0.8298 - val_loss: 0.5512 - val_acc: 0.7493\n",
      "Epoch 41/50\n",
      "\n",
      "Epoch 00041: acc did not improve from 0.86103\n",
      "22400/22400 - 87s - loss: 0.3293 - acc: 0.8536 - val_loss: 0.6074 - val_acc: 0.7391\n",
      "Epoch 42/50\n",
      "\n",
      "Epoch 00042: acc did not improve from 0.86103\n",
      "22400/22400 - 87s - loss: 0.3428 - acc: 0.8526 - val_loss: 2.2954 - val_acc: 0.5435\n",
      "Epoch 43/50\n",
      "\n",
      "Epoch 00043: acc did not improve from 0.86103\n",
      "22400/22400 - 87s - loss: 0.4035 - acc: 0.8077 - val_loss: 0.5643 - val_acc: 0.7378\n",
      "Epoch 44/50\n",
      "\n",
      "Epoch 00044: acc did not improve from 0.86103\n",
      "22400/22400 - 87s - loss: 0.3306 - acc: 0.8580 - val_loss: 0.9468 - val_acc: 0.6704\n",
      "Epoch 45/50\n",
      "\n",
      "Epoch 00045: acc improved from 0.86103 to 0.89996, saving model to C:\\Users\\user\\Desktop\\project\\checkpoint50_record\\model_iter50_1.hdf5\n",
      "22400/22400 - 87s - loss: 0.2382 - acc: 0.9000 - val_loss: 0.7098 - val_acc: 0.7400\n",
      "Epoch 46/50\n",
      "\n",
      "Epoch 00046: acc improved from 0.89996 to 0.93036, saving model to C:\\Users\\user\\Desktop\\project\\checkpoint50_record\\model_iter50_1.hdf5\n",
      "22400/22400 - 87s - loss: 0.1778 - acc: 0.9304 - val_loss: 0.8355 - val_acc: 0.7385\n",
      "Epoch 47/50\n",
      "\n",
      "Epoch 00047: acc improved from 0.93036 to 0.94714, saving model to C:\\Users\\user\\Desktop\\project\\checkpoint50_record\\model_iter50_1.hdf5\n",
      "22400/22400 - 87s - loss: 0.1389 - acc: 0.9471 - val_loss: 1.6322 - val_acc: 0.7266\n",
      "Epoch 48/50\n",
      "\n",
      "Epoch 00048: acc did not improve from 0.94714\n",
      "22400/22400 - 87s - loss: 0.1696 - acc: 0.9358 - val_loss: 1.1323 - val_acc: 0.7359\n",
      "Epoch 49/50\n",
      "\n",
      "Epoch 00049: acc improved from 0.94714 to 0.95094, saving model to C:\\Users\\user\\Desktop\\project\\checkpoint50_record\\model_iter50_1.hdf5\n",
      "22400/22400 - 87s - loss: 0.1378 - acc: 0.9509 - val_loss: 3.0299 - val_acc: 0.7460\n",
      "Epoch 50/50\n",
      "\n",
      "Epoch 00050: acc did not improve from 0.95094\n",
      "22400/22400 - 87s - loss: 0.3533 - acc: 0.8794 - val_loss: 0.8024 - val_acc: 0.7351\n"
     ]
    }
   ],
   "source": [
    "tensorboard = TensorBoard(log_dir= 'logs\\{}'.format('Tf')) \n",
    "                                                          #這個指令會在現在的位置在加一個 'log' 的資料夾\n",
    "                                                          #這裡不用做修改\n",
    "    \n",
    "##Check points\n",
    "\n",
    "# 將最高的那次紀錄下來，儲存在 \"checkpoint10_record\"的資料夾裡\n",
    "\n",
    "# 檔名這裡 model_iter10_1.hdf5 要自己修改  10是epoch ,1是第一次\n",
    "\n",
    "filepath=\"C:\\\\Users\\\\user\\\\Desktop\\\\project\\\\checkpoint50_record\\\\model_iter50_1.hdf5\" \n",
    "checkpoint = ModelCheckpoint(filepath, monitor='acc', verbose=1, save_best_only=True,\n",
    "mode='max')\n",
    "\n",
    "\n",
    "model.compile(loss='categorical_crossentropy', optimizer='adam', metrics=['accuracy']) \n",
    "\n",
    "train_history_50_1 = model.fit(x=x_train, y=y_train, validation_split=0.3, epochs=50, batch_size=80, verbose=2, shuffle = True, callbacks = [checkpoint , tensorboard])  \n",
    "\n",
    "# train_history_10_1要修改 10是epoch ,1是第一次"
   ]
  },
  {
   "cell_type": "code",
   "execution_count": 11,
   "metadata": {},
   "outputs": [],
   "source": [
    "#把訓練結果(train_history_10_1)存成list 匯出去存在'train_history'的資料夾裡     \n",
    "\n",
    "# file='train_history的資料夾\\train_history_10_1.lst'\n",
    "                                                                          #改\n",
    "with open(file=r'C:\\Users\\user\\Desktop\\project\\train_history\\train_history_50_1.lst',mode=\"wb\") as outhis:     \n",
    "                                                    \n",
    "    pickle.dump(train_history_50_1.history, outhis)  \n",
    "                              #改"
   ]
  },
  {
   "cell_type": "code",
   "execution_count": null,
   "metadata": {},
   "outputs": [],
   "source": [
    "#### 確認一下 'train_history'資料夾裡有沒有檔案 應該要有一個train_history_30_1.lst的檔案"
   ]
  },
  {
   "cell_type": "markdown",
   "metadata": {},
   "source": [
    "## 第二次開始"
   ]
  },
  {
   "cell_type": "code",
   "execution_count": 12,
   "metadata": {},
   "outputs": [
    {
     "name": "stdout",
     "output_type": "stream",
     "text": [
      "Train on 22400 samples, validate on 9600 samples\n",
      "Epoch 1/50\n",
      "\n",
      "Epoch 00001: acc improved from -inf to 0.30692, saving model to C:\\Users\\user\\Desktop\\project\\checkpoint50_record\\model_iter50_2.hdf5\n",
      "22400/22400 - 89s - loss: 2.1354 - acc: 0.3069 - val_loss: 2.3314 - val_acc: 0.2141\n",
      "Epoch 2/50\n",
      "\n",
      "Epoch 00002: acc improved from 0.30692 to 0.43000, saving model to C:\\Users\\user\\Desktop\\project\\checkpoint50_record\\model_iter50_2.hdf5\n",
      "22400/22400 - 87s - loss: 1.4086 - acc: 0.4300 - val_loss: 3.3837 - val_acc: 0.2007\n",
      "Epoch 3/50\n",
      "\n",
      "Epoch 00003: acc improved from 0.43000 to 0.46835, saving model to C:\\Users\\user\\Desktop\\project\\checkpoint50_record\\model_iter50_2.hdf5\n",
      "22400/22400 - 87s - loss: 1.2409 - acc: 0.4683 - val_loss: 1.8868 - val_acc: 0.2710\n",
      "Epoch 4/50\n",
      "\n",
      "Epoch 00004: acc improved from 0.46835 to 0.51638, saving model to C:\\Users\\user\\Desktop\\project\\checkpoint50_record\\model_iter50_2.hdf5\n",
      "22400/22400 - 87s - loss: 1.1031 - acc: 0.5164 - val_loss: 1.3775 - val_acc: 0.4363\n",
      "Epoch 5/50\n",
      "\n",
      "Epoch 00005: acc improved from 0.51638 to 0.57268, saving model to C:\\Users\\user\\Desktop\\project\\checkpoint50_record\\model_iter50_2.hdf5\n",
      "22400/22400 - 87s - loss: 0.9829 - acc: 0.5727 - val_loss: 1.4267 - val_acc: 0.4541\n",
      "Epoch 6/50\n",
      "\n",
      "Epoch 00006: acc improved from 0.57268 to 0.61022, saving model to C:\\Users\\user\\Desktop\\project\\checkpoint50_record\\model_iter50_2.hdf5\n",
      "22400/22400 - 87s - loss: 0.8901 - acc: 0.6102 - val_loss: 1.8093 - val_acc: 0.4406\n",
      "Epoch 7/50\n",
      "\n",
      "Epoch 00007: acc improved from 0.61022 to 0.63272, saving model to C:\\Users\\user\\Desktop\\project\\checkpoint50_record\\model_iter50_2.hdf5\n",
      "22400/22400 - 87s - loss: 0.8281 - acc: 0.6327 - val_loss: 0.8496 - val_acc: 0.6182\n",
      "Epoch 8/50\n",
      "\n",
      "Epoch 00008: acc improved from 0.63272 to 0.64897, saving model to C:\\Users\\user\\Desktop\\project\\checkpoint50_record\\model_iter50_2.hdf5\n",
      "22400/22400 - 645s - loss: 0.7697 - acc: 0.6490 - val_loss: 0.8192 - val_acc: 0.6329\n",
      "Epoch 9/50\n",
      "\n",
      "Epoch 00009: acc improved from 0.64897 to 0.66397, saving model to C:\\Users\\user\\Desktop\\project\\checkpoint50_record\\model_iter50_2.hdf5\n",
      "22400/22400 - 87s - loss: 0.7349 - acc: 0.6640 - val_loss: 1.0906 - val_acc: 0.6018\n",
      "Epoch 10/50\n",
      "\n",
      "Epoch 00010: acc improved from 0.66397 to 0.67116, saving model to C:\\Users\\user\\Desktop\\project\\checkpoint50_record\\model_iter50_2.hdf5\n",
      "22400/22400 - 87s - loss: 0.7011 - acc: 0.6712 - val_loss: 1.1381 - val_acc: 0.5814\n",
      "Epoch 11/50\n",
      "\n",
      "Epoch 00011: acc did not improve from 0.67116\n",
      "22400/22400 - 87s - loss: 0.7167 - acc: 0.6672 - val_loss: 0.7569 - val_acc: 0.6592\n",
      "Epoch 12/50\n",
      "\n",
      "Epoch 00012: acc improved from 0.67116 to 0.69246, saving model to C:\\Users\\user\\Desktop\\project\\checkpoint50_record\\model_iter50_2.hdf5\n",
      "22400/22400 - 87s - loss: 0.6459 - acc: 0.6925 - val_loss: 0.7571 - val_acc: 0.6617\n",
      "Epoch 13/50\n",
      "\n",
      "Epoch 00013: acc improved from 0.69246 to 0.70473, saving model to C:\\Users\\user\\Desktop\\project\\checkpoint50_record\\model_iter50_2.hdf5\n",
      "22400/22400 - 88s - loss: 0.6149 - acc: 0.7047 - val_loss: 1.3077 - val_acc: 0.5462\n",
      "Epoch 14/50\n",
      "\n",
      "Epoch 00014: acc improved from 0.70473 to 0.71281, saving model to C:\\Users\\user\\Desktop\\project\\checkpoint50_record\\model_iter50_2.hdf5\n",
      "22400/22400 - 88s - loss: 0.5809 - acc: 0.7128 - val_loss: 1.5508 - val_acc: 0.5740\n",
      "Epoch 15/50\n",
      "\n",
      "Epoch 00015: acc did not improve from 0.71281\n",
      "22400/22400 - 87s - loss: 0.5730 - acc: 0.7123 - val_loss: 0.9926 - val_acc: 0.6444\n",
      "Epoch 16/50\n",
      "\n",
      "Epoch 00016: acc improved from 0.71281 to 0.72138, saving model to C:\\Users\\user\\Desktop\\project\\checkpoint50_record\\model_iter50_2.hdf5\n",
      "22400/22400 - 87s - loss: 0.5279 - acc: 0.7214 - val_loss: 0.5716 - val_acc: 0.7075\n",
      "Epoch 17/50\n",
      "\n",
      "Epoch 00017: acc improved from 0.72138 to 0.73317, saving model to C:\\Users\\user\\Desktop\\project\\checkpoint50_record\\model_iter50_2.hdf5\n",
      "22400/22400 - 87s - loss: 0.4901 - acc: 0.7332 - val_loss: 0.5352 - val_acc: 0.7236\n",
      "Epoch 18/50\n",
      "\n",
      "Epoch 00018: acc improved from 0.73317 to 0.74192, saving model to C:\\Users\\user\\Desktop\\project\\checkpoint50_record\\model_iter50_2.hdf5\n",
      "22400/22400 - 87s - loss: 0.4817 - acc: 0.7419 - val_loss: 0.8724 - val_acc: 0.6615\n",
      "Epoch 19/50\n",
      "\n",
      "Epoch 00019: acc did not improve from 0.74192\n",
      "22400/22400 - 87s - loss: 0.4864 - acc: 0.7380 - val_loss: 0.5055 - val_acc: 0.7302\n",
      "Epoch 20/50\n",
      "\n",
      "Epoch 00020: acc did not improve from 0.74192\n",
      "22400/22400 - 87s - loss: 0.4992 - acc: 0.7346 - val_loss: 1.1260 - val_acc: 0.6204\n",
      "Epoch 21/50\n",
      "\n",
      "Epoch 00021: acc improved from 0.74192 to 0.74442, saving model to C:\\Users\\user\\Desktop\\project\\checkpoint50_record\\model_iter50_2.hdf5\n",
      "22400/22400 - 88s - loss: 0.4729 - acc: 0.7444 - val_loss: 0.4783 - val_acc: 0.7385\n",
      "Epoch 22/50\n",
      "\n",
      "Epoch 00022: acc improved from 0.74442 to 0.74929, saving model to C:\\Users\\user\\Desktop\\project\\checkpoint50_record\\model_iter50_2.hdf5\n",
      "22400/22400 - 87s - loss: 0.4632 - acc: 0.7493 - val_loss: 0.4787 - val_acc: 0.7417\n",
      "Epoch 23/50\n",
      "\n",
      "Epoch 00023: acc did not improve from 0.74929\n",
      "22400/22400 - 87s - loss: 0.4794 - acc: 0.7485 - val_loss: 2.1633 - val_acc: 0.4749\n",
      "Epoch 24/50\n",
      "\n",
      "Epoch 00024: acc did not improve from 0.74929\n",
      "22400/22400 - 87s - loss: 0.4792 - acc: 0.7461 - val_loss: 0.4994 - val_acc: 0.7307\n",
      "Epoch 25/50\n",
      "\n",
      "Epoch 00025: acc improved from 0.74929 to 0.75089, saving model to C:\\Users\\user\\Desktop\\project\\checkpoint50_record\\model_iter50_2.hdf5\n",
      "22400/22400 - 87s - loss: 0.4632 - acc: 0.7509 - val_loss: 0.4893 - val_acc: 0.7306\n",
      "Epoch 26/50\n",
      "\n",
      "Epoch 00026: acc improved from 0.75089 to 0.75527, saving model to C:\\Users\\user\\Desktop\\project\\checkpoint50_record\\model_iter50_2.hdf5\n",
      "22400/22400 - 87s - loss: 0.4452 - acc: 0.7553 - val_loss: 0.5358 - val_acc: 0.7364\n",
      "Epoch 27/50\n",
      "\n",
      "Epoch 00027: acc improved from 0.75527 to 0.76036, saving model to C:\\Users\\user\\Desktop\\project\\checkpoint50_record\\model_iter50_2.hdf5\n",
      "22400/22400 - 87s - loss: 0.4441 - acc: 0.7604 - val_loss: 0.4996 - val_acc: 0.7360\n",
      "Epoch 28/50\n",
      "\n",
      "Epoch 00028: acc did not improve from 0.76036\n",
      "22400/22400 - 87s - loss: 0.7039 - acc: 0.6847 - val_loss: 1.0923 - val_acc: 0.5619\n",
      "Epoch 29/50\n",
      "\n",
      "Epoch 00029: acc did not improve from 0.76036\n",
      "22400/22400 - 87s - loss: 0.5129 - acc: 0.7297 - val_loss: 0.5451 - val_acc: 0.7153\n",
      "Epoch 30/50\n",
      "\n",
      "Epoch 00030: acc did not improve from 0.76036\n",
      "22400/22400 - 87s - loss: 0.4709 - acc: 0.7493 - val_loss: 0.6297 - val_acc: 0.7063\n",
      "Epoch 31/50\n",
      "\n",
      "Epoch 00031: acc did not improve from 0.76036\n",
      "22400/22400 - 87s - loss: 0.4551 - acc: 0.7587 - val_loss: 1.1854 - val_acc: 0.6079\n",
      "Epoch 32/50\n",
      "\n",
      "Epoch 00032: acc improved from 0.76036 to 0.76152, saving model to C:\\Users\\user\\Desktop\\project\\checkpoint50_record\\model_iter50_2.hdf5\n",
      "22400/22400 - 87s - loss: 0.4459 - acc: 0.7615 - val_loss: 0.5593 - val_acc: 0.7252\n",
      "Epoch 33/50\n",
      "\n",
      "Epoch 00033: acc improved from 0.76152 to 0.76576, saving model to C:\\Users\\user\\Desktop\\project\\checkpoint50_record\\model_iter50_2.hdf5\n",
      "22400/22400 - 87s - loss: 0.4390 - acc: 0.7658 - val_loss: 0.5280 - val_acc: 0.7425\n",
      "Epoch 34/50\n",
      "\n",
      "Epoch 00034: acc did not improve from 0.76576\n",
      "22400/22400 - 87s - loss: 0.7260 - acc: 0.7044 - val_loss: 0.6576 - val_acc: 0.6908\n",
      "Epoch 35/50\n",
      "\n",
      "Epoch 00035: acc did not improve from 0.76576\n",
      "22400/22400 - 87s - loss: 0.5069 - acc: 0.7421 - val_loss: 0.6050 - val_acc: 0.7101\n",
      "Epoch 36/50\n",
      "\n",
      "Epoch 00036: acc did not improve from 0.76576\n",
      "22400/22400 - 87s - loss: 0.4642 - acc: 0.7595 - val_loss: 0.4960 - val_acc: 0.7442\n",
      "Epoch 37/50\n",
      "\n",
      "Epoch 00037: acc improved from 0.76576 to 0.77165, saving model to C:\\Users\\user\\Desktop\\project\\checkpoint50_record\\model_iter50_2.hdf5\n",
      "22400/22400 - 87s - loss: 0.4380 - acc: 0.7717 - val_loss: 0.5152 - val_acc: 0.7367\n",
      "Epoch 38/50\n",
      "\n",
      "Epoch 00038: acc improved from 0.77165 to 0.78250, saving model to C:\\Users\\user\\Desktop\\project\\checkpoint50_record\\model_iter50_2.hdf5\n",
      "22400/22400 - 87s - loss: 0.4219 - acc: 0.7825 - val_loss: 0.4962 - val_acc: 0.7472\n",
      "Epoch 39/50\n",
      "\n",
      "Epoch 00039: acc improved from 0.78250 to 0.78674, saving model to C:\\Users\\user\\Desktop\\project\\checkpoint50_record\\model_iter50_2.hdf5\n",
      "22400/22400 - 87s - loss: 0.4196 - acc: 0.7867 - val_loss: 0.5500 - val_acc: 0.7442\n",
      "Epoch 40/50\n",
      "\n",
      "Epoch 00040: acc improved from 0.78674 to 0.79134, saving model to C:\\Users\\user\\Desktop\\project\\checkpoint50_record\\model_iter50_2.hdf5\n",
      "22400/22400 - 87s - loss: 0.4130 - acc: 0.7913 - val_loss: 0.8208 - val_acc: 0.6968\n"
     ]
    },
    {
     "name": "stdout",
     "output_type": "stream",
     "text": [
      "Epoch 41/50\n",
      "\n",
      "Epoch 00041: acc improved from 0.79134 to 0.79696, saving model to C:\\Users\\user\\Desktop\\project\\checkpoint50_record\\model_iter50_2.hdf5\n",
      "22400/22400 - 87s - loss: 0.4098 - acc: 0.7970 - val_loss: 0.7272 - val_acc: 0.7441\n",
      "Epoch 42/50\n",
      "\n",
      "Epoch 00042: acc did not improve from 0.79696\n",
      "22400/22400 - 87s - loss: 0.4456 - acc: 0.7834 - val_loss: 0.7331 - val_acc: 0.7293\n",
      "Epoch 43/50\n",
      "\n",
      "Epoch 00043: acc improved from 0.79696 to 0.80661, saving model to C:\\Users\\user\\Desktop\\project\\checkpoint50_record\\model_iter50_2.hdf5\n",
      "22400/22400 - 87s - loss: 0.3881 - acc: 0.8066 - val_loss: 0.5385 - val_acc: 0.7419\n",
      "Epoch 44/50\n",
      "\n",
      "Epoch 00044: acc improved from 0.80661 to 0.81696, saving model to C:\\Users\\user\\Desktop\\project\\checkpoint50_record\\model_iter50_2.hdf5\n",
      "22400/22400 - 87s - loss: 0.3767 - acc: 0.8170 - val_loss: 0.7351 - val_acc: 0.7323\n",
      "Epoch 45/50\n",
      "\n",
      "Epoch 00045: acc improved from 0.81696 to 0.82491, saving model to C:\\Users\\user\\Desktop\\project\\checkpoint50_record\\model_iter50_2.hdf5\n",
      "22400/22400 - 87s - loss: 0.3695 - acc: 0.8249 - val_loss: 0.8322 - val_acc: 0.7271\n",
      "Epoch 46/50\n",
      "\n",
      "Epoch 00046: acc improved from 0.82491 to 0.83978, saving model to C:\\Users\\user\\Desktop\\project\\checkpoint50_record\\model_iter50_2.hdf5\n",
      "22400/22400 - 87s - loss: 0.3419 - acc: 0.8398 - val_loss: 0.7529 - val_acc: 0.7339\n",
      "Epoch 47/50\n",
      "\n",
      "Epoch 00047: acc did not improve from 0.83978\n",
      "22400/22400 - 87s - loss: 0.5983 - acc: 0.7771 - val_loss: 0.6030 - val_acc: 0.7099\n",
      "Epoch 48/50\n",
      "\n",
      "Epoch 00048: acc did not improve from 0.83978\n",
      "22400/22400 - 87s - loss: 0.3836 - acc: 0.8163 - val_loss: 0.5392 - val_acc: 0.7404\n",
      "Epoch 49/50\n",
      "\n",
      "Epoch 00049: acc did not improve from 0.83978\n",
      "22400/22400 - 87s - loss: 0.3958 - acc: 0.8281 - val_loss: 428.1598 - val_acc: 0.5090\n",
      "Epoch 50/50\n",
      "\n",
      "Epoch 00050: acc did not improve from 0.83978\n",
      "22400/22400 - 87s - loss: 0.4010 - acc: 0.8102 - val_loss: 0.5704 - val_acc: 0.7419\n"
     ]
    }
   ],
   "source": [
    "# model2\n",
    "# 記得改成 model2\n",
    "\n",
    "def VGG16(include_top=True,input_tensor=None, input_shape=(100,100,1),\n",
    "          pooling='max',classes=1000):\n",
    "    global model2 \n",
    "#     global model\n",
    "    model2 = Sequential([\n",
    "        Conv2D(64, (3, 3), input_shape=input_shape, padding='same',\n",
    "               activation='relu'),\n",
    "        Conv2D(64, (3, 3), activation='relu', padding='same'),\n",
    "        BatchNormalization(momentum=0.99, epsilon=0.001),\n",
    "        MaxPooling2D(pool_size=(2, 2), strides=(2, 2)),\n",
    "        Conv2D(128, (3, 3), activation='relu', padding='same'),\n",
    "        Conv2D(128, (3, 3), activation='relu', padding='same',),\n",
    "        BatchNormalization(momentum=0.99, epsilon=0.001),\n",
    "        MaxPooling2D(pool_size=(2, 2), strides=(2, 2)),\n",
    "        Conv2D(256, (3, 3), activation='relu', padding='same',),\n",
    "        Conv2D(256, (3, 3), activation='relu', padding='same',),\n",
    "        Conv2D(256, (3, 3), activation='relu', padding='same',),\n",
    "        BatchNormalization(momentum=0.99, epsilon=0.001), \n",
    "        MaxPooling2D(pool_size=(2, 2), strides=(2, 2)),\n",
    "        Conv2D(512, (3, 3), activation='relu', padding='same',),\n",
    "        Conv2D(512, (3, 3), activation='relu', padding='same',),\n",
    "        Conv2D(512, (3, 3), activation='relu', padding='same',),\n",
    "        BatchNormalization(momentum=0.99, epsilon=0.001),\n",
    "        MaxPooling2D(pool_size=(2, 2), strides=(2, 2)),\n",
    "        Conv2D(512, (3, 3), activation='relu', padding='same',),\n",
    "        Conv2D(512, (3, 3), activation='relu', padding='same',),\n",
    "        Conv2D(512, (3, 3), activation='relu', padding='same',),\n",
    "        BatchNormalization(momentum=0.99, epsilon=0.001),\n",
    "        MaxPooling2D(pool_size=(2, 2), strides=(2, 2)),\n",
    "        Flatten(),\n",
    "        Dense(4096, activation='relu'),\n",
    "        Dense(4096, activation='relu'),\n",
    "        Dense(1000, activation='relu'),\n",
    "        Dense(8,activation = 'softmax')\n",
    "        ])\n",
    "VGG16()\n",
    "\n",
    "\n",
    "tensorboard = TensorBoard(log_dir= 'logs\\{}'.format('Tf'))\n",
    "\n",
    "\n",
    "model2.compile(optimizer = 'adam', loss = 'categorical_crossentropy', metrics = ['accuracy'])\n",
    "\n",
    "##Check points\n",
    "\n",
    "# 將最高的那次紀錄下來，儲存在 \"checkpoint30_record\"的資料夾裡\n",
    "# 檔名這裡 model_iter30_2.hdf5 要自己修改  30是epoch ,2是第一次\n",
    "\n",
    "filepath=\"C:\\\\Users\\\\user\\\\Desktop\\\\project\\\\checkpoint50_record\\\\model_iter50_2.hdf5\" \n",
    "checkpoint = ModelCheckpoint(filepath, monitor='acc', verbose=1, save_best_only=True,\n",
    "mode='max')\n",
    "train_history_50_2 = model2.fit(x=x_train, y=y_train, validation_split=0.3, epochs=50, batch_size=80, verbose=2, shuffle = True, callbacks = [checkpoint , tensorboard])  \n",
    "# train_history_30_2要修改 30是epoch ,2是第2次"
   ]
  },
  {
   "cell_type": "code",
   "execution_count": 13,
   "metadata": {},
   "outputs": [],
   "source": [
    "#把訓練結果(train_history_30_2)存成list 匯出去存在'train_history'的資料夾裡    \n",
    "\n",
    "# 裡面有2個  train_history_30_2 要改,30是epoch ,2是第2次\n",
    "\n",
    "# file='train_history的資料夾\\train_history_30_2.lst'\n",
    "                                                                          #改\n",
    "with open(file=r'C:\\Users\\user\\Desktop\\project\\train_history\\train_history_50_2.lst',mode=\"wb\") as outhis:     \n",
    "                                                    \n",
    "    pickle.dump(train_history_50_2.history, outhis)  \n",
    "                              #改"
   ]
  },
  {
   "cell_type": "code",
   "execution_count": null,
   "metadata": {},
   "outputs": [],
   "source": [
    "## 將10次訓練結果化成圖\n",
    "# 一張 train acc\n",
    "# 一張 train_loss\n",
    "# 一張 val acc\n",
    "# 一張 val_loss"
   ]
  },
  {
   "cell_type": "code",
   "execution_count": 8,
   "metadata": {},
   "outputs": [
    {
     "data": {
      "text/plain": [
       "['C:\\\\Users\\\\user\\\\Desktop\\\\project\\\\train_history\\\\train_history_50_1.lst',\n",
       " 'C:\\\\Users\\\\user\\\\Desktop\\\\project\\\\train_history\\\\train_history_50_10.lst',\n",
       " 'C:\\\\Users\\\\user\\\\Desktop\\\\project\\\\train_history\\\\train_history_50_2.lst',\n",
       " 'C:\\\\Users\\\\user\\\\Desktop\\\\project\\\\train_history\\\\train_history_50_3.lst',\n",
       " 'C:\\\\Users\\\\user\\\\Desktop\\\\project\\\\train_history\\\\train_history_50_4.lst',\n",
       " 'C:\\\\Users\\\\user\\\\Desktop\\\\project\\\\train_history\\\\train_history_50_5.lst',\n",
       " 'C:\\\\Users\\\\user\\\\Desktop\\\\project\\\\train_history\\\\train_history_50_6.lst',\n",
       " 'C:\\\\Users\\\\user\\\\Desktop\\\\project\\\\train_history\\\\train_history_50_7.lst',\n",
       " 'C:\\\\Users\\\\user\\\\Desktop\\\\project\\\\train_history\\\\train_history_50_8.lst',\n",
       " 'C:\\\\Users\\\\user\\\\Desktop\\\\project\\\\train_history\\\\train_history_50_9.lst']"
      ]
     },
     "execution_count": 8,
     "metadata": {},
     "output_type": "execute_result"
    }
   ],
   "source": [
    "dirpath=r'C:\\Users\\user\\Desktop\\project\\train_history\\*.*' #train_history資料夾\n",
    "filename=glob.glob(dirpath)\n",
    "filename"
   ]
  },
  {
   "cell_type": "code",
   "execution_count": 10,
   "metadata": {},
   "outputs": [
    {
     "data": {
      "image/png": "[encoded data removed]",
      "text/plain": [
       "<Figure size 432x288 with 1 Axes>"
      ]
     },
     "metadata": {
      "needs_background": "light"
     },
     "output_type": "display_data"
    }
   ],
   "source": [
    "# train acc  50\n",
    "for i in range(0,10):\n",
    "    with open(file=filename[i],mode=\"rb\") as inhis :  \n",
    "        a = pickle.load(file=inhis)                \n",
    "                                                 \n",
    "                                                 \n",
    "        plt.plot(a['acc'],label=i+1)\n",
    "        \n",
    "    plt.xlabel('epoch') \n",
    "    plt.ylabel('acc')\n",
    "    plt.title('train_Accuracy ( epoch=50 )  ') #要改\n",
    "    plt.legend(loc=4)\n",
    "    plt.yticks(np.linspace(0,1,11))\n",
    "    \n",
    "plt.savefig(r'C:\\Users\\user\\Desktop\\project\\image_save\\train_acc_50.jpg')    #匯出到資料夾 \n",
    "plt.show()"
   ]
  },
  {
   "cell_type": "code",
   "execution_count": 11,
   "metadata": {},
   "outputs": [
    {
     "data": {
      "image/png": "[encoded data removed]",
      "text/plain": [
       "<Figure size 432x288 with 1 Axes>"
      ]
     },
     "metadata": {
      "needs_background": "light"
     },
     "output_type": "display_data"
    }
   ],
   "source": [
    "# train loss  50\n",
    "\n",
    "for i in range(0,10):\n",
    "    with open(file=filename[i],mode=\"rb\") as inhis :  \n",
    "        a = pickle.load(file=inhis)                \n",
    "                                                 \n",
    "                                                 \n",
    "        plt.plot(a['loss'],label=i+1)\n",
    "        \n",
    "    plt.xlabel('epoch')\n",
    "    plt.ylabel('loss')\n",
    "    plt.title('train_Loss ( epoch=50 )  ') #epoch要改\n",
    "    plt.legend(loc=4)\n",
    "   \n",
    "    \n",
    "plt.savefig(r'C:\\Users\\user\\Desktop\\project\\image_save\\train_loss_50.jpg')     \n",
    "plt.show()"
   ]
  },
  {
   "cell_type": "code",
   "execution_count": 12,
   "metadata": {},
   "outputs": [
    {
     "data": {
      "image/png": "[encoded data removed]",
      "text/plain": [
       "<Figure size 432x288 with 1 Axes>"
      ]
     },
     "metadata": {
      "needs_background": "light"
     },
     "output_type": "display_data"
    }
   ],
   "source": [
    "# val acc  50\n",
    "for i in range(0,10):\n",
    "    with open(file=filename[i],mode=\"rb\") as inhis :  \n",
    "        a = pickle.load(file=inhis)                \n",
    "                                                 \n",
    "                                                 \n",
    "        plt.plot(a['val_acc'],label=i+1)\n",
    "\n",
    "    plt.xlabel('epoch') \n",
    "    plt.ylabel('acc')\n",
    "    plt.title('Validation Accuracy ( epoch=50 )  ') #要改\n",
    "    plt.legend(loc=4)\n",
    "    plt.yticks(np.linspace(0,1,11))\n",
    "    \n",
    "plt.savefig(r'C:\\Users\\user\\Desktop\\project\\image_save\\val_acc_50.jpg') \n",
    "plt.show()"
   ]
  },
  {
   "cell_type": "code",
   "execution_count": 13,
   "metadata": {},
   "outputs": [
    {
     "data": {
      "image/png": "[encoded data removed]",
      "text/plain": [
       "<Figure size 432x288 with 1 Axes>"
      ]
     },
     "metadata": {
      "needs_background": "light"
     },
     "output_type": "display_data"
    }
   ],
   "source": [
    "# val loss 50\n",
    "\n",
    "for i in range(0,10):\n",
    "    with open(file=filename[i],mode=\"rb\") as inhis :  \n",
    "        a = pickle.load(file=inhis)                \n",
    "                                                 \n",
    "                                                 \n",
    "        plt.plot(a['val_loss'],label=i+1)\n",
    "\n",
    "    plt.xlabel('epoch')\n",
    "    plt.ylabel('loss')\n",
    "    plt.title('Validation Loss ( epoch=50 )  ') #epoch要改\n",
    "    plt.legend(loc=4)\n",
    "   \n",
    "    \n",
    "plt.savefig(r'C:\\Users\\user\\Desktop\\project\\image_save\\val_loss_50.jpg') \n",
    "plt.show()"
   ]
  },
  {
   "cell_type": "code",
   "execution_count": 10,
   "metadata": {},
   "outputs": [
    {
     "name": "stdout",
     "output_type": "stream",
     "text": [
      "10次train_acc最高的平均=0.854\n",
      "10次train_loss最低的平均=0.318\n",
      "10次val_acc最高的平均=0.707\n",
      "10次val_loss最低的平均=0.84\n"
     ]
    }
   ],
   "source": [
    "# 50\n",
    "# 紀錄10次train/val的 acc/loss 最高/低 平均\n",
    "#這裡都不用改喔\n",
    "\n",
    "train_acc_max_10=[]\n",
    "train_loss_min_10=[]\n",
    "val_acc_max_10=[]\n",
    "val_loss_min_10=[]\n",
    "\n",
    "for i in range(0,2):\n",
    "    with open(file=filename[i],mode=\"rb\") as inhis :  \n",
    "        a = pickle.load(file=inhis)                \n",
    "        train_acc_max_10.append(max(a['acc']))\n",
    "        train_loss_min_10.append(min(a['loss'])) \n",
    "        val_acc_max_10.append(max(a['val_acc']))\n",
    "        val_loss_min_10.append(min(a['val_loss']))                                         \n",
    "        \n",
    "        \n",
    "\n",
    "print(\"10次train_acc最高的平均={}\".format(round(sum(train_acc_max_10)/len(train_acc_max_10),3)))    \n",
    "print(\"10次train_loss最低的平均={}\".format(round(sum(train_loss_min_10)/len(train_loss_min_10),3)))\n",
    "print(\"10次val_acc最高的平均={}\".format(round(sum(val_acc_max_10)/len(val_acc_max_10),3)))    \n",
    "print(\"10次val_loss最低的平均={}\".format(round(sum(val_loss_min_10)/len(val_loss_min_10),3)))\n",
    "\n",
    "\n",
    "\n",
    "#之後在給"
   ]
  },
  {
   "cell_type": "markdown",
   "metadata": {},
   "source": [
    "# test1(單一程度的修圖_picture01) Accuracy"
   ]
  },
  {
   "cell_type": "code",
   "execution_count": 8,
   "metadata": {
    "scrolled": true
   },
   "outputs": [
    {
     "name": "stdout",
     "output_type": "stream",
     "text": [
      "WARNING:tensorflow:From C:\\Users\\user\\anaconda3\\lib\\site-packages\\tensorflow\\python\\ops\\init_ops.py:97: calling GlorotUniform.__init__ (from tensorflow.python.ops.init_ops) with dtype is deprecated and will be removed in a future version.\n",
      "Instructions for updating:\n",
      "Call initializer instance with the dtype argument instead of passing it to the constructor\n",
      "WARNING:tensorflow:From C:\\Users\\user\\anaconda3\\lib\\site-packages\\tensorflow\\python\\ops\\init_ops.py:1251: calling VarianceScaling.__init__ (from tensorflow.python.ops.init_ops) with dtype is deprecated and will be removed in a future version.\n",
      "Instructions for updating:\n",
      "Call initializer instance with the dtype argument instead of passing it to the constructor\n",
      "WARNING:tensorflow:From C:\\Users\\user\\anaconda3\\lib\\site-packages\\tensorflow\\python\\ops\\init_ops.py:97: calling Zeros.__init__ (from tensorflow.python.ops.init_ops) with dtype is deprecated and will be removed in a future version.\n",
      "Instructions for updating:\n",
      "Call initializer instance with the dtype argument instead of passing it to the constructor\n",
      "WARNING:tensorflow:From C:\\Users\\user\\anaconda3\\lib\\site-packages\\tensorflow\\python\\ops\\init_ops.py:97: calling Ones.__init__ (from tensorflow.python.ops.init_ops) with dtype is deprecated and will be removed in a future version.\n",
      "Instructions for updating:\n",
      "Call initializer instance with the dtype argument instead of passing it to the constructor\n",
      "8000/8000 [==============================] - 45s 6ms/sample - loss: 1.1561 - acc: 0.7402\n",
      "8000/8000 [==============================] - 22s 3ms/sample - loss: 7.8175 - acc: 0.42933s - loss: 7.8\n",
      "8000/8000 [==============================] - 12s 2ms/sample - loss: 0.7741 - acc: 0.7306\n",
      "8000/8000 [==============================] - 12s 2ms/sample - loss: 0.5327 - acc: 0.7424\n",
      "8000/8000 [==============================] - 12s 2ms/sample - loss: 9.4312 - acc: 0.7283\n",
      "8000/8000 [==============================] - 12s 2ms/sample - loss: 1.0277 - acc: 0.7176\n",
      "8000/8000 [==============================] - 12s 2ms/sample - loss: 0.5760 - acc: 0.72931s - loss: 0.5741 - acc: 0. - ETA: 0s - loss: 0.5752 - a\n",
      "8000/8000 [==============================] - 12s 2ms/sample - loss: 1.0958 - acc: 0.7419\n",
      "8000/8000 [==============================] - 12s 2ms/sample - loss: 0.5817 - acc: 0.73301s - loss: 0.5735 \n",
      "8000/8000 [==============================] - 12s 2ms/sample - loss: 0.6607 - acc: 0.73601 - E\n",
      "10次test_loss平均=2.365\n",
      "10次test_acc平均=0.703\n"
     ]
    }
   ],
   "source": [
    "\n",
    "# 50 \n",
    "# 自動增長 GPU 記憶體用量\n",
    "#gpu_options = tf.GPUOptions(allow_growth=True)\n",
    "#sess = tf.Session(config=tf.ConfigProto(gpu_options=gpu_options))\n",
    "# 10 次 test的 acc和 loss的平均(記錄到雲端表格中)\n",
    "#這裡只要改路徑，其他的不用改\n",
    "\n",
    "dirpath1=r'C:\\Users\\user\\Desktop\\project\\checkpoint50_record\\*.*' \n",
    "filename2=glob.glob(dirpath1)\n",
    "\n",
    "\n",
    "test_acc=[]\n",
    "test_loss=[]\n",
    "\n",
    "for i in range(0,10):\n",
    "    \n",
    "    tf.keras.backend.clear_session()\n",
    "    model=load_model(filename2[i])\n",
    "    a=model.evaluate(x=x_test,y=y_test)\n",
    "    test_acc.append(a[1])\n",
    "    test_loss.append(a[0])\n",
    "\n",
    "print(\"10次test_loss平均={}\".format(round(sum(test_loss)/len(test_loss),3)))\n",
    "print(\"10次test_acc平均={}\".format(round(sum(test_acc)/len(test_acc),3) ))\n",
    "\n"
   ]
  },
  {
   "cell_type": "markdown",
   "metadata": {},
   "source": [
    "# 第2筆訓練資料"
   ]
  },
  {
   "cell_type": "markdown",
   "metadata": {},
   "source": [
    "# test2(不同程度的修圖_picture02)  Accuracy"
   ]
  },
  {
   "cell_type": "code",
   "execution_count": 2,
   "metadata": {},
   "outputs": [
    {
     "name": "stdout",
     "output_type": "stream",
     "text": [
      "Images are all in read_images\n",
      "(40000, 100, 100)\n"
     ]
    }
   ],
   "source": [
    "path='C:\\\\Users\\\\user\\\\Desktop\\\\project\\\\picture_2'\n",
    "folder_list =[]\n",
    "folder = glob.glob(path)\n",
    "for folder in folder :\n",
    "    for name in glob.glob(folder+'/*'):\n",
    "        folder_list.append(name)\n",
    "\n",
    "image_name =[]\n",
    "for folder in folder_list:\n",
    "    for name in glob.glob(folder+'/*.jpg') :\n",
    "        image_name.append(name)\n",
    "        \n",
    "read_images = []\n",
    "for image in image_name:\n",
    "    img = cv2.imread(image)\n",
    "    img = cv2.cvtColor(img, cv2.COLOR_BGR2GRAY)\n",
    "    read_images.append(img)\n",
    "read_images = np.array(read_images)\n",
    "print ('Images are all in read_images')\n",
    "print(read_images.shape)          "
   ]
  },
  {
   "cell_type": "code",
   "execution_count": 3,
   "metadata": {},
   "outputs": [
    {
     "name": "stdout",
     "output_type": "stream",
     "text": [
      "Shape of x_train is (32000,100,100,1)\n",
      "Shape of x_test is (8000,100,100,1)\n",
      "Shape of y_train is (32000,1)\n",
      "Shape of y_test is (8000,1)\n",
      "Shape of y_train is (32000,8)\n"
     ]
    }
   ],
   "source": [
    "x = read_images\n",
    "#split = np.random.choice(40000,8000,replace=False)\n",
    "\n",
    "y = np.array(np.repeat(range(1,9),5000).reshape(-1,1))\n",
    "x_train, x_test, y_train, y_test = train_test_split(x, y, test_size=0.20, random_state=seed,shuffle=True) \n",
    "x_test = x_test.reshape(x_test.shape[0],100,100,1)\n",
    "x_train = x_train.reshape(x_train.shape[0],100,100,1)\n",
    "\n",
    "print('Shape of x_train is (%d,%d,%d,%d)'%(x_train.shape))\n",
    "print('Shape of x_test is (%d,%d,%d,%d)'%(x_test.shape))\n",
    "print('Shape of y_train is (%d,%d)'%(y_train.shape))\n",
    "print('Shape of y_test is (%d,%d)'%(y_test.shape))\n",
    "onehot = OneHotEncoder()\n",
    "y_train = onehot.fit_transform(y_train).toarray()\n",
    "\n",
    "\n",
    "y_test = onehot.fit_transform(y_test).toarray()\n",
    "print('Shape of y_train is (%d,%d)'%(y_train.shape))"
   ]
  },
  {
   "cell_type": "markdown",
   "metadata": {},
   "source": [
    "### acc 太低了"
   ]
  },
  {
   "cell_type": "code",
   "execution_count": 4,
   "metadata": {
    "scrolled": true
   },
   "outputs": [
    {
     "name": "stdout",
     "output_type": "stream",
     "text": [
      "WARNING:tensorflow:From C:\\Users\\user\\anaconda3\\lib\\site-packages\\tensorflow\\python\\ops\\init_ops.py:97: calling GlorotUniform.__init__ (from tensorflow.python.ops.init_ops) with dtype is deprecated and will be removed in a future version.\n",
      "Instructions for updating:\n",
      "Call initializer instance with the dtype argument instead of passing it to the constructor\n",
      "WARNING:tensorflow:From C:\\Users\\user\\anaconda3\\lib\\site-packages\\tensorflow\\python\\ops\\init_ops.py:1251: calling VarianceScaling.__init__ (from tensorflow.python.ops.init_ops) with dtype is deprecated and will be removed in a future version.\n",
      "Instructions for updating:\n",
      "Call initializer instance with the dtype argument instead of passing it to the constructor\n",
      "WARNING:tensorflow:From C:\\Users\\user\\anaconda3\\lib\\site-packages\\tensorflow\\python\\ops\\init_ops.py:97: calling Zeros.__init__ (from tensorflow.python.ops.init_ops) with dtype is deprecated and will be removed in a future version.\n",
      "Instructions for updating:\n",
      "Call initializer instance with the dtype argument instead of passing it to the constructor\n",
      "WARNING:tensorflow:From C:\\Users\\user\\anaconda3\\lib\\site-packages\\tensorflow\\python\\ops\\init_ops.py:97: calling Ones.__init__ (from tensorflow.python.ops.init_ops) with dtype is deprecated and will be removed in a future version.\n",
      "Instructions for updating:\n",
      "Call initializer instance with the dtype argument instead of passing it to the constructor\n",
      "8000/8000 [==============================] - 11s 1ms/sample - loss: 7.5321 - acc: 0.5230\n",
      "8000/8000 [==============================] - 9s 1ms/sample - loss: 11.9947 - acc: 0.2979\n",
      "8000/8000 [==============================] - 9s 1ms/sample - loss: 3.5506 - acc: 0.4291\n",
      "8000/8000 [==============================] - 9s 1ms/sample - loss: 3.6453 - acc: 0.3904\n",
      "8000/8000 [==============================] - 9s 1ms/sample - loss: 34.1559 - acc: 0.3819\n",
      "8000/8000 [==============================] - 9s 1ms/sample - loss: 3.0024 - acc: 0.4560\n",
      "8000/8000 [==============================] - 9s 1ms/sample - loss: 3.6512 - acc: 0.3467\n",
      "8000/8000 [==============================] - 9s 1ms/sample - loss: 4.5162 - acc: 0.4571\n",
      "8000/8000 [==============================] - 9s 1ms/sample - loss: 3.8348 - acc: 0.3970\n",
      "8000/8000 [==============================] - 9s 1ms/sample - loss: 3.0952 - acc: 0.4200\n",
      "10次test_loss平均=7.898\n",
      "10次test_acc平均=0.41\n"
     ]
    }
   ],
   "source": [
    "dirpath1=r'C:\\Users\\user\\Desktop\\project\\VGG16_picture\\checkpoint50_record\\*.*' \n",
    "filename2=glob.glob(dirpath1)\n",
    "\n",
    "\n",
    "test_acc=[]\n",
    "test_loss=[]\n",
    "\n",
    "for i in range(0,10):\n",
    "    \n",
    "    tf.keras.backend.clear_session()\n",
    "    model=load_model(filename2[i])\n",
    "    a=model.evaluate(x=x_test,y=y_test)\n",
    "    test_acc.append(a[1])\n",
    "    test_loss.append(a[0])\n",
    "\n",
    "print(\"10次test_loss平均={}\".format(round(sum(test_loss)/len(test_loss),3)))\n",
    "print(\"10次test_acc平均={}\".format(round(sum(test_acc)/len(test_acc),3) ))"
   ]
  },
  {
   "cell_type": "code",
   "execution_count": null,
   "metadata": {},
   "outputs": [],
   "source": []
  },
  {
   "cell_type": "code",
   "execution_count": null,
   "metadata": {},
   "outputs": [],
   "source": []
  }
 ],
 "metadata": {
  "kernelspec": {
   "display_name": "Python 3",
   "language": "python",
   "name": "python3"
  },
  "language_info": {
   "codemirror_mode": {
    "name": "ipython",
    "version": 3
   },
   "file_extension": ".py",
   "mimetype": "text/x-python",
   "name": "python",
   "nbconvert_exporter": "python",
   "pygments_lexer": "ipython3",
   "version": "3.7.6"
  }
 },
 "nbformat": 4,
 "nbformat_minor": 2
}
