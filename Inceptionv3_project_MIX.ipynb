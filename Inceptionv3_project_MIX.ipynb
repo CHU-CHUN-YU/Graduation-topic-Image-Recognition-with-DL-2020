{
 "cells": [
  {
   "cell_type": "code",
   "execution_count": 1,
   "metadata": {},
   "outputs": [
    {
     "name": "stderr",
     "output_type": "stream",
     "text": [
      "C:\\Users\\user\\anaconda3\\lib\\site-packages\\tensorflow\\python\\framework\\dtypes.py:516: FutureWarning: Passing (type, 1) or '1type' as a synonym of type is deprecated; in a future version of numpy, it will be understood as (type, (1,)) / '(1,)type'.\n",
      "  _np_qint8 = np.dtype([(\"qint8\", np.int8, 1)])\n",
      "C:\\Users\\user\\anaconda3\\lib\\site-packages\\tensorflow\\python\\framework\\dtypes.py:517: FutureWarning: Passing (type, 1) or '1type' as a synonym of type is deprecated; in a future version of numpy, it will be understood as (type, (1,)) / '(1,)type'.\n",
      "  _np_quint8 = np.dtype([(\"quint8\", np.uint8, 1)])\n",
      "C:\\Users\\user\\anaconda3\\lib\\site-packages\\tensorflow\\python\\framework\\dtypes.py:518: FutureWarning: Passing (type, 1) or '1type' as a synonym of type is deprecated; in a future version of numpy, it will be understood as (type, (1,)) / '(1,)type'.\n",
      "  _np_qint16 = np.dtype([(\"qint16\", np.int16, 1)])\n",
      "C:\\Users\\user\\anaconda3\\lib\\site-packages\\tensorflow\\python\\framework\\dtypes.py:519: FutureWarning: Passing (type, 1) or '1type' as a synonym of type is deprecated; in a future version of numpy, it will be understood as (type, (1,)) / '(1,)type'.\n",
      "  _np_quint16 = np.dtype([(\"quint16\", np.uint16, 1)])\n",
      "C:\\Users\\user\\anaconda3\\lib\\site-packages\\tensorflow\\python\\framework\\dtypes.py:520: FutureWarning: Passing (type, 1) or '1type' as a synonym of type is deprecated; in a future version of numpy, it will be understood as (type, (1,)) / '(1,)type'.\n",
      "  _np_qint32 = np.dtype([(\"qint32\", np.int32, 1)])\n",
      "C:\\Users\\user\\anaconda3\\lib\\site-packages\\tensorflow\\python\\framework\\dtypes.py:525: FutureWarning: Passing (type, 1) or '1type' as a synonym of type is deprecated; in a future version of numpy, it will be understood as (type, (1,)) / '(1,)type'.\n",
      "  np_resource = np.dtype([(\"resource\", np.ubyte, 1)])\n",
      "C:\\Users\\user\\anaconda3\\lib\\site-packages\\tensorboard\\compat\\tensorflow_stub\\dtypes.py:541: FutureWarning: Passing (type, 1) or '1type' as a synonym of type is deprecated; in a future version of numpy, it will be understood as (type, (1,)) / '(1,)type'.\n",
      "  _np_qint8 = np.dtype([(\"qint8\", np.int8, 1)])\n",
      "C:\\Users\\user\\anaconda3\\lib\\site-packages\\tensorboard\\compat\\tensorflow_stub\\dtypes.py:542: FutureWarning: Passing (type, 1) or '1type' as a synonym of type is deprecated; in a future version of numpy, it will be understood as (type, (1,)) / '(1,)type'.\n",
      "  _np_quint8 = np.dtype([(\"quint8\", np.uint8, 1)])\n",
      "C:\\Users\\user\\anaconda3\\lib\\site-packages\\tensorboard\\compat\\tensorflow_stub\\dtypes.py:543: FutureWarning: Passing (type, 1) or '1type' as a synonym of type is deprecated; in a future version of numpy, it will be understood as (type, (1,)) / '(1,)type'.\n",
      "  _np_qint16 = np.dtype([(\"qint16\", np.int16, 1)])\n",
      "C:\\Users\\user\\anaconda3\\lib\\site-packages\\tensorboard\\compat\\tensorflow_stub\\dtypes.py:544: FutureWarning: Passing (type, 1) or '1type' as a synonym of type is deprecated; in a future version of numpy, it will be understood as (type, (1,)) / '(1,)type'.\n",
      "  _np_quint16 = np.dtype([(\"quint16\", np.uint16, 1)])\n",
      "C:\\Users\\user\\anaconda3\\lib\\site-packages\\tensorboard\\compat\\tensorflow_stub\\dtypes.py:545: FutureWarning: Passing (type, 1) or '1type' as a synonym of type is deprecated; in a future version of numpy, it will be understood as (type, (1,)) / '(1,)type'.\n",
      "  _np_qint32 = np.dtype([(\"qint32\", np.int32, 1)])\n",
      "C:\\Users\\user\\anaconda3\\lib\\site-packages\\tensorboard\\compat\\tensorflow_stub\\dtypes.py:550: FutureWarning: Passing (type, 1) or '1type' as a synonym of type is deprecated; in a future version of numpy, it will be understood as (type, (1,)) / '(1,)type'.\n",
      "  np_resource = np.dtype([(\"resource\", np.ubyte, 1)])\n"
     ]
    }
   ],
   "source": [
    "import numpy as np\n",
    "import cv2\n",
    "import glob\n",
    "import matplotlib.pyplot as plt\n",
    "import tensorflow as tf\n",
    "import pickle\n",
    "import os\n",
    "from tensorflow.keras.layers import Dense, Dropout, Activation, Flatten, Conv2D, MaxPooling2D, BatchNormalization\n",
    "from tensorflow.keras import Sequential\n",
    "from tensorflow.keras.callbacks import ModelCheckpoint\n",
    "from sklearn.preprocessing import OneHotEncoder\n",
    "import future \n",
    "from tensorflow.keras.callbacks import TensorBoard\n",
    "from sklearn.model_selection import train_test_split\n",
    "seed = 100\n",
    "np.random.seed(seed)\n",
    "import matplotlib.pyplot as plt\n",
    "from tensorflow.keras.models import load_model\n",
    "from tensorflow.keras.applications.inception_v3 import InceptionV3\n",
    "from tensorflow.keras.layers import Input\n",
    "import pandas as pd\n",
    "from tensorflow.keras.models import load_model"
   ]
  },
  {
   "cell_type": "code",
   "execution_count": 2,
   "metadata": {},
   "outputs": [],
   "source": [
    "from sklearn.preprocessing import MultiLabelBinarizer                                 "
   ]
  },
  {
   "cell_type": "markdown",
   "metadata": {},
   "source": [
    "#  原本6種 + 3 mix修圖 + 重疊的+incv3--60"
   ]
  },
  {
   "cell_type": "code",
   "execution_count": null,
   "metadata": {},
   "outputs": [],
   "source": [
    "# 先讀第一個"
   ]
  },
  {
   "cell_type": "code",
   "execution_count": 3,
   "metadata": {},
   "outputs": [
    {
     "name": "stdout",
     "output_type": "stream",
     "text": [
      "Images are all in read_images\n",
      "(30000, 100, 100)\n",
      "Shape of x1_train is (24000,100,100,1)\n",
      "Shape of x1_test is (6000,100,100,1)\n",
      "Shape of y1_train is (24000,1)\n",
      "Shape of y1_test is (6000,1)\n",
      "Shape of y1_train is (24000,6)\n"
     ]
    }
   ],
   "source": [
    "path=os.getcwd()+'\\\\DATA\\\\picture_mix_train' #只有單一修圖 6種///的資料夾\n",
    "folder_list =[]\n",
    "folder = glob.glob(path)\n",
    "for folder in folder :\n",
    "    for name in glob.glob(folder+'/*'):\n",
    "        folder_list.append(name)\n",
    "\n",
    "image_name =[]\n",
    "for folder in folder_list:\n",
    "    for name in glob.glob(folder+'/*.jpg') :\n",
    "        image_name.append(name)\n",
    "        \n",
    "read_images = []\n",
    "for image in image_name:\n",
    "    img = cv2.imread(image)\n",
    "    img = cv2.cvtColor(img, cv2.COLOR_BGR2GRAY)\n",
    "    read_images.append(img)\n",
    "read_images = np.array(read_images)\n",
    "print ('Images are all in read_images')     \n",
    "print(read_images.shape) \n",
    "\n",
    "###########################################################################################################\n",
    "\n",
    "x1 = read_images\n",
    "#split = np.random.choice(40000,8000,replace=False)\n",
    "\n",
    "y1 = np.array(np.repeat(range(1,7),5000).reshape(-1,1))\n",
    "x1_train, x1_test, y1_train, y1_test = train_test_split(x1, y1, test_size=0.20, random_state=seed,shuffle=True) \n",
    "x1_test = x1_test.reshape(x1_test.shape[0],100,100,1)\n",
    "x1_train = x1_train.reshape(x1_train.shape[0],100,100,1)\n",
    "\n",
    "print('Shape of x1_train is (%d,%d,%d,%d)'%(x1_train.shape))\n",
    "print('Shape of x1_test is (%d,%d,%d,%d)'%(x1_test.shape))\n",
    "print('Shape of y1_train is (%d,%d)'%(y1_train.shape))\n",
    "print('Shape of y1_test is (%d,%d)'%(y1_test.shape))\n",
    "onehot = OneHotEncoder()\n",
    "\n",
    "y1_train = onehot.fit_transform(y1_train).toarray()\n",
    "y1_test_ori = y1_test\n",
    "y1_test = onehot.fit_transform(y1_test).toarray()\n",
    "print('Shape of y1_train is (%d,%d)'%(y1_train.shape))\n"
   ]
  },
  {
   "cell_type": "code",
   "execution_count": 4,
   "metadata": {
    "scrolled": true
   },
   "outputs": [
    {
     "name": "stdout",
     "output_type": "stream",
     "text": [
      "Images are all in read_images\n",
      "(15000, 100, 100)\n",
      "Shape of x2_train is (12000,100,100,1)\n",
      "Shape of x2_test is (3000,100,100,1)\n",
      "Shape of y2_train is (12000,1)\n",
      "Shape of y2_test is (3000,1)\n"
     ]
    }
   ],
   "source": [
    "path='C:\\\\Users\\\\user\\\\Desktop\\\\project\\\\picture_mix_train_2'  # 3個 mix 的資料夾 一半一半\n",
    "folder_list =[]\n",
    "folder = glob.glob(path)\n",
    "for folder in folder :\n",
    "    for name in glob.glob(folder+'/*'):\n",
    "        folder_list.append(name)\n",
    "\n",
    "image_name =[]\n",
    "for folder in folder_list:\n",
    "    for name in glob.glob(folder+'/*.jpg') :\n",
    "        image_name.append(name)\n",
    "        \n",
    "read_images = []\n",
    "for image in image_name:\n",
    "    img = cv2.imread(image)\n",
    "    img = cv2.cvtColor(img, cv2.COLOR_BGR2GRAY)\n",
    "    read_images.append(img)\n",
    "read_images = np.array(read_images)\n",
    "print ('Images are all in read_images')     \n",
    "print(read_images.shape) \n",
    "\n",
    "###########################################################################################################\n",
    "\n",
    "x2 = read_images\n",
    "#split = np.random.choice(40000,8000,replace=False)\n",
    "\n",
    "y2 = np.array(np.repeat(range(7,10),5000).reshape(-1,1))\n",
    "x2_train, x2_test, y2_train, y2_test = train_test_split(x2, y2, test_size=0.20, random_state=seed,shuffle=True) \n",
    "x2_test = x2_test.reshape(x2_test.shape[0],100,100,1)\n",
    "x2_train = x2_train.reshape(x2_train.shape[0],100,100,1)\n",
    "\n",
    "print('Shape of x2_train is (%d,%d,%d,%d)'%(x2_train.shape))\n",
    "print('Shape of x2_test is (%d,%d,%d,%d)'%(x2_test.shape))\n",
    "print('Shape of y2_train is (%d,%d)'%(y2_train.shape))\n",
    "print('Shape of y2_test is (%d,%d)'%(y2_test.shape))\n",
    "#onehot = OneHotEncoder()\n",
    "\n",
    "#y1_train = onehot.fit_transform(y1_train).toarray()\n",
    "y2_test_ori = y2_test\n",
    "y2_train_ori = y2_train\n",
    "\n",
    "\n",
    "\n",
    "y2_test= np.arange(18000).reshape(3000, 6)\n",
    "y2_train= np.arange(72000).reshape(12000, 6)\n",
    "\n",
    "\n",
    "for i in range(0,len(y2_test_ori)):\n",
    "    \n",
    "    if y2_test_ori[i]==7:\n",
    "        y2_test[i]=np.array([1,1,0,0,0,0]) \n",
    "    elif y2_test_ori[i]==8:\n",
    "        y2_test[i]=np.array([0,0,1,1,0,0]) \n",
    "    else:\n",
    "        y2_test[i]=np.array([0,0,0,1,1,0]) \n",
    "   \n",
    "\n",
    "for j in range(0,len(y2_train_ori)):\n",
    "    \n",
    "    if y2_train_ori[j]==7:\n",
    "        y2_train[j]=np.array([1,1,0,0,0,0]) \n",
    "    elif y2_train_ori[j]==8:\n",
    "        y2_train[j]=np.array([0,0,1,1,0,0]) \n",
    "    else:\n",
    "        y2_train[j]=np.array([0,0,0,1,1,0]) \n",
    "\n",
    "\n"
   ]
  },
  {
   "cell_type": "markdown",
   "metadata": {},
   "source": [
    "# 合併"
   ]
  },
  {
   "cell_type": "code",
   "execution_count": 5,
   "metadata": {
    "scrolled": false
   },
   "outputs": [
    {
     "name": "stdout",
     "output_type": "stream",
     "text": [
      "(36000, 100, 100, 1)\n",
      "(9000, 100, 100, 1)\n",
      "(36000, 6)\n",
      "(9000, 6)\n",
      "(9000, 1)\n"
     ]
    }
   ],
   "source": [
    "x_train=np.vstack((x1_train,x2_train))\n",
    "x_test=np.vstack((x1_test,x2_test))\n",
    "\n",
    "y_train=np.vstack((y1_train,y2_train))\n",
    "y_test=np.vstack((y1_test,y2_test))\n",
    "y_test_ori=np.vstack((y1_test_ori,y2_test_ori))\n",
    "print(x_train.shape)\n",
    "print(x_test.shape)\n",
    "print(y_train.shape)\n",
    "print(y_test.shape)\n",
    "print(y_test_ori.shape)\n",
    "\n"
   ]
  },
  {
   "cell_type": "code",
   "execution_count": null,
   "metadata": {},
   "outputs": [],
   "source": []
  },
  {
   "cell_type": "code",
   "execution_count": null,
   "metadata": {},
   "outputs": [],
   "source": [
    "#  train"
   ]
  },
  {
   "cell_type": "code",
   "execution_count": 9,
   "metadata": {},
   "outputs": [
    {
     "data": {
      "text/plain": [
       "['C:\\\\Users\\\\user\\\\Desktop\\\\project\\\\inceptionv3_picture_mix\\\\EPOCH\\\\history\\\\train_history_10.lst',\n",
       " 'C:\\\\Users\\\\user\\\\Desktop\\\\project\\\\inceptionv3_picture_mix\\\\EPOCH\\\\history\\\\train_history_20.lst',\n",
       " 'C:\\\\Users\\\\user\\\\Desktop\\\\project\\\\inceptionv3_picture_mix\\\\EPOCH\\\\history\\\\train_history_30.lst',\n",
       " 'C:\\\\Users\\\\user\\\\Desktop\\\\project\\\\inceptionv3_picture_mix\\\\EPOCH\\\\history\\\\train_history_50.lst',\n",
       " 'C:\\\\Users\\\\user\\\\Desktop\\\\project\\\\inceptionv3_picture_mix\\\\EPOCH\\\\history\\\\train_history_60.lst',\n",
       " 'C:\\\\Users\\\\user\\\\Desktop\\\\project\\\\inceptionv3_picture_mix\\\\EPOCH\\\\history\\\\train_history_80.lst']"
      ]
     },
     "execution_count": 9,
     "metadata": {},
     "output_type": "execute_result"
    }
   ],
   "source": [
    "import glob\n",
    "import pickle\n",
    "import matplotlib.pyplot as plt\n",
    "dirpath=r'C:\\Users\\user\\Desktop\\project\\inceptionv3_picture_mix\\EPOCH\\history\\*.*' #train_history資料夾\n",
    "filename=glob.glob(dirpath)\n",
    "filename"
   ]
  },
  {
   "cell_type": "code",
   "execution_count": 14,
   "metadata": {},
   "outputs": [
    {
     "name": "stdout",
     "output_type": "stream",
     "text": [
      "0.9781354\n",
      "0.05516212617180177\n",
      "0.9612348\n",
      "0.09802016286110436\n",
      "0.9910053\n",
      "0.023871493579021522\n",
      "0.97662044\n",
      "0.08771475884649489\n",
      "0.9955027\n",
      "0.01223180222820254\n",
      "0.98148155\n",
      "0.05454331524670124\n",
      "0.998307\n",
      "0.004632255381621358\n",
      "0.9831636\n",
      "0.0502477909679766\n",
      "0.9986111\n",
      "0.004200228294604809\n",
      "0.98655844\n",
      "0.05109048872039205\n",
      "0.9993119\n",
      "0.0023210545753716448\n",
      "0.9820988\n",
      "0.06021263682352448\n"
     ]
    }
   ],
   "source": [
    "# 50\n",
    "# 紀錄10次train/val的 acc/loss 最高/低 平均\n",
    "#這裡都不用改喔\n",
    "\n",
    "\n",
    "for i in range(0,6):\n",
    "    with open(file=filename[i],mode=\"rb\") as inhis :  \n",
    "        a = pickle.load(file=inhis)                \n",
    "        print(max(a['acc']))\n",
    "        print(min(a['loss']))\n",
    "        print(max(a['val_acc']))\n",
    "        print(min(a['val_loss']))                                        \n",
    "        \n",
    "        \n",
    "\n",
    "\n",
    "\n"
   ]
  },
  {
   "cell_type": "code",
   "execution_count": null,
   "metadata": {},
   "outputs": [],
   "source": [
    "# test"
   ]
  },
  {
   "cell_type": "code",
   "execution_count": 23,
   "metadata": {},
   "outputs": [
    {
     "data": {
      "text/plain": [
       "['C:\\\\Users\\\\user\\\\Desktop\\\\project\\\\inceptionv3_picture_mix\\\\EPOCH\\\\model_iter10.hdf5',\n",
       " 'C:\\\\Users\\\\user\\\\Desktop\\\\project\\\\inceptionv3_picture_mix\\\\EPOCH\\\\model_iter20.hdf5',\n",
       " 'C:\\\\Users\\\\user\\\\Desktop\\\\project\\\\inceptionv3_picture_mix\\\\EPOCH\\\\model_iter30.hdf5',\n",
       " 'C:\\\\Users\\\\user\\\\Desktop\\\\project\\\\inceptionv3_picture_mix\\\\EPOCH\\\\model_iter50.hdf5',\n",
       " 'C:\\\\Users\\\\user\\\\Desktop\\\\project\\\\inceptionv3_picture_mix\\\\EPOCH\\\\model_iter60.hdf5',\n",
       " 'C:\\\\Users\\\\user\\\\Desktop\\\\project\\\\inceptionv3_picture_mix\\\\EPOCH\\\\model_iter80.hdf5']"
      ]
     },
     "execution_count": 23,
     "metadata": {},
     "output_type": "execute_result"
    }
   ],
   "source": [
    "dirpath1=r'C:\\Users\\user\\Desktop\\project\\inceptionv3_picture_mix\\EPOCH\\*.*' \n",
    "filename2=glob.glob(dirpath1)\n",
    "\n",
    "test_acc=[]\n",
    "test_loss=[]\n",
    "\n",
    "filename2"
   ]
  },
  {
   "cell_type": "code",
   "execution_count": 25,
   "metadata": {},
   "outputs": [
    {
     "name": "stdout",
     "output_type": "stream",
     "text": [
      "9000/9000 [==============================] - 6s 661us/sample - loss: 0.0762 - acc: 0.9674\n",
      "9000/9000 [==============================] - 6s 661us/sample - loss: 0.1294 - acc: 0.9635\n",
      "9000/9000 [==============================] - 6s 663us/sample - loss: 0.0860 - acc: 0.9728\n",
      "9000/9000 [==============================] - 6s 660us/sample - loss: 0.0717 - acc: 0.9815\n",
      "9000/9000 [==============================] - 6s 652us/sample - loss: 0.1026 - acc: 0.9780\n",
      "9000/9000 [==============================] - 6s 644us/sample - loss: 0.1508 - acc: 0.9748\n"
     ]
    }
   ],
   "source": [
    "for i in range(0,6):\n",
    "    \n",
    "    tf.keras.backend.clear_session()\n",
    "    model=load_model(filename2[i])\n",
    "    model.evaluate(x=x_test,y=y_test)"
   ]
  },
  {
   "cell_type": "code",
   "execution_count": 20,
   "metadata": {},
   "outputs": [
    {
     "name": "stderr",
     "output_type": "stream",
     "text": [
      "C:\\Users\\user\\anaconda3\\lib\\site-packages\\pandas\\core\\indexing.py:670: SettingWithCopyWarning: \n",
      "A value is trying to be set on a copy of a slice from a DataFrame\n",
      "\n",
      "See the caveats in the documentation: https://pandas.pydata.org/pandas-docs/stable/user_guide/indexing.html#returning-a-view-versus-a-copy\n",
      "  self._setitem_with_indexer(indexer, value)\n"
     ]
    },
    {
     "name": "stdout",
     "output_type": "stream",
     "text": [
      "8085\n"
     ]
    },
    {
     "name": "stderr",
     "output_type": "stream",
     "text": [
      "C:\\Users\\user\\anaconda3\\lib\\site-packages\\pandas\\core\\indexing.py:670: SettingWithCopyWarning: \n",
      "A value is trying to be set on a copy of a slice from a DataFrame\n",
      "\n",
      "See the caveats in the documentation: https://pandas.pydata.org/pandas-docs/stable/user_guide/indexing.html#returning-a-view-versus-a-copy\n",
      "  self._setitem_with_indexer(indexer, value)\n"
     ]
    },
    {
     "name": "stdout",
     "output_type": "stream",
     "text": [
      "8007\n"
     ]
    },
    {
     "name": "stderr",
     "output_type": "stream",
     "text": [
      "C:\\Users\\user\\anaconda3\\lib\\site-packages\\pandas\\core\\indexing.py:670: SettingWithCopyWarning: \n",
      "A value is trying to be set on a copy of a slice from a DataFrame\n",
      "\n",
      "See the caveats in the documentation: https://pandas.pydata.org/pandas-docs/stable/user_guide/indexing.html#returning-a-view-versus-a-copy\n",
      "  self._setitem_with_indexer(indexer, value)\n"
     ]
    },
    {
     "name": "stdout",
     "output_type": "stream",
     "text": [
      "8266\n"
     ]
    },
    {
     "name": "stderr",
     "output_type": "stream",
     "text": [
      "C:\\Users\\user\\anaconda3\\lib\\site-packages\\pandas\\core\\indexing.py:670: SettingWithCopyWarning: \n",
      "A value is trying to be set on a copy of a slice from a DataFrame\n",
      "\n",
      "See the caveats in the documentation: https://pandas.pydata.org/pandas-docs/stable/user_guide/indexing.html#returning-a-view-versus-a-copy\n",
      "  self._setitem_with_indexer(indexer, value)\n"
     ]
    },
    {
     "name": "stdout",
     "output_type": "stream",
     "text": [
      "8532\n"
     ]
    },
    {
     "name": "stderr",
     "output_type": "stream",
     "text": [
      "C:\\Users\\user\\anaconda3\\lib\\site-packages\\pandas\\core\\indexing.py:670: SettingWithCopyWarning: \n",
      "A value is trying to be set on a copy of a slice from a DataFrame\n",
      "\n",
      "See the caveats in the documentation: https://pandas.pydata.org/pandas-docs/stable/user_guide/indexing.html#returning-a-view-versus-a-copy\n",
      "  self._setitem_with_indexer(indexer, value)\n"
     ]
    },
    {
     "name": "stdout",
     "output_type": "stream",
     "text": [
      "8454\n"
     ]
    },
    {
     "name": "stderr",
     "output_type": "stream",
     "text": [
      "C:\\Users\\user\\anaconda3\\lib\\site-packages\\pandas\\core\\indexing.py:670: SettingWithCopyWarning: \n",
      "A value is trying to be set on a copy of a slice from a DataFrame\n",
      "\n",
      "See the caveats in the documentation: https://pandas.pydata.org/pandas-docs/stable/user_guide/indexing.html#returning-a-view-versus-a-copy\n",
      "  self._setitem_with_indexer(indexer, value)\n"
     ]
    },
    {
     "name": "stdout",
     "output_type": "stream",
     "text": [
      "8358\n"
     ]
    }
   ],
   "source": [
    "dirpath1=r'C:\\Users\\user\\Desktop\\project\\inceptionv3_picture_mix\\EPOCH\\*.*' \n",
    "filename2=glob.glob(dirpath1)\n",
    "for i in range(0,6):\n",
    "    \n",
    "    tf.keras.backend.clear_session()\n",
    "    model=load_model(filename2[i])\n",
    "    predict=model.predict(x_test) \n",
    "    # 算accuracy\n",
    "#  epoch= 60\n",
    "    y_test_ori=np.vstack((y1_test_ori,y2_test_ori))\n",
    "    y_test_ori=pd.DataFrame(y_test_ori)\n",
    "    y_test_ori=y_test_ori.rename(columns={0:'truelabel'})\n",
    "\n",
    "    y_test_ori['true01']=np.where(y_test_ori['truelabel']==1,1,np.where(y_test_ori['truelabel']==2,2,np.where(y_test_ori['truelabel']==3,3,np.where(y_test_ori['truelabel']==4,4,\n",
    "    np.where(y_test_ori['truelabel']==5,5,np.where(y_test_ori['truelabel']==6,6,np.where(y_test_ori['truelabel']==7,1,np.where(y_test_ori['truelabel']==8,3,4))))))))\n",
    "\n",
    "    y_test_ori['true02']=np.where(y_test_ori['truelabel']==1,0,np.where(y_test_ori['truelabel']==2,0,np.where(y_test_ori['truelabel']==3,0,np.where(y_test_ori['truelabel']==4,0,\n",
    "    np.where(y_test_ori['truelabel']==5,0,np.where(y_test_ori['truelabel']==6,0,np.where(y_test_ori['truelabel']==7,2,np.where(y_test_ori['truelabel']==8,4,5))))))))\n",
    "\n",
    "    a=pd.DataFrame(predict)\n",
    "    a=a.rename(columns={0:1, 1:2,2:3,3:4,4:5,5:6})\n",
    "\n",
    "    a['max_value']=0\n",
    "    a['second_large_value']=0 #值\n",
    "\n",
    "\n",
    "    a['max']=0\n",
    "    a['second_large']=0   # label\n",
    "\n",
    "\n",
    "    for i in range(0,(a.shape[0])):\n",
    "        tmp_list=0\n",
    "        num_list=a.iloc[i,0:6]\n",
    "        tmp_list=sorted(num_list)\n",
    "\n",
    "        a['max_value'].iloc[i]=tmp_list[-1]\n",
    "        p=np.where(num_list==tmp_list[-1])[0][-1]+1\n",
    "        a['max'].iloc[i]=p    \n",
    "    for i in range(0,(a.shape[0])):\n",
    "        tmp_list=0\n",
    "        num_list=a.iloc[i,0:6]\n",
    "        tmp_list=sorted(num_list)\n",
    "        a['second_large_value'].iloc[i]=tmp_list[-2]\n",
    "\n",
    "        if a['second_large_value'].iloc[i]>=0.5:\n",
    "\n",
    "            a['second_large'].iloc[i]=np.where(num_list==tmp_list[-2])[0][0]+1\n",
    "        else:\n",
    "            a['second_large'].iloc[i]=0\n",
    "    b = pd.merge(y_test_ori, a, how='left',on=y_test_ori.index)\n",
    "    b['acc']=0\n",
    "\n",
    "    for i in range(0,(b.shape[0])):\n",
    "\n",
    "        con1=[str(b['true01'][i]),str(b['true02'][i])]\n",
    "        con1=sorted(con1)\n",
    "        con2=[str(b['max'][i]),str(b['second_large'][i])]\n",
    "        con2=sorted(con2)\n",
    "\n",
    "        b['acc'].iloc[i]=np.where(con1==con2,1,0)\n",
    "    print(b['acc'].sum()/9000)"
   ]
  },
  {
   "cell_type": "code",
   "execution_count": 13,
   "metadata": {
    "scrolled": true
   },
   "outputs": [],
   "source": [
    "import pandas as pd\n",
    "from sklearn.metrics import multilabel_confusion_matrix\n",
    "model_inv3_mix_60=load_model(r\"C:\\Users\\user\\Desktop\\project\\final_model\\inceptionv3_picture_mix\\model_iter60_1h.hdf5\")\n"
   ]
  },
  {
   "cell_type": "code",
   "execution_count": 16,
   "metadata": {},
   "outputs": [],
   "source": [
    "preds=model_inv3_mix_60.predict(x_test)   \n",
    "preds[preds>=0.5] = 1\n",
    "preds[preds<0.5] = 0"
   ]
  },
  {
   "cell_type": "code",
   "execution_count": 18,
   "metadata": {
    "scrolled": false
   },
   "outputs": [
    {
     "data": {
      "text/plain": [
       "array([[0., 1., 0., 0., 0., 0.],\n",
       "       [1., 0., 0., 0., 0., 0.],\n",
       "       [0., 0., 0., 0., 1., 0.],\n",
       "       ...,\n",
       "       [0., 0., 1., 1., 0., 0.],\n",
       "       [0., 0., 1., 1., 0., 0.],\n",
       "       [0., 0., 1., 1., 0., 0.]], dtype=float32)"
      ]
     },
     "execution_count": 18,
     "metadata": {},
     "output_type": "execute_result"
    }
   ],
   "source": [
    "preds"
   ]
  },
  {
   "cell_type": "code",
   "execution_count": 19,
   "metadata": {},
   "outputs": [
    {
     "data": {
      "text/plain": [
       "array([[0., 1., 0., 0., 0., 0.],\n",
       "       [1., 0., 0., 0., 0., 0.],\n",
       "       [0., 0., 0., 0., 1., 0.],\n",
       "       ...,\n",
       "       [0., 0., 1., 1., 0., 0.],\n",
       "       [0., 0., 1., 1., 0., 0.],\n",
       "       [0., 0., 1., 1., 0., 0.]])"
      ]
     },
     "execution_count": 19,
     "metadata": {},
     "output_type": "execute_result"
    }
   ],
   "source": [
    "y_test"
   ]
  },
  {
   "cell_type": "code",
   "execution_count": 25,
   "metadata": {},
   "outputs": [
    {
     "data": {
      "text/plain": [
       "array([[[7004,   13],\n",
       "        [  81, 1902]],\n",
       "\n",
       "       [[6904,   69],\n",
       "        [ 117, 1910]],\n",
       "\n",
       "       [[6966,   53],\n",
       "        [ 168, 1813]],\n",
       "\n",
       "       [[5675,  324],\n",
       "        [ 109, 2892]],\n",
       "\n",
       "       [[6959,    1],\n",
       "        [   0, 2040]],\n",
       "\n",
       "       [[7896,  136],\n",
       "        [ 322,  646]]], dtype=int64)"
      ]
     },
     "execution_count": 25,
     "metadata": {},
     "output_type": "execute_result"
    }
   ],
   "source": [
    "multilabel_confusion_matrix(y_test,preds)"
   ]
  },
  {
   "cell_type": "code",
   "execution_count": null,
   "metadata": {},
   "outputs": [],
   "source": []
  },
  {
   "cell_type": "code",
   "execution_count": 11,
   "metadata": {
    "scrolled": false
   },
   "outputs": [
    {
     "data": {
      "text/plain": [
       "array([[<matplotlib.axes._subplots.AxesSubplot object at 0x00000274BBD72708>]],\n",
       "      dtype=object)"
      ]
     },
     "execution_count": 11,
     "metadata": {},
     "output_type": "execute_result"
    },
    {
     "data": {
      "image/png": "[encoded data removed]",
      "text/plain": [
       "<Figure size 432x288 with 1 Axes>"
      ]
     },
     "metadata": {
      "needs_background": "light"
     },
     "output_type": "display_data"
    }
   ],
   "source": [
    "b[0:6000].hist(column=\"second_large_value\")"
   ]
  },
  {
   "cell_type": "code",
   "execution_count": 39,
   "metadata": {},
   "outputs": [
    {
     "data": {
      "text/plain": [
       "array([[<matplotlib.axes._subplots.AxesSubplot object at 0x0000027674B4BB88>]],\n",
       "      dtype=object)"
      ]
     },
     "execution_count": 39,
     "metadata": {},
     "output_type": "execute_result"
    },
    {
     "data": {
      "image/png": "[encoded data removed]",
      "text/plain": [
       "<Figure size 432x288 with 1 Axes>"
      ]
     },
     "metadata": {
      "needs_background": "light"
     },
     "output_type": "display_data"
    }
   ],
   "source": [
    "b[6001:8999].hist(column=\"second_large_value\")"
   ]
  },
  {
   "cell_type": "code",
   "execution_count": 7,
   "metadata": {},
   "outputs": [
    {
     "name": "stderr",
     "output_type": "stream",
     "text": [
      "C:\\Users\\user\\anaconda3\\lib\\site-packages\\pandas\\core\\indexing.py:670: SettingWithCopyWarning: \n",
      "A value is trying to be set on a copy of a slice from a DataFrame\n",
      "\n",
      "See the caveats in the documentation: https://pandas.pydata.org/pandas-docs/stable/user_guide/indexing.html#returning-a-view-versus-a-copy\n",
      "  self._setitem_with_indexer(indexer, value)\n"
     ]
    }
   ],
   "source": [
    "# 算accuracy\n",
    "#  epoch= 60\n",
    "\n",
    "y_test_ori=pd.DataFrame(y_test_ori)\n",
    "y_test_ori=y_test_ori.rename(columns={0:'truelabel'})\n",
    "\n",
    "y_test_ori['true01']=np.where(y_test_ori['truelabel']==1,1,np.where(y_test_ori['truelabel']==2,2,np.where(y_test_ori['truelabel']==3,3,np.where(y_test_ori['truelabel']==4,4,\n",
    "np.where(y_test_ori['truelabel']==5,5,np.where(y_test_ori['truelabel']==6,6,np.where(y_test_ori['truelabel']==7,1,np.where(y_test_ori['truelabel']==8,3,4))))))))\n",
    "\n",
    "y_test_ori['true02']=np.where(y_test_ori['truelabel']==1,0,np.where(y_test_ori['truelabel']==2,0,np.where(y_test_ori['truelabel']==3,0,np.where(y_test_ori['truelabel']==4,0,\n",
    "np.where(y_test_ori['truelabel']==5,0,np.where(y_test_ori['truelabel']==6,0,np.where(y_test_ori['truelabel']==7,2,np.where(y_test_ori['truelabel']==8,4,5))))))))\n",
    "                                                                                           \n",
    "a=pd.DataFrame(predict)\n",
    "a=a.rename(columns={0:1, 1:2,2:3,3:4,4:5,5:6})\n",
    "\n",
    "a['max_value']=0\n",
    "a['second_large_value']=0 #值\n",
    "   \n",
    "\n",
    "a['max']=0\n",
    "a['second_large']=0   # label\n",
    "     \n",
    "    \n",
    "for i in range(0,(a.shape[0])):\n",
    "    tmp_list=0\n",
    "    num_list=a.iloc[i,0:6]\n",
    "    tmp_list=sorted(num_list)\n",
    "    \n",
    "    a['max_value'].iloc[i]=tmp_list[-1]\n",
    "    p=np.where(num_list==tmp_list[-1])[0][-1]+1\n",
    "    a['max'].iloc[i]=p    \n",
    "for i in range(0,(a.shape[0])):\n",
    "    tmp_list=0\n",
    "    num_list=a.iloc[i,0:6]\n",
    "    tmp_list=sorted(num_list)\n",
    "    a['second_large_value'].iloc[i]=tmp_list[-2]\n",
    "    \n",
    "    if a['second_large_value'].iloc[i]>=0.5:\n",
    "        \n",
    "        a['second_large'].iloc[i]=np.where(num_list==tmp_list[-2])[0][0]+1\n",
    "    else:\n",
    "        a['second_large'].iloc[i]=0\n",
    "b = pd.merge(y_test_ori, a, how='left',on=y_test_ori.index)\n",
    "b['acc']=0\n",
    "\n",
    "for i in range(0,(b.shape[0])):\n",
    "    \n",
    "    con1=[str(b['true01'][i]),str(b['true02'][i])]\n",
    "    con1=sorted(con1)\n",
    "    con2=[str(b['max'][i]),str(b['second_large'][i])]\n",
    "    con2=sorted(con2)\n",
    "    \n",
    "    b['acc'].iloc[i]=np.where(con1==con2,1,0)"
   ]
  },
  {
   "cell_type": "code",
   "execution_count": 57,
   "metadata": {
    "scrolled": true
   },
   "outputs": [
    {
     "name": "stdout",
     "output_type": "stream",
     "text": [
      "937\n",
      "969\n",
      "0.9669762641898865\n"
     ]
    }
   ],
   "source": [
    "fliter = (b[\"truelabel\"] == 1)\n",
    "group1=b[fliter]\n",
    "print(group1['acc'].sum())\n",
    "print(group1['acc'].size)\n",
    "print(group1['acc'].sum()/group1['acc'].size)"
   ]
  },
  {
   "cell_type": "code",
   "execution_count": null,
   "metadata": {},
   "outputs": [],
   "source": []
  }
 ],
 "metadata": {
  "kernelspec": {
   "display_name": "Python (tensorflow-gpu)",
   "language": "python",
   "name": "tensorflow-gpu"
  },
  "language_info": {
   "codemirror_mode": {
    "name": "ipython",
    "version": 3
   },
   "file_extension": ".py",
   "mimetype": "text/x-python",
   "name": "python",
   "nbconvert_exporter": "python",
   "pygments_lexer": "ipython3",
   "version": "3.7.6"
  }
 },
 "nbformat": 4,
 "nbformat_minor": 4
}
