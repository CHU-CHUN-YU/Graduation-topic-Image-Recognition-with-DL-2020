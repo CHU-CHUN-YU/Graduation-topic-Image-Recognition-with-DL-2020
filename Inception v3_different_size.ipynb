{
 "cells": [
  {
   "cell_type": "code",
   "execution_count": 1,
   "metadata": {},
   "outputs": [
    {
     "name": "stderr",
     "output_type": "stream",
     "text": [
      "C:\\Users\\user\\anaconda3\\lib\\site-packages\\tensorflow\\python\\framework\\dtypes.py:516: FutureWarning: Passing (type, 1) or '1type' as a synonym of type is deprecated; in a future version of numpy, it will be understood as (type, (1,)) / '(1,)type'.\n",
      "  _np_qint8 = np.dtype([(\"qint8\", np.int8, 1)])\n",
      "C:\\Users\\user\\anaconda3\\lib\\site-packages\\tensorflow\\python\\framework\\dtypes.py:517: FutureWarning: Passing (type, 1) or '1type' as a synonym of type is deprecated; in a future version of numpy, it will be understood as (type, (1,)) / '(1,)type'.\n",
      "  _np_quint8 = np.dtype([(\"quint8\", np.uint8, 1)])\n",
      "C:\\Users\\user\\anaconda3\\lib\\site-packages\\tensorflow\\python\\framework\\dtypes.py:518: FutureWarning: Passing (type, 1) or '1type' as a synonym of type is deprecated; in a future version of numpy, it will be understood as (type, (1,)) / '(1,)type'.\n",
      "  _np_qint16 = np.dtype([(\"qint16\", np.int16, 1)])\n",
      "C:\\Users\\user\\anaconda3\\lib\\site-packages\\tensorflow\\python\\framework\\dtypes.py:519: FutureWarning: Passing (type, 1) or '1type' as a synonym of type is deprecated; in a future version of numpy, it will be understood as (type, (1,)) / '(1,)type'.\n",
      "  _np_quint16 = np.dtype([(\"quint16\", np.uint16, 1)])\n",
      "C:\\Users\\user\\anaconda3\\lib\\site-packages\\tensorflow\\python\\framework\\dtypes.py:520: FutureWarning: Passing (type, 1) or '1type' as a synonym of type is deprecated; in a future version of numpy, it will be understood as (type, (1,)) / '(1,)type'.\n",
      "  _np_qint32 = np.dtype([(\"qint32\", np.int32, 1)])\n",
      "C:\\Users\\user\\anaconda3\\lib\\site-packages\\tensorflow\\python\\framework\\dtypes.py:525: FutureWarning: Passing (type, 1) or '1type' as a synonym of type is deprecated; in a future version of numpy, it will be understood as (type, (1,)) / '(1,)type'.\n",
      "  np_resource = np.dtype([(\"resource\", np.ubyte, 1)])\n",
      "C:\\Users\\user\\anaconda3\\lib\\site-packages\\tensorboard\\compat\\tensorflow_stub\\dtypes.py:541: FutureWarning: Passing (type, 1) or '1type' as a synonym of type is deprecated; in a future version of numpy, it will be understood as (type, (1,)) / '(1,)type'.\n",
      "  _np_qint8 = np.dtype([(\"qint8\", np.int8, 1)])\n",
      "C:\\Users\\user\\anaconda3\\lib\\site-packages\\tensorboard\\compat\\tensorflow_stub\\dtypes.py:542: FutureWarning: Passing (type, 1) or '1type' as a synonym of type is deprecated; in a future version of numpy, it will be understood as (type, (1,)) / '(1,)type'.\n",
      "  _np_quint8 = np.dtype([(\"quint8\", np.uint8, 1)])\n",
      "C:\\Users\\user\\anaconda3\\lib\\site-packages\\tensorboard\\compat\\tensorflow_stub\\dtypes.py:543: FutureWarning: Passing (type, 1) or '1type' as a synonym of type is deprecated; in a future version of numpy, it will be understood as (type, (1,)) / '(1,)type'.\n",
      "  _np_qint16 = np.dtype([(\"qint16\", np.int16, 1)])\n",
      "C:\\Users\\user\\anaconda3\\lib\\site-packages\\tensorboard\\compat\\tensorflow_stub\\dtypes.py:544: FutureWarning: Passing (type, 1) or '1type' as a synonym of type is deprecated; in a future version of numpy, it will be understood as (type, (1,)) / '(1,)type'.\n",
      "  _np_quint16 = np.dtype([(\"quint16\", np.uint16, 1)])\n",
      "C:\\Users\\user\\anaconda3\\lib\\site-packages\\tensorboard\\compat\\tensorflow_stub\\dtypes.py:545: FutureWarning: Passing (type, 1) or '1type' as a synonym of type is deprecated; in a future version of numpy, it will be understood as (type, (1,)) / '(1,)type'.\n",
      "  _np_qint32 = np.dtype([(\"qint32\", np.int32, 1)])\n",
      "C:\\Users\\user\\anaconda3\\lib\\site-packages\\tensorboard\\compat\\tensorflow_stub\\dtypes.py:550: FutureWarning: Passing (type, 1) or '1type' as a synonym of type is deprecated; in a future version of numpy, it will be understood as (type, (1,)) / '(1,)type'.\n",
      "  np_resource = np.dtype([(\"resource\", np.ubyte, 1)])\n"
     ]
    }
   ],
   "source": [
    "import numpy as np\n",
    "import cv2\n",
    "import glob\n",
    "import matplotlib.pyplot as plt\n",
    "import tensorflow as tf\n",
    "import pickle\n",
    "import os\n",
    "from tensorflow.keras.layers import Dense, Dropout, Activation, Flatten, Conv2D, MaxPooling2D, BatchNormalization\n",
    "from tensorflow.keras import Sequential\n",
    "from tensorflow.keras.callbacks import ModelCheckpoint\n",
    "from sklearn.preprocessing import OneHotEncoder\n",
    "import future \n",
    "from tensorflow.keras.callbacks import TensorBoard\n",
    "from sklearn.model_selection import train_test_split\n",
    "seed = 100\n",
    "np.random.seed(seed)\n",
    "import matplotlib.pyplot as plt\n",
    "from tensorflow.keras.models import load_model"
   ]
  },
  {
   "cell_type": "code",
   "execution_count": 2,
   "metadata": {
    "scrolled": false
   },
   "outputs": [
    {
     "name": "stdout",
     "output_type": "stream",
     "text": [
      "WARNING:tensorflow:From C:\\Users\\user\\anaconda3\\lib\\site-packages\\tensorflow\\python\\ops\\init_ops.py:97: calling GlorotUniform.__init__ (from tensorflow.python.ops.init_ops) with dtype is deprecated and will be removed in a future version.\n",
      "Instructions for updating:\n",
      "Call initializer instance with the dtype argument instead of passing it to the constructor\n",
      "WARNING:tensorflow:From C:\\Users\\user\\anaconda3\\lib\\site-packages\\tensorflow\\python\\ops\\init_ops.py:1251: calling VarianceScaling.__init__ (from tensorflow.python.ops.init_ops) with dtype is deprecated and will be removed in a future version.\n",
      "Instructions for updating:\n",
      "Call initializer instance with the dtype argument instead of passing it to the constructor\n",
      "WARNING:tensorflow:From C:\\Users\\user\\anaconda3\\lib\\site-packages\\tensorflow\\python\\ops\\init_ops.py:97: calling Zeros.__init__ (from tensorflow.python.ops.init_ops) with dtype is deprecated and will be removed in a future version.\n",
      "Instructions for updating:\n",
      "Call initializer instance with the dtype argument instead of passing it to the constructor\n",
      "WARNING:tensorflow:From C:\\Users\\user\\anaconda3\\lib\\site-packages\\tensorflow\\python\\ops\\init_ops.py:97: calling Ones.__init__ (from tensorflow.python.ops.init_ops) with dtype is deprecated and will be removed in a future version.\n",
      "Instructions for updating:\n",
      "Call initializer instance with the dtype argument instead of passing it to the constructor\n"
     ]
    }
   ],
   "source": [
    "model = load_model(r'C:\\Users\\user\\Desktop\\project\\final_model\\inceptionv3_picture03\\model_iter60_8.hdf5')"
   ]
  },
  {
   "cell_type": "code",
   "execution_count": 3,
   "metadata": {},
   "outputs": [],
   "source": [
    "#200*200\n",
    "from scipy import stats\n",
    "path=os.getcwd()+'\\\\DATA\\\\picture_200'\n",
    "folder_list =[]\n",
    "folder = glob.glob(path)\n",
    "for folder in folder :\n",
    "    for name in glob.glob(folder+'/*'):\n",
    "        folder_list.append(name)\n",
    "\n",
    "image_name =[]\n",
    "for folder in folder_list:\n",
    "    for name in glob.glob(folder+'/*.jpg') :\n",
    "        image_name.append(name)"
   ]
  },
  {
   "cell_type": "code",
   "execution_count": 5,
   "metadata": {
    "scrolled": true
   },
   "outputs": [],
   "source": [
    "img = cv2.imread(image_name[0])\n",
    "img = cv2.cvtColor(img, cv2.COLOR_BGR2GRAY)\n",
    "height  = width = int(200/100)\n"
   ]
  },
  {
   "cell_type": "code",
   "execution_count": 6,
   "metadata": {},
   "outputs": [],
   "source": [
    "image_storage = []\n",
    "for a in range(2):\n",
    "    for j in range(2):\n",
    "        image_ = img[(a*100):100*(a+1),(j*100):100*(j+1)]\n",
    "        image_storage.append(image_)"
   ]
  },
  {
   "cell_type": "code",
   "execution_count": 7,
   "metadata": {},
   "outputs": [],
   "source": [
    "for i in range(0,4):\n",
    "    image_storage[i]= image_storage[i].reshape(1,100,100,1)"
   ]
  },
  {
   "cell_type": "code",
   "execution_count": 8,
   "metadata": {},
   "outputs": [],
   "source": [
    "ans=[]\n",
    "for j in range(4):\n",
    "    c = model.predict(x = image_storage[j]) #要loadmodel\n",
    "    c = np.argmax(c)\n",
    "    ans.append(c)  "
   ]
  },
  {
   "cell_type": "code",
   "execution_count": 9,
   "metadata": {},
   "outputs": [
    {
     "data": {
      "text/plain": [
       "0"
      ]
     },
     "execution_count": 9,
     "metadata": {},
     "output_type": "execute_result"
    }
   ],
   "source": [
    "c"
   ]
  },
  {
   "cell_type": "code",
   "execution_count": 23,
   "metadata": {},
   "outputs": [
    {
     "data": {
      "text/plain": [
       "0"
      ]
     },
     "execution_count": 23,
     "metadata": {},
     "output_type": "execute_result"
    }
   ],
   "source": [
    "#眾數\n",
    "counts = np.bincount(ans)\n",
    "predict=np.argmax(counts)\n"
   ]
  },
  {
   "cell_type": "code",
   "execution_count": null,
   "metadata": {},
   "outputs": [],
   "source": []
  },
  {
   "cell_type": "code",
   "execution_count": null,
   "metadata": {},
   "outputs": [],
   "source": []
  },
  {
   "cell_type": "code",
   "execution_count": 4,
   "metadata": {},
   "outputs": [],
   "source": [
    "# 馬賽克 4\n",
    "pre0=[]\n",
    "\n",
    "for d in range(0,200):\n",
    "    img = cv2.imread(image_name[d])\n",
    "    img = cv2.cvtColor(img, cv2.COLOR_BGR2GRAY)\n",
    "    height  = width = int(200/100)\n",
    "    \n",
    "    image_storage = []\n",
    "    for a in range(2):\n",
    "        for j in range(2):\n",
    "            image_ = img[(a*100):100*(a+1),(j*100):100*(j+1)]\n",
    "            image_storage.append(image_)\n",
    "            \n",
    "    for i in range(0,4):\n",
    "        image_storage[i]= image_storage[i].reshape(1,100,100,1)\n",
    "        \n",
    "    ans=[]    \n",
    "    for j in range(4):\n",
    "        c = model.predict(x = image_storage[j]) #要loadmodel\n",
    "       # print(c)\n",
    "        c = np.argmax(c)\n",
    "        ans.append(c)\n",
    "    #print(ans)    \n",
    "    counts = np.bincount(ans)\n",
    "    predict=np.argmax(counts)\n",
    "    #print(predict)\n",
    "    pre0.append(predict)"
   ]
  },
  {
   "cell_type": "code",
   "execution_count": 5,
   "metadata": {
    "scrolled": true
   },
   "outputs": [
    {
     "name": "stdout",
     "output_type": "stream",
     "text": [
      "200\n",
      "0\n",
      "0\n",
      "0\n",
      "0\n",
      "0\n"
     ]
    }
   ],
   "source": [
    "for i in range(6):\n",
    "    print(pre0.count(i))"
   ]
  },
  {
   "cell_type": "code",
   "execution_count": 28,
   "metadata": {},
   "outputs": [],
   "source": [
    "# 馬賽 9\n",
    "pre0=[]\n",
    "\n",
    "for d in range(0,200):\n",
    "    img = cv2.imread(image_name[d])\n",
    "    img = cv2.cvtColor(img, cv2.COLOR_BGR2GRAY)\n",
    "    \n",
    "    \n",
    "    image_storage = []\n",
    "    for a in range(3): # 012\n",
    "        for j in range(3):\n",
    "            image_ = img[(0+50*a):(100+50*a),(0+50*j):(100+50*j)]\n",
    "            image_storage.append(image_)\n",
    "            \n",
    "    for i in range(0,9):\n",
    "        image_storage[i]= image_storage[i].reshape(1,100,100,1)\n",
    "        \n",
    "    ans=[]    \n",
    "    for j in range(9):\n",
    "        c = model.predict(x = image_storage[j]) #要loadmodel\n",
    "       # print(c)\n",
    "        c = np.argmax(c)\n",
    "        ans.append(c)\n",
    "    #print(ans)    \n",
    "    counts = np.bincount(ans)\n",
    "    predict=np.argmax(counts)\n",
    "    #print(predict)\n",
    "    pre0.append(predict)"
   ]
  },
  {
   "cell_type": "code",
   "execution_count": 29,
   "metadata": {},
   "outputs": [
    {
     "name": "stdout",
     "output_type": "stream",
     "text": [
      "200\n",
      "0\n",
      "0\n",
      "0\n",
      "0\n",
      "0\n"
     ]
    }
   ],
   "source": [
    "for i in range(6):\n",
    "    print(pre0.count(i))"
   ]
  },
  {
   "cell_type": "code",
   "execution_count": 30,
   "metadata": {},
   "outputs": [],
   "source": [
    "# 馬賽 25張\n",
    "\n",
    "pre0=[]\n",
    "\n",
    "for d in range(0,200):\n",
    "    img = cv2.imread(image_name[d])\n",
    "    img = cv2.cvtColor(img, cv2.COLOR_BGR2GRAY)\n",
    "    \n",
    "    \n",
    "    image_storage = []\n",
    "    for a in range(5): # 0123\n",
    "        for j in range(5):\n",
    "            image_ = img[(a*25):100+25*a,(j*25):100+25*j]\n",
    "            image_storage.append(image_)\n",
    "            \n",
    "    for i in range(0,25):\n",
    "        image_storage[i]= image_storage[i].reshape(1,100,100,1)\n",
    "        \n",
    "    ans=[]    \n",
    "    for j in range(25):\n",
    "        c = model.predict(x = image_storage[j]) #要loadmodel\n",
    "       # print(c)\n",
    "        c = np.argmax(c)\n",
    "        ans.append(c)\n",
    "    #print(ans)    \n",
    "    counts = np.bincount(ans)\n",
    "    predict=np.argmax(counts)\n",
    "    #print(predict)\n",
    "    pre0.append(predict)"
   ]
  },
  {
   "cell_type": "code",
   "execution_count": 32,
   "metadata": {},
   "outputs": [
    {
     "name": "stdout",
     "output_type": "stream",
     "text": [
      "196\n",
      "1\n",
      "0\n",
      "0\n",
      "0\n",
      "3\n"
     ]
    }
   ],
   "source": [
    "for i in range(6):\n",
    "    print(pre0.count(i))"
   ]
  },
  {
   "cell_type": "code",
   "execution_count": 33,
   "metadata": {},
   "outputs": [],
   "source": [
    "# 馬 36 張\n",
    "pre0=[]\n",
    "\n",
    "for d in range(0,200):\n",
    "    img = cv2.imread(image_name[d])\n",
    "    img = cv2.cvtColor(img, cv2.COLOR_BGR2GRAY)\n",
    "    \n",
    "    \n",
    "    image_storage = []\n",
    "    for a in range(6): # 012345\n",
    "        for j in range(6):\n",
    "            image_ = img[(a*20):100+20*a,(j*20):100+20*j]\n",
    "            image_storage.append(image_)\n",
    "            \n",
    "    for i in range(0,36):\n",
    "        image_storage[i]= image_storage[i].reshape(1,100,100,1)\n",
    "        \n",
    "    ans=[]    \n",
    "    for j in range(36):\n",
    "        c = model.predict(x = image_storage[j]) #要loadmodel\n",
    "       # print(c)\n",
    "        c = np.argmax(c)\n",
    "        ans.append(c)\n",
    "    #print(ans)    \n",
    "    counts = np.bincount(ans)\n",
    "    predict=np.argmax(counts)\n",
    "    #print(predict)\n",
    "    pre0.append(predict)"
   ]
  },
  {
   "cell_type": "code",
   "execution_count": 34,
   "metadata": {},
   "outputs": [
    {
     "name": "stdout",
     "output_type": "stream",
     "text": [
      "200\n",
      "0\n",
      "0\n",
      "0\n",
      "0\n",
      "0\n"
     ]
    }
   ],
   "source": [
    "for i in range(6):\n",
    "    print(pre0.count(i))"
   ]
  },
  {
   "cell_type": "code",
   "execution_count": 35,
   "metadata": {},
   "outputs": [],
   "source": [
    "# 馬  切中間\n",
    "pre0=[]\n",
    "\n",
    "for d in range(0,200):\n",
    "    img = cv2.imread(image_name[d])\n",
    "    img = cv2.cvtColor(img, cv2.COLOR_BGR2GRAY)\n",
    "    \n",
    " \n",
    "   \n",
    "    image_ = img[50:150,50:150].reshape(1,100,100,1)\n",
    "    c = model.predict(x = image_) #要loadmodel\n",
    "    c = np.argmax(c)\n",
    "    #print(predict)\n",
    "    pre0.append(c)"
   ]
  },
  {
   "cell_type": "code",
   "execution_count": 36,
   "metadata": {},
   "outputs": [
    {
     "name": "stdout",
     "output_type": "stream",
     "text": [
      "196\n",
      "1\n",
      "0\n",
      "0\n",
      "0\n",
      "3\n"
     ]
    }
   ],
   "source": [
    "for i in range(6):\n",
    "    print(pre0.count(i))"
   ]
  },
  {
   "cell_type": "code",
   "execution_count": null,
   "metadata": {},
   "outputs": [],
   "source": []
  },
  {
   "cell_type": "code",
   "execution_count": 4,
   "metadata": {},
   "outputs": [],
   "source": [
    "# 內縮 9\n",
    "pre1=[]\n",
    "\n",
    "for d in range(1000,1200):\n",
    "    img = cv2.imread(image_name[d])\n",
    "    img = cv2.cvtColor(img, cv2.COLOR_BGR2GRAY)\n",
    "    \n",
    "    \n",
    "    image_storage = []\n",
    "    for a in range(3): # 012\n",
    "        for j in range(3):\n",
    "            image_ = img[(0+50*a):(100+50*a),(0+50*j):(100+50*j)]\n",
    "            image_storage.append(image_)\n",
    "            \n",
    "    for i in range(0,9):\n",
    "        image_storage[i]= image_storage[i].reshape(1,100,100,1)\n",
    "        \n",
    "    ans=[]    \n",
    "    for j in range(9):\n",
    "        c = model.predict(x = image_storage[j]) #要loadmodel\n",
    "       # print(c)\n",
    "        c = np.argmax(c)\n",
    "        ans.append(c)\n",
    "    #print(ans)    \n",
    "    counts = np.bincount(ans)\n",
    "    predict=np.argmax(counts)\n",
    "    #print(predict)\n",
    "    pre1.append(predict)"
   ]
  },
  {
   "cell_type": "code",
   "execution_count": 5,
   "metadata": {},
   "outputs": [
    {
     "name": "stdout",
     "output_type": "stream",
     "text": [
      "2\n",
      "48\n",
      "98\n",
      "3\n",
      "0\n",
      "49\n"
     ]
    }
   ],
   "source": [
    "for i in range(6):\n",
    "    print(pre1.count(i))"
   ]
  },
  {
   "cell_type": "code",
   "execution_count": 6,
   "metadata": {},
   "outputs": [],
   "source": [
    "# 內縮 4\n",
    "pre1=[]\n",
    "\n",
    "for d in range(1000,1200):\n",
    "    img = cv2.imread(image_name[d])\n",
    "    img = cv2.cvtColor(img, cv2.COLOR_BGR2GRAY)\n",
    "    \n",
    "    \n",
    "    image_storage = []\n",
    "    for a in range(2): # 012\n",
    "        for j in range(2):\n",
    "            image_ = img[(a*100):100*(a+1),(j*100):100*(j+1)]\n",
    "            image_storage.append(image_)\n",
    "            \n",
    "    for i in range(0,4):\n",
    "        image_storage[i]= image_storage[i].reshape(1,100,100,1)\n",
    "        \n",
    "    ans=[]    \n",
    "    for j in range(4):\n",
    "        c = model.predict(x = image_storage[j]) #要loadmodel\n",
    "       # print(c)\n",
    "        c = np.argmax(c)\n",
    "        ans.append(c)\n",
    "    #print(ans)    \n",
    "    counts = np.bincount(ans)\n",
    "    predict=np.argmax(counts)\n",
    "    #print(predict)\n",
    "    pre1.append(predict)"
   ]
  },
  {
   "cell_type": "code",
   "execution_count": 6,
   "metadata": {},
   "outputs": [],
   "source": [
    "# 內縮 25張\n",
    "pre1=[]\n",
    "\n",
    "for d in range(1000,1200):\n",
    "    img = cv2.imread(image_name[d])\n",
    "    img = cv2.cvtColor(img, cv2.COLOR_BGR2GRAY)\n",
    "    \n",
    "    \n",
    "    image_storage = []\n",
    "    for a in range(5): # 0123\n",
    "        for j in range(5):\n",
    "            image_ = img[(a*25):100+25*a,(j*25):100+25*j]\n",
    "            image_storage.append(image_)\n",
    "            \n",
    "    for i in range(0,25):\n",
    "        image_storage[i]= image_storage[i].reshape(1,100,100,1)\n",
    "        \n",
    "    ans=[]    \n",
    "    for j in range(25):\n",
    "        c = model.predict(x = image_storage[j]) #要loadmodel\n",
    "       # print(c)\n",
    "        c = np.argmax(c)\n",
    "        ans.append(c)\n",
    "    #print(ans)    \n",
    "    counts = np.bincount(ans)\n",
    "    predict=np.argmax(counts)\n",
    "    #print(predict)\n",
    "    pre1.append(predict)"
   ]
  },
  {
   "cell_type": "code",
   "execution_count": 8,
   "metadata": {
    "scrolled": true
   },
   "outputs": [
    {
     "name": "stdout",
     "output_type": "stream",
     "text": [
      "2\n",
      "50\n",
      "78\n",
      "1\n",
      "0\n",
      "69\n"
     ]
    }
   ],
   "source": [
    "for i in range(6):\n",
    "    print(pre1.count(i))"
   ]
  },
  {
   "cell_type": "code",
   "execution_count": 15,
   "metadata": {},
   "outputs": [],
   "source": [
    "# 內縮 36 張\n",
    "pre1=[]\n",
    "\n",
    "for d in range(1000,1200):\n",
    "    img = cv2.imread(image_name[d])\n",
    "    img = cv2.cvtColor(img, cv2.COLOR_BGR2GRAY)\n",
    "    \n",
    "    \n",
    "    image_storage = []\n",
    "    for a in range(6): # 012345\n",
    "        for j in range(6):\n",
    "            image_ = img[(a*20):100+20*a,(j*20):100+20*j]\n",
    "            image_storage.append(image_)\n",
    "            \n",
    "    for i in range(0,36):\n",
    "        image_storage[i]= image_storage[i].reshape(1,100,100,1)\n",
    "        \n",
    "    ans=[]    \n",
    "    for j in range(36):\n",
    "        c = model.predict(x = image_storage[j]) #要loadmodel\n",
    "       # print(c)\n",
    "        c = np.argmax(c)\n",
    "        ans.append(c)\n",
    "    #print(ans)    \n",
    "    counts = np.bincount(ans)\n",
    "    predict=np.argmax(counts)\n",
    "    #print(predict)\n",
    "    pre1.append(predict)"
   ]
  },
  {
   "cell_type": "code",
   "execution_count": 16,
   "metadata": {},
   "outputs": [
    {
     "name": "stdout",
     "output_type": "stream",
     "text": [
      "3\n",
      "47\n",
      "54\n",
      "1\n",
      "0\n",
      "95\n"
     ]
    }
   ],
   "source": [
    "for i in range(6):\n",
    "    print(pre1.count(i))"
   ]
  },
  {
   "cell_type": "code",
   "execution_count": 24,
   "metadata": {},
   "outputs": [],
   "source": [
    "# 內縮  切中間\n",
    "pre1=[]\n",
    "\n",
    "for d in range(1000,1200):\n",
    "    img = cv2.imread(image_name[d])\n",
    "    img = cv2.cvtColor(img, cv2.COLOR_BGR2GRAY)\n",
    "    \n",
    " \n",
    "   \n",
    "    image_ = img[50:150,50:150].reshape(1,100,100,1)\n",
    "    c = model.predict(x = image_) #要loadmodel\n",
    "    c = np.argmax(c)\n",
    "    #print(predict)\n",
    "    pre1.append(c)"
   ]
  },
  {
   "cell_type": "code",
   "execution_count": 25,
   "metadata": {},
   "outputs": [
    {
     "name": "stdout",
     "output_type": "stream",
     "text": [
      "4\n",
      "64\n",
      "53\n",
      "5\n",
      "0\n",
      "74\n"
     ]
    }
   ],
   "source": [
    "for i in range(6):\n",
    "    print(pre1.count(i))"
   ]
  },
  {
   "cell_type": "code",
   "execution_count": 8,
   "metadata": {},
   "outputs": [],
   "source": [
    "# 外擴 4\n",
    "pre2=[]\n",
    "\n",
    "for d in range(2000,2200):\n",
    "    img = cv2.imread(image_name[d])\n",
    "    img = cv2.cvtColor(img, cv2.COLOR_BGR2GRAY)\n",
    "    height  = width = int(200/100)\n",
    "    \n",
    "    image_storage = []\n",
    "    for a in range(2):\n",
    "        for j in range(2):\n",
    "            image_ = img[(a*100):100*(a+1),(j*100):100*(j+1)]\n",
    "            image_storage.append(image_)\n",
    "            \n",
    "    for i in range(0,4):\n",
    "        image_storage[i]= image_storage[i].reshape(1,100,100,1)\n",
    "        \n",
    "    ans=[]    \n",
    "    for j in range(4):\n",
    "        c = model.predict(x = image_storage[j]) #要loadmodel\n",
    "       # print(c)\n",
    "        c = np.argmax(c)\n",
    "        ans.append(c)\n",
    "    #print(ans)    \n",
    "    counts = np.bincount(ans)\n",
    "    predict=np.argmax(counts)\n",
    "    #print(predict)\n",
    "    pre2.append(predict)"
   ]
  },
  {
   "cell_type": "code",
   "execution_count": 9,
   "metadata": {},
   "outputs": [
    {
     "name": "stdout",
     "output_type": "stream",
     "text": [
      "7\n",
      "17\n",
      "37\n",
      "6\n",
      "0\n",
      "133\n"
     ]
    }
   ],
   "source": [
    "for i in range(6):\n",
    "    print(pre2.count(i))"
   ]
  },
  {
   "cell_type": "code",
   "execution_count": 9,
   "metadata": {},
   "outputs": [],
   "source": [
    "# 外擴 9\n",
    "pre2=[]\n",
    "\n",
    "for d in range(2000,2200):\n",
    "    img = cv2.imread(image_name[d])\n",
    "    img = cv2.cvtColor(img, cv2.COLOR_BGR2GRAY)\n",
    "    \n",
    "    \n",
    "    image_storage = []\n",
    "    for a in range(3): # 012\n",
    "        for j in range(3):\n",
    "            image_ = img[(0+50*a):(100+50*a),(0+50*j):(100+50*j)]\n",
    "            image_storage.append(image_)\n",
    "            \n",
    "    for i in range(0,9):\n",
    "        image_storage[i]= image_storage[i].reshape(1,100,100,1)\n",
    "        \n",
    "    ans=[]    \n",
    "    for j in range(9):\n",
    "        c = model.predict(x = image_storage[j]) #要loadmodel\n",
    "       # print(c)\n",
    "        c = np.argmax(c)\n",
    "        ans.append(c)\n",
    "    #print(ans)    \n",
    "    counts = np.bincount(ans)\n",
    "    predict=np.argmax(counts)\n",
    "    #print(predict)\n",
    "    pre2.append(predict)"
   ]
  },
  {
   "cell_type": "code",
   "execution_count": 10,
   "metadata": {},
   "outputs": [
    {
     "name": "stdout",
     "output_type": "stream",
     "text": [
      "5\n",
      "18\n",
      "54\n",
      "1\n",
      "0\n",
      "122\n"
     ]
    }
   ],
   "source": [
    "for i in range(6):\n",
    "    print(pre2.count(i))"
   ]
  },
  {
   "cell_type": "code",
   "execution_count": 13,
   "metadata": {},
   "outputs": [],
   "source": [
    "# 外擴 25張\n",
    "pre2=[]\n",
    "\n",
    "for d in range(2000,2200):\n",
    "    img = cv2.imread(image_name[d])\n",
    "    img = cv2.cvtColor(img, cv2.COLOR_BGR2GRAY)\n",
    "    \n",
    "    \n",
    "    image_storage = []\n",
    "    for a in range(5): # 0123\n",
    "        for j in range(5):\n",
    "            image_ = img[(a*25):100+25*a,(j*25):100+25*j]\n",
    "            image_storage.append(image_)\n",
    "            \n",
    "    for i in range(0,25):\n",
    "        image_storage[i]= image_storage[i].reshape(1,100,100,1)\n",
    "        \n",
    "    ans=[]    \n",
    "    for j in range(25):\n",
    "        c = model.predict(x = image_storage[j]) #要loadmodel\n",
    "       # print(c)\n",
    "        c = np.argmax(c)\n",
    "        ans.append(c)\n",
    "    #print(ans)    \n",
    "    counts = np.bincount(ans)\n",
    "    predict=np.argmax(counts)\n",
    "    #print(predict)\n",
    "    pre2.append(predict)"
   ]
  },
  {
   "cell_type": "code",
   "execution_count": 14,
   "metadata": {},
   "outputs": [
    {
     "name": "stdout",
     "output_type": "stream",
     "text": [
      "3\n",
      "18\n",
      "94\n",
      "1\n",
      "0\n",
      "84\n"
     ]
    }
   ],
   "source": [
    "for i in range(6):\n",
    "    print(pre2.count(i))"
   ]
  },
  {
   "cell_type": "code",
   "execution_count": 17,
   "metadata": {},
   "outputs": [],
   "source": [
    "# 外擴 36 張\n",
    "\n",
    "pre2=[]\n",
    "\n",
    "for d in range(2000,2200):\n",
    "    img = cv2.imread(image_name[d])\n",
    "    img = cv2.cvtColor(img, cv2.COLOR_BGR2GRAY)\n",
    "    \n",
    "    \n",
    "    image_storage = []\n",
    "    for a in range(6): # 012345\n",
    "        for j in range(6):\n",
    "            image_ = img[(a*20):100+20*a,(j*20):100+20*j]\n",
    "            image_storage.append(image_)\n",
    "            \n",
    "    for i in range(0,36):\n",
    "        image_storage[i]= image_storage[i].reshape(1,100,100,1)\n",
    "        \n",
    "    ans=[]    \n",
    "    for j in range(36):\n",
    "        c = model.predict(x = image_storage[j]) #要loadmodel\n",
    "       # print(c)\n",
    "        c = np.argmax(c)\n",
    "        ans.append(c)\n",
    "    #print(ans)    \n",
    "    counts = np.bincount(ans)\n",
    "    predict=np.argmax(counts)\n",
    "    #print(predict)\n",
    "    pre2.append(predict)"
   ]
  },
  {
   "cell_type": "code",
   "execution_count": 18,
   "metadata": {},
   "outputs": [
    {
     "name": "stdout",
     "output_type": "stream",
     "text": [
      "3\n",
      "3\n",
      "23\n",
      "2\n",
      "0\n",
      "169\n"
     ]
    }
   ],
   "source": [
    "for i in range(6):\n",
    "    print(pre2.count(i))"
   ]
  },
  {
   "cell_type": "code",
   "execution_count": 26,
   "metadata": {},
   "outputs": [],
   "source": [
    "# 外擴  切中間\n",
    "pre2=[]\n",
    "\n",
    "for d in range(2000,2200):\n",
    "    img = cv2.imread(image_name[d])\n",
    "    img = cv2.cvtColor(img, cv2.COLOR_BGR2GRAY)\n",
    "    \n",
    " \n",
    "   \n",
    "    image_ = img[50:150,50:150].reshape(1,100,100,1)\n",
    "    c = model.predict(x = image_) #要loadmodel\n",
    "    c = np.argmax(c)\n",
    "    #print(predict)\n",
    "    pre2.append(c)"
   ]
  },
  {
   "cell_type": "code",
   "execution_count": 27,
   "metadata": {},
   "outputs": [
    {
     "name": "stdout",
     "output_type": "stream",
     "text": [
      "5\n",
      "30\n",
      "114\n",
      "2\n",
      "0\n",
      "49\n"
     ]
    }
   ],
   "source": [
    "for i in range(6):\n",
    "    print(pre2.count(i))"
   ]
  },
  {
   "cell_type": "code",
   "execution_count": 10,
   "metadata": {},
   "outputs": [],
   "source": [
    "#銳化 4\n",
    "pre3=[]\n",
    "\n",
    "for d in range(3000,3200):\n",
    "    img = cv2.imread(image_name[d])\n",
    "    img = cv2.cvtColor(img, cv2.COLOR_BGR2GRAY)\n",
    "    height  = width = int(200/100)\n",
    "    \n",
    "    image_storage = []\n",
    "    for a in range(2):\n",
    "        for j in range(2):\n",
    "            image_ = img[(a*100):100*(a+1),(j*100):100*(j+1)]\n",
    "            image_storage.append(image_)\n",
    "            \n",
    "    for i in range(0,4):\n",
    "        image_storage[i]= image_storage[i].reshape(1,100,100,1)\n",
    "        \n",
    "    ans=[]    \n",
    "    for j in range(4):\n",
    "        c = model.predict(x = image_storage[j]) #要loadmodel\n",
    "       # print(c)\n",
    "        c = np.argmax(c)\n",
    "        ans.append(c)\n",
    "    #print(ans)    \n",
    "    counts = np.bincount(ans)\n",
    "    predict=np.argmax(counts)\n",
    "    #print(predict)\n",
    "    pre3.append(predict)"
   ]
  },
  {
   "cell_type": "code",
   "execution_count": 11,
   "metadata": {
    "scrolled": true
   },
   "outputs": [
    {
     "name": "stdout",
     "output_type": "stream",
     "text": [
      "3\n",
      "2\n",
      "1\n",
      "120\n",
      "0\n",
      "74\n"
     ]
    }
   ],
   "source": [
    "for i in range(6):\n",
    "    print(pre3.count(i))"
   ]
  },
  {
   "cell_type": "code",
   "execution_count": 37,
   "metadata": {},
   "outputs": [],
   "source": [
    "#  銳化 9\n",
    "\n",
    "pre3=[]\n",
    "\n",
    "for d in range(3000,3200):\n",
    "    img = cv2.imread(image_name[d])\n",
    "    img = cv2.cvtColor(img, cv2.COLOR_BGR2GRAY)\n",
    "    \n",
    "    \n",
    "    image_storage = []\n",
    "    for a in range(3): # 012\n",
    "        for j in range(3):\n",
    "            image_ = img[(0+50*a):(100+50*a),(0+50*j):(100+50*j)]\n",
    "            image_storage.append(image_)\n",
    "            \n",
    "    for i in range(0,9):\n",
    "        image_storage[i]= image_storage[i].reshape(1,100,100,1)\n",
    "        \n",
    "    ans=[]    \n",
    "    for j in range(9):\n",
    "        c = model.predict(x = image_storage[j]) #要loadmodel\n",
    "       # print(c)\n",
    "        c = np.argmax(c)\n",
    "        ans.append(c)\n",
    "    #print(ans)    \n",
    "    counts = np.bincount(ans)\n",
    "    predict=np.argmax(counts)\n",
    "    #print(predict)\n",
    "    pre3.append(predict)"
   ]
  },
  {
   "cell_type": "code",
   "execution_count": 38,
   "metadata": {},
   "outputs": [
    {
     "name": "stdout",
     "output_type": "stream",
     "text": [
      "0\n",
      "2\n",
      "2\n",
      "74\n",
      "0\n",
      "122\n"
     ]
    }
   ],
   "source": [
    "for i in range(6):\n",
    "    print(pre3.count(i))"
   ]
  },
  {
   "cell_type": "code",
   "execution_count": 39,
   "metadata": {},
   "outputs": [],
   "source": [
    "# 銳化 25張\n",
    "\n",
    "pre3=[]\n",
    "\n",
    "for d in range(3000,3200):\n",
    "    img = cv2.imread(image_name[d])\n",
    "    img = cv2.cvtColor(img, cv2.COLOR_BGR2GRAY)\n",
    "    \n",
    "    \n",
    "    image_storage = []\n",
    "    for a in range(5): # 0123\n",
    "        for j in range(5):\n",
    "            image_ = img[(a*25):100+25*a,(j*25):100+25*j]\n",
    "            image_storage.append(image_)\n",
    "            \n",
    "    for i in range(0,25):\n",
    "        image_storage[i]= image_storage[i].reshape(1,100,100,1)\n",
    "        \n",
    "    ans=[]    \n",
    "    for j in range(25):\n",
    "        c = model.predict(x = image_storage[j]) #要loadmodel\n",
    "       # print(c)\n",
    "        c = np.argmax(c)\n",
    "        ans.append(c)\n",
    "    #print(ans)    \n",
    "    counts = np.bincount(ans)\n",
    "    predict=np.argmax(counts)\n",
    "    #print(predict)\n",
    "    pre3.append(predict)"
   ]
  },
  {
   "cell_type": "code",
   "execution_count": 40,
   "metadata": {},
   "outputs": [
    {
     "name": "stdout",
     "output_type": "stream",
     "text": [
      "0\n",
      "1\n",
      "3\n",
      "54\n",
      "0\n",
      "142\n"
     ]
    }
   ],
   "source": [
    "for i in range(6):\n",
    "    print(pre3.count(i))"
   ]
  },
  {
   "cell_type": "code",
   "execution_count": 41,
   "metadata": {},
   "outputs": [],
   "source": [
    "# 銳化 36 張\n",
    "\n",
    "pre3=[]\n",
    "\n",
    "for d in range(3000,3200):\n",
    "    img = cv2.imread(image_name[d])\n",
    "    img = cv2.cvtColor(img, cv2.COLOR_BGR2GRAY)\n",
    "    \n",
    "    \n",
    "    image_storage = []\n",
    "    for a in range(6): # 012345\n",
    "        for j in range(6):\n",
    "            image_ = img[(a*20):100+20*a,(j*20):100+20*j]\n",
    "            image_storage.append(image_)\n",
    "            \n",
    "    for i in range(0,36):\n",
    "        image_storage[i]= image_storage[i].reshape(1,100,100,1)\n",
    "        \n",
    "    ans=[]    \n",
    "    for j in range(36):\n",
    "        c = model.predict(x = image_storage[j]) #要loadmodel\n",
    "       # print(c)\n",
    "        c = np.argmax(c)\n",
    "        ans.append(c)\n",
    "    #print(ans)    \n",
    "    counts = np.bincount(ans)\n",
    "    predict=np.argmax(counts)\n",
    "    #print(predict)\n",
    "    pre3.append(predict)"
   ]
  },
  {
   "cell_type": "code",
   "execution_count": 42,
   "metadata": {},
   "outputs": [
    {
     "name": "stdout",
     "output_type": "stream",
     "text": [
      "0\n",
      "0\n",
      "0\n",
      "66\n",
      "0\n",
      "134\n"
     ]
    }
   ],
   "source": [
    "for i in range(6):\n",
    "    print(pre3.count(i))"
   ]
  },
  {
   "cell_type": "code",
   "execution_count": 43,
   "metadata": {},
   "outputs": [],
   "source": [
    "# 銳化  切中間\n",
    "\n",
    "pre3=[]\n",
    "\n",
    "for d in range(3000,3200):\n",
    "    img = cv2.imread(image_name[d])\n",
    "    img = cv2.cvtColor(img, cv2.COLOR_BGR2GRAY)\n",
    "    \n",
    " \n",
    "   \n",
    "    image_ = img[50:150,50:150].reshape(1,100,100,1)\n",
    "    c = model.predict(x = image_) #要loadmodel\n",
    "    c = np.argmax(c)\n",
    "    #print(predict)\n",
    "    pre3.append(c)"
   ]
  },
  {
   "cell_type": "code",
   "execution_count": 44,
   "metadata": {},
   "outputs": [
    {
     "name": "stdout",
     "output_type": "stream",
     "text": [
      "1\n",
      "14\n",
      "20\n",
      "43\n",
      "0\n",
      "122\n"
     ]
    }
   ],
   "source": [
    "for i in range(6):\n",
    "    print(pre3.count(i))"
   ]
  },
  {
   "cell_type": "code",
   "execution_count": null,
   "metadata": {},
   "outputs": [],
   "source": []
  },
  {
   "cell_type": "code",
   "execution_count": null,
   "metadata": {},
   "outputs": [],
   "source": []
  },
  {
   "cell_type": "code",
   "execution_count": null,
   "metadata": {},
   "outputs": [],
   "source": []
  },
  {
   "cell_type": "code",
   "execution_count": null,
   "metadata": {},
   "outputs": [],
   "source": []
  },
  {
   "cell_type": "code",
   "execution_count": 12,
   "metadata": {},
   "outputs": [],
   "source": [
    "#黏貼  4\n",
    "pre4=[]\n",
    "\n",
    "for d in range(4000,4200):\n",
    "    img = cv2.imread(image_name[d])\n",
    "    img = cv2.cvtColor(img, cv2.COLOR_BGR2GRAY)\n",
    "    height  = width = int(200/100)\n",
    "    \n",
    "    image_storage = []\n",
    "    for a in range(2):\n",
    "        for j in range(2):\n",
    "            image_ = img[(a*100):100*(a+1),(j*100):100*(j+1)]\n",
    "            image_storage.append(image_)\n",
    "            \n",
    "    for i in range(0,4):\n",
    "        image_storage[i]= image_storage[i].reshape(1,100,100,1)\n",
    "        \n",
    "    ans=[]    \n",
    "    for j in range(4):\n",
    "        c = model.predict(x = image_storage[j]) #要loadmodel\n",
    "       # print(c)\n",
    "        c = np.argmax(c)\n",
    "        ans.append(c)\n",
    "    #print(ans)    \n",
    "    counts = np.bincount(ans)\n",
    "    predict=np.argmax(counts)\n",
    "    #print(predict)\n",
    "    pre4.append(predict)"
   ]
  },
  {
   "cell_type": "code",
   "execution_count": 13,
   "metadata": {},
   "outputs": [
    {
     "name": "stdout",
     "output_type": "stream",
     "text": [
      "11\n",
      "7\n",
      "19\n",
      "9\n",
      "0\n",
      "154\n"
     ]
    }
   ],
   "source": [
    "for i in range(6):\n",
    "    print(pre4.count(i))"
   ]
  },
  {
   "cell_type": "code",
   "execution_count": 45,
   "metadata": {},
   "outputs": [],
   "source": [
    "#  貼 9\n",
    "\n",
    "pre4=[]\n",
    "\n",
    "for d in range(4000,4200):\n",
    "    img = cv2.imread(image_name[d])\n",
    "    img = cv2.cvtColor(img, cv2.COLOR_BGR2GRAY)\n",
    "    \n",
    "    \n",
    "    image_storage = []\n",
    "    for a in range(3): # 012\n",
    "        for j in range(3):\n",
    "            image_ = img[(0+50*a):(100+50*a),(0+50*j):(100+50*j)]\n",
    "            image_storage.append(image_)\n",
    "            \n",
    "    for i in range(0,9):\n",
    "        image_storage[i]= image_storage[i].reshape(1,100,100,1)\n",
    "        \n",
    "    ans=[]    \n",
    "    for j in range(9):\n",
    "        c = model.predict(x = image_storage[j]) #要loadmodel\n",
    "       # print(c)\n",
    "        c = np.argmax(c)\n",
    "        ans.append(c)\n",
    "    #print(ans)    \n",
    "    counts = np.bincount(ans)\n",
    "    predict=np.argmax(counts)\n",
    "    #print(predict)\n",
    "    pre4.append(predict)"
   ]
  },
  {
   "cell_type": "code",
   "execution_count": 46,
   "metadata": {},
   "outputs": [
    {
     "name": "stdout",
     "output_type": "stream",
     "text": [
      "2\n",
      "7\n",
      "13\n",
      "5\n",
      "0\n",
      "173\n"
     ]
    }
   ],
   "source": [
    "for i in range(6):\n",
    "    print(pre4.count(i))"
   ]
  },
  {
   "cell_type": "code",
   "execution_count": 47,
   "metadata": {},
   "outputs": [],
   "source": [
    "# 貼 25張\n",
    "\n",
    "pre4=[]\n",
    "\n",
    "for d in range(4000,4200):\n",
    "    img = cv2.imread(image_name[d])\n",
    "    img = cv2.cvtColor(img, cv2.COLOR_BGR2GRAY)\n",
    "    \n",
    "    \n",
    "    image_storage = []\n",
    "    for a in range(5): # 0123\n",
    "        for j in range(5):\n",
    "            image_ = img[(a*25):100+25*a,(j*25):100+25*j]\n",
    "            image_storage.append(image_)\n",
    "            \n",
    "    for i in range(0,25):\n",
    "        image_storage[i]= image_storage[i].reshape(1,100,100,1)\n",
    "        \n",
    "    ans=[]    \n",
    "    for j in range(25):\n",
    "        c = model.predict(x = image_storage[j]) #要loadmodel\n",
    "       # print(c)\n",
    "        c = np.argmax(c)\n",
    "        ans.append(c)\n",
    "    #print(ans)    \n",
    "    counts = np.bincount(ans)\n",
    "    predict=np.argmax(counts)\n",
    "    #print(predict)\n",
    "    pre4.append(predict)"
   ]
  },
  {
   "cell_type": "code",
   "execution_count": 48,
   "metadata": {},
   "outputs": [
    {
     "name": "stdout",
     "output_type": "stream",
     "text": [
      "1\n",
      "9\n",
      "20\n",
      "2\n",
      "0\n",
      "168\n"
     ]
    }
   ],
   "source": [
    "for i in range(6):\n",
    "    print(pre4.count(i))"
   ]
  },
  {
   "cell_type": "code",
   "execution_count": 4,
   "metadata": {},
   "outputs": [],
   "source": [
    "# 貼 36 張\n",
    "\n",
    "pre4=[]\n",
    "\n",
    "for d in range(4000,4200):\n",
    "    img = cv2.imread(image_name[d])\n",
    "    img = cv2.cvtColor(img, cv2.COLOR_BGR2GRAY)\n",
    "    \n",
    "    \n",
    "    image_storage = []\n",
    "    for a in range(6): # 012345\n",
    "        for j in range(6):\n",
    "            image_ = img[(a*20):100+20*a,(j*20):100+20*j]\n",
    "            image_storage.append(image_)\n",
    "            \n",
    "    for i in range(0,36):\n",
    "        image_storage[i]= image_storage[i].reshape(1,100,100,1)\n",
    "        \n",
    "    ans=[]    \n",
    "    for j in range(36):\n",
    "        c = model.predict(x = image_storage[j]) #要loadmodel\n",
    "       # print(c)\n",
    "        c = np.argmax(c)\n",
    "        ans.append(c)\n",
    "    #print(ans)    \n",
    "    counts = np.bincount(ans)\n",
    "    predict=np.argmax(counts)\n",
    "    #print(predict)\n",
    "    pre4.append(predict)"
   ]
  },
  {
   "cell_type": "code",
   "execution_count": 5,
   "metadata": {},
   "outputs": [
    {
     "name": "stdout",
     "output_type": "stream",
     "text": [
      "0\n",
      "1\n",
      "2\n",
      "4\n",
      "0\n",
      "193\n"
     ]
    }
   ],
   "source": [
    "for i in range(6):\n",
    "    print(pre4.count(i))"
   ]
  },
  {
   "cell_type": "code",
   "execution_count": 11,
   "metadata": {},
   "outputs": [],
   "source": [
    "#貼  切中間\n",
    "\n",
    "pre4=[]\n",
    "\n",
    "for d in range(4000,4200):\n",
    "    img = cv2.imread(image_name[d])\n",
    "    img = cv2.cvtColor(img, cv2.COLOR_BGR2GRAY)\n",
    "    \n",
    " \n",
    "   \n",
    "    image_ = img[50:150,50:150].reshape(1,100,100,1)\n",
    "    c = model.predict(x = image_) #要loadmodel\n",
    "    c = np.argmax(c)\n",
    "    #print(predict)\n",
    "    pre4.append(c)"
   ]
  },
  {
   "cell_type": "code",
   "execution_count": 12,
   "metadata": {},
   "outputs": [
    {
     "name": "stdout",
     "output_type": "stream",
     "text": [
      "0\n",
      "15\n",
      "5\n",
      "7\n",
      "0\n",
      "173\n"
     ]
    }
   ],
   "source": [
    "for i in range(6):\n",
    "    print(pre4.count(i))"
   ]
  },
  {
   "cell_type": "code",
   "execution_count": null,
   "metadata": {},
   "outputs": [],
   "source": []
  },
  {
   "cell_type": "code",
   "execution_count": null,
   "metadata": {},
   "outputs": [],
   "source": []
  },
  {
   "cell_type": "code",
   "execution_count": 14,
   "metadata": {},
   "outputs": [],
   "source": [
    "# 原圖 4\n",
    "\n",
    "pre5=[]\n",
    "\n",
    "for d in range(5000,5200):\n",
    "    img = cv2.imread(image_name[d])\n",
    "    img = cv2.cvtColor(img, cv2.COLOR_BGR2GRAY)\n",
    "    height  = width = int(200/100)\n",
    "    \n",
    "    image_storage = []\n",
    "    for a in range(2):\n",
    "        for j in range(2):\n",
    "            image_ = img[(a*100):100*(a+1),(j*100):100*(j+1)]\n",
    "            image_storage.append(image_)\n",
    "            \n",
    "    for i in range(0,4):\n",
    "        image_storage[i]= image_storage[i].reshape(1,100,100,1)\n",
    "        \n",
    "    ans=[]    \n",
    "    for j in range(4):\n",
    "        c = model.predict(x = image_storage[j]) #要loadmodel\n",
    "       # print(c)\n",
    "        c = np.argmax(c)\n",
    "        ans.append(c)\n",
    "    #print(ans)    \n",
    "    counts = np.bincount(ans)\n",
    "    predict=np.argmax(counts)\n",
    "    #print(predict)\n",
    "    pre5.append(predict)"
   ]
  },
  {
   "cell_type": "code",
   "execution_count": 15,
   "metadata": {},
   "outputs": [
    {
     "name": "stdout",
     "output_type": "stream",
     "text": [
      "10\n",
      "11\n",
      "25\n",
      "9\n",
      "0\n",
      "145\n"
     ]
    }
   ],
   "source": [
    "for i in range(6):\n",
    "    print(pre5.count(i))"
   ]
  },
  {
   "cell_type": "code",
   "execution_count": 13,
   "metadata": {},
   "outputs": [],
   "source": [
    "#  原 9\n",
    "\n",
    "pre5=[]\n",
    "\n",
    "for d in range(5000,5200):\n",
    "    img = cv2.imread(image_name[d])\n",
    "    img = cv2.cvtColor(img, cv2.COLOR_BGR2GRAY)\n",
    "    \n",
    "    \n",
    "    image_storage = []\n",
    "    for a in range(3): # 012\n",
    "        for j in range(3):\n",
    "            image_ = img[(0+50*a):(100+50*a),(0+50*j):(100+50*j)]\n",
    "            image_storage.append(image_)\n",
    "            \n",
    "    for i in range(0,9):\n",
    "        image_storage[i]= image_storage[i].reshape(1,100,100,1)\n",
    "        \n",
    "    ans=[]    \n",
    "    for j in range(9):\n",
    "        c = model.predict(x = image_storage[j]) #要loadmodel\n",
    "       # print(c)\n",
    "        c = np.argmax(c)\n",
    "        ans.append(c)\n",
    "    #print(ans)    \n",
    "    counts = np.bincount(ans)\n",
    "    predict=np.argmax(counts)\n",
    "    #print(predict)\n",
    "    pre5.append(predict)"
   ]
  },
  {
   "cell_type": "code",
   "execution_count": 14,
   "metadata": {},
   "outputs": [
    {
     "name": "stdout",
     "output_type": "stream",
     "text": [
      "6\n",
      "17\n",
      "21\n",
      "3\n",
      "0\n",
      "153\n"
     ]
    }
   ],
   "source": [
    "for i in range(6):\n",
    "    print(pre5.count(i))"
   ]
  },
  {
   "cell_type": "code",
   "execution_count": 15,
   "metadata": {},
   "outputs": [],
   "source": [
    "# 原 25張\n",
    "\n",
    "pre5=[]\n",
    "\n",
    "for d in range(5000,5200):\n",
    "    img = cv2.imread(image_name[d])\n",
    "    img = cv2.cvtColor(img, cv2.COLOR_BGR2GRAY)\n",
    "    \n",
    "    \n",
    "    image_storage = []\n",
    "    for a in range(5): # 0123\n",
    "        for j in range(5):\n",
    "            image_ = img[(a*25):100+25*a,(j*25):100+25*j]\n",
    "            image_storage.append(image_)\n",
    "            \n",
    "    for i in range(0,25):\n",
    "        image_storage[i]= image_storage[i].reshape(1,100,100,1)\n",
    "        \n",
    "    ans=[]    \n",
    "    for j in range(25):\n",
    "        c = model.predict(x = image_storage[j]) #要loadmodel\n",
    "       # print(c)\n",
    "        c = np.argmax(c)\n",
    "        ans.append(c)\n",
    "    #print(ans)    \n",
    "    counts = np.bincount(ans)\n",
    "    predict=np.argmax(counts)\n",
    "    #print(predict)\n",
    "    pre5.append(predict)"
   ]
  },
  {
   "cell_type": "code",
   "execution_count": 17,
   "metadata": {},
   "outputs": [
    {
     "name": "stdout",
     "output_type": "stream",
     "text": [
      "5\n",
      "31\n",
      "65\n",
      "7\n",
      "0\n",
      "92\n"
     ]
    }
   ],
   "source": [
    "for i in range(6):\n",
    "    print(pre5.count(i))"
   ]
  },
  {
   "cell_type": "code",
   "execution_count": 18,
   "metadata": {},
   "outputs": [],
   "source": [
    "# 原 36 張\n",
    "\n",
    "pre5=[]\n",
    "\n",
    "for d in range(5000,5200):\n",
    "    img = cv2.imread(image_name[d])\n",
    "    img = cv2.cvtColor(img, cv2.COLOR_BGR2GRAY)\n",
    "    \n",
    "    \n",
    "    image_storage = []\n",
    "    for a in range(6): # 012345\n",
    "        for j in range(6):\n",
    "            image_ = img[(a*20):100+20*a,(j*20):100+20*j]\n",
    "            image_storage.append(image_)\n",
    "            \n",
    "    for i in range(0,36):\n",
    "        image_storage[i]= image_storage[i].reshape(1,100,100,1)\n",
    "        \n",
    "    ans=[]    \n",
    "    for j in range(36):\n",
    "        c = model.predict(x = image_storage[j]) #要loadmodel\n",
    "       # print(c)\n",
    "        c = np.argmax(c)\n",
    "        ans.append(c)\n",
    "    #print(ans)    \n",
    "    counts = np.bincount(ans)\n",
    "    predict=np.argmax(counts)\n",
    "    #print(predict)\n",
    "    pre5.append(predict)"
   ]
  },
  {
   "cell_type": "code",
   "execution_count": 19,
   "metadata": {},
   "outputs": [
    {
     "name": "stdout",
     "output_type": "stream",
     "text": [
      "4\n",
      "5\n",
      "7\n",
      "3\n",
      "0\n",
      "181\n"
     ]
    }
   ],
   "source": [
    "for i in range(6):\n",
    "    print(pre5.count(i))"
   ]
  },
  {
   "cell_type": "code",
   "execution_count": 20,
   "metadata": {},
   "outputs": [],
   "source": [
    "#原  切中間\n",
    "\n",
    "pre5=[]\n",
    "\n",
    "for d in range(5000,5200):\n",
    "    img = cv2.imread(image_name[d])\n",
    "    img = cv2.cvtColor(img, cv2.COLOR_BGR2GRAY)\n",
    "    \n",
    " \n",
    "   \n",
    "    image_ = img[50:150,50:150].reshape(1,100,100,1)\n",
    "    c = model.predict(x = image_) #要loadmodel\n",
    "    c = np.argmax(c)\n",
    "    #print(predict)\n",
    "    pre5.append(c)"
   ]
  },
  {
   "cell_type": "code",
   "execution_count": 21,
   "metadata": {},
   "outputs": [
    {
     "name": "stdout",
     "output_type": "stream",
     "text": [
      "5\n",
      "31\n",
      "65\n",
      "7\n",
      "0\n",
      "92\n"
     ]
    }
   ],
   "source": [
    "for i in range(6):\n",
    "    print(pre5.count(i))"
   ]
  },
  {
   "cell_type": "code",
   "execution_count": null,
   "metadata": {},
   "outputs": [],
   "source": []
  },
  {
   "cell_type": "code",
   "execution_count": null,
   "metadata": {},
   "outputs": [],
   "source": []
  },
  {
   "cell_type": "code",
   "execution_count": null,
   "metadata": {},
   "outputs": [],
   "source": []
  },
  {
   "cell_type": "code",
   "execution_count": 4,
   "metadata": {},
   "outputs": [
    {
     "name": "stdout",
     "output_type": "stream",
     "text": [
      "Images are all in read_images\n"
     ]
    },
    {
     "data": {
      "text/plain": [
       "1"
      ]
     },
     "execution_count": 4,
     "metadata": {},
     "output_type": "execute_result"
    }
   ],
   "source": [
    "#50*50 resize\n",
    "path=r'C:\\\\Users\\\\tommt\\\\Desktop\\\\50x50'\n",
    "folder_list =[]\n",
    "folder = glob.glob(path)\n",
    "for folder in folder :\n",
    "    for name in glob.glob(folder+'/*'):\n",
    "        folder_list.append(name)\n",
    "\n",
    "image_name =[]\n",
    "for folder in folder_list:\n",
    "    for name in glob.glob(folder+'/*.jpg') :\n",
    "        image_name.append(name)\n",
    "        \n",
    "read_images = []\n",
    "for image in image_name:\n",
    "    img = cv2.imread(image)\n",
    "    img = cv2.cvtColor(img, cv2.COLOR_BGR2GRAY)\n",
    "    read_images.append(img)\n",
    "print ('Images are all in read_images')\n",
    "            \n",
    "#resize to 100*100\n",
    "for j in range(0,5999):\n",
    "    read_images[j] = cv2.resize(read_images[j], (100, 100), interpolation=cv2.INTER_CUBIC)\n",
    "for i in range(0,5999):\n",
    "    read_images[i]= read_images[i].reshape(1,100,100,1)\n",
    "\n",
    "\n",
    "ans = []\n",
    "for j in range(5001,5999):#改成自己想看的圖片範圍\n",
    "        c = model.predict(x = read_images[j])\n",
    "        c = np.argmax(c)\n",
    "        ans.append(c)  \n",
    "stats.mode(ans)[0][0]#取mode\n"
   ]
  },
  {
   "cell_type": "code",
   "execution_count": 5,
   "metadata": {},
   "outputs": [
    {
     "name": "stdout",
     "output_type": "stream",
     "text": [
      "Images are all in read_images\n",
      "87\n",
      "2\n",
      "86\n",
      "588\n",
      "0\n",
      "235\n"
     ]
    }
   ],
   "source": [
    "#50*50 resize np.pad()\n",
    "path=r'C:\\\\Users\\\\tommt\\\\Desktop\\\\50x50'\n",
    "folder_list =[]\n",
    "folder = glob.glob(path)\n",
    "for folder in folder :\n",
    "    for name in glob.glob(folder+'/*'):\n",
    "        folder_list.append(name)\n",
    "\n",
    "image_name =[]\n",
    "for folder in folder_list:\n",
    "    for name in glob.glob(folder+'/*.jpg') :\n",
    "        image_name.append(name)\n",
    "        \n",
    "read_images = []\n",
    "for image in image_name:\n",
    "    img = cv2.imread(image)\n",
    "    img = cv2.cvtColor(img, cv2.COLOR_BGR2GRAY)\n",
    "    img = np.pad(img,((25,25),(25,25)),'constant',constant_values = (0,0)) \n",
    "    read_images.append(img)\n",
    "print ('Images are all in read_images')\n",
    "for i in range(0,5999):\n",
    "    read_images[i]= read_images[i].reshape(1,100,100,1)\n",
    "ans = []\n",
    "for j in range(5001,5999):\n",
    "    c = model.predict(x = read_images[j])\n",
    "    c = np.argmax(c)\n",
    "    ans.append(c)   \n",
    "for i in range(6):\n",
    "    print(ans.count(i))"
   ]
  },
  {
   "cell_type": "code",
   "execution_count": null,
   "metadata": {},
   "outputs": [],
   "source": []
  }
 ],
 "metadata": {
  "kernelspec": {
   "display_name": "Python 3",
   "language": "python",
   "name": "python3"
  },
  "language_info": {
   "codemirror_mode": {
    "name": "ipython",
    "version": 3
   },
   "file_extension": ".py",
   "mimetype": "text/x-python",
   "name": "python",
   "nbconvert_exporter": "python",
   "pygments_lexer": "ipython3",
   "version": "3.7.6"
  }
 },
 "nbformat": 4,
 "nbformat_minor": 2
}
